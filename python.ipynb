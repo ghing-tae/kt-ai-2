{
  "cells": [
    {
      "cell_type": "markdown",
      "metadata": {
        "id": "view-in-github",
        "colab_type": "text"
      },
      "source": [
        "<a href=\"https://colab.research.google.com/github/ghing-tae/kt-ai-2/blob/master/python.ipynb\" target=\"_parent\"><img src=\"https://colab.research.google.com/assets/colab-badge.svg\" alt=\"Open In Colab\"/></a>"
      ]
    },
    {
      "cell_type": "markdown",
      "metadata": {
        "id": "ZLqxbGjLhZaZ"
      },
      "source": [
        "## python과 알고리즘 문제 정리\n",
        "*   네 정수의 최댓값 구하기"
      ]
    },
    {
      "cell_type": "code",
      "execution_count": null,
      "metadata": {
        "colab": {
          "background_save": true,
          "base_uri": "https://localhost:8080/"
        },
        "id": "FRaWxtdLhniG",
        "outputId": "279706fd-5294-4e52-c208-3f125da04d59"
      },
      "outputs": [
        {
          "name": "stdout",
          "output_type": "stream",
          "text": [
            "네 정수의 최댓값을 구합니다. \n"
          ]
        }
      ],
      "source": [
        "def max4(a, b, c, d):\n",
        "  maximum = a\n",
        "  if b > maximum:\n",
        "    maximum = b\n",
        "  if c > maximum:\n",
        "    maximum = c\n",
        "  if d > maximum:\n",
        "    maximum = d\n",
        "  return maximum\n",
        "\n",
        "print('네 정수의 최댓값을 구합니다. ')\n",
        "a = int(input('정수 a값을 입력하세요. : '))\n",
        "b = int(input('정수 b값을 입력하세요. : '))\n",
        "c = int(input('정수 c값을 입력하세요. : '))\n",
        "d = int(input('정수 d값을 입력하세요. : '))\n",
        "print(f'최댓값 : {max4(a,b,c,d)}')"
      ]
    },
    {
      "cell_type": "markdown",
      "metadata": {
        "id": "yIh37GYHhuGh"
      },
      "source": [
        "*   a부터 b까지 정수의 합을 구합니다."
      ]
    },
    {
      "cell_type": "code",
      "execution_count": null,
      "metadata": {
        "id": "4SeRazBchqSw"
      },
      "outputs": [],
      "source": [
        "print('a부터 b까지 정수의 합을 구합니다. ')\n",
        "\n",
        "def sum_ab(a,b):\n",
        "  sum_ab = 0\n",
        "  if a > b:\n",
        "    a,b = b,a\n",
        "  for i in range(a,b+1):\n",
        "    sum_ab += i\n",
        "  return sum_ab\n",
        "\n",
        "a = int(input('a의 값을 입력하세요. : '))\n",
        "b = int(input('b의 값을 입력하세요. : '))\n",
        "print(f'정수의 합은 : {sum_ab(a,b)}')"
      ]
    },
    {
      "cell_type": "markdown",
      "metadata": {
        "id": "B4cVB_Eeh3Gy"
      },
      "source": [
        "*   *를 출력하는 코드를 작성하세요."
      ]
    },
    {
      "cell_type": "code",
      "execution_count": null,
      "metadata": {
        "id": "xcpEXlsoh4Bv"
      },
      "outputs": [],
      "source": [
        "print('*를 출력합니다.')\n",
        "def ch_prt(a,b):\n",
        "  for _ in range(a//b):\n",
        "    for _ in range(b):\n",
        "      print('*', end='')\n",
        "    print()\n",
        "  print('*'*(a%b))\n",
        "a = int(input('몇 개를 출력할까요? : '))\n",
        "b = int(input('몇 개마다 줄바꿈을 할까요? : '))\n",
        "ch_prt(a,b)"
      ]
    },
    {
      "cell_type": "markdown",
      "metadata": {
        "id": "NFlAdCthh98W"
      },
      "source": [
        "*   1부터 n까지 정수의 합을 구하시오. (무한루프와 break를 사용) "
      ]
    },
    {
      "cell_type": "code",
      "execution_count": null,
      "metadata": {
        "id": "hFJUSlQ1iBtQ"
      },
      "outputs": [],
      "source": [
        "print('1부터 n까지 정수의 합을 구합니다.')\n",
        "def n_sum(a):\n",
        "  while 1:   \n",
        "    if a > 0:\n",
        "      break\n",
        "    a = int(input('n의 값을 입력하세요. : '))\n",
        "  sum_n = 0\n",
        "  for i in range(1,a+1):\n",
        "    sum_n += i\n",
        "  return sum_n\n",
        "n = int(input('n의 값을 입력하세요. : '))\n",
        "print(f'정수의 합은 : {n_sum(n)}')"
      ]
    },
    {
      "cell_type": "markdown",
      "metadata": {
        "id": "Q8RLN71tiF93"
      },
      "source": [
        "*   직사각형의 넓이를 입력받으면 가로와 세로를 구하는 함수를 작성하세요. (중복되는 것 없이 출력되게 하시오)"
      ]
    },
    {
      "cell_type": "code",
      "execution_count": null,
      "metadata": {
        "id": "pNiWq2CAiKJE"
      },
      "outputs": [],
      "source": [
        "n = int(input('직사각형의 넓이를 적으세요. : '))\n",
        "def area(n):\n",
        "  for i in range(1,n+1):\n",
        "    if i * i > n:break\n",
        "    if n % i:continue\n",
        "    print(f'{i} * {n//i}')\n",
        "area(n)"
      ]
    },
    {
      "cell_type": "markdown",
      "metadata": {
        "id": "rSFZKcv2Pn1C"
      },
      "source": [
        "- 1차원 배열 만들기"
      ]
    },
    {
      "cell_type": "code",
      "execution_count": null,
      "metadata": {
        "colab": {
          "base_uri": "https://localhost:8080/"
        },
        "id": "mHnX3QrMPmGo",
        "outputId": "704deee2-0346-4c9a-d1fb-c16761c4b336"
      },
      "outputs": [
        {
          "name": "stdout",
          "output_type": "stream",
          "text": [
            "[1, 2, 3, 4, 5]\n",
            "[1 2 3 4 5]\n"
          ]
        }
      ],
      "source": [
        "# 1차원 리스트\n",
        "a1 = [1,2,3,4,5]\n",
        "\n",
        "# 배열로 변환\n",
        "b1 = np.array(a1)\n",
        "\n",
        "# 확인\n",
        "print(a1)\n",
        "print(b1)"
      ]
    },
    {
      "cell_type": "markdown",
      "metadata": {
        "id": "ng1W-VUwWs3a"
      },
      "source": [
        "- 2차원 배열 만들기"
      ]
    },
    {
      "cell_type": "code",
      "execution_count": null,
      "metadata": {
        "colab": {
          "base_uri": "https://localhost:8080/"
        },
        "id": "G-oWS39ZWqcq",
        "outputId": "7e40eaea-7126-4ccc-b285-3d9c75f15116"
      },
      "outputs": [
        {
          "name": "stdout",
          "output_type": "stream",
          "text": [
            "[[1.5, 2.5, 3.2], [4.2, 5.7, 6.4]]\n",
            "[[1.5 2.5 3.2]\n",
            " [4.2 5.7 6.4]]\n"
          ]
        }
      ],
      "source": [
        "# 2차원 리스트\n",
        "a2 =[[1.5, 2.5, 3.2],[4.2, 5.7, 6.4]]\n",
        "\n",
        "# 배열로 변환\n",
        "b2 = np.array(a2)\n",
        "\n",
        "# 확인\n",
        "print(a2)\n",
        "print(b2)"
      ]
    },
    {
      "cell_type": "markdown",
      "metadata": {
        "id": "-cGjEnwvXGGZ"
      },
      "source": [
        "- 3차원 배열 만들기"
      ]
    },
    {
      "cell_type": "code",
      "execution_count": null,
      "metadata": {
        "colab": {
          "base_uri": "https://localhost:8080/"
        },
        "id": "cZrPAu3dXCg0",
        "outputId": "4e03568a-c90e-46f6-bf05-15b5c0f4caab"
      },
      "outputs": [
        {
          "name": "stdout",
          "output_type": "stream",
          "text": [
            "[[[1 2 3]\n",
            "  [4 7 6]\n",
            "  [8 3 4]]\n",
            "\n",
            " [[6 2 4]\n",
            "  [8 1 5]\n",
            "  [3 5 9]]]\n"
          ]
        }
      ],
      "source": [
        "# 3차원 리스트\n",
        "a3 = [[[1,2,3,],[4,7,6],[8,3,4]],[[6, 2, 4],[8,1,5],[3,5,9]]]\n",
        "# 배열로 변환\n",
        "b3 = np.array(a3)\n",
        "# 확인\n",
        "print(b3)"
      ]
    },
    {
      "cell_type": "markdown",
      "metadata": {
        "id": "jNWAcQM1X6Vp"
      },
      "source": [
        "1. 차원 확인\n",
        "- ndim 속성으로 배열 차원을 확인합니다."
      ]
    },
    {
      "cell_type": "code",
      "execution_count": null,
      "metadata": {
        "colab": {
          "base_uri": "https://localhost:8080/"
        },
        "id": "ebY36mhkXlbf",
        "outputId": "7846a70f-c31f-4e02-ab86-51d84bfdf194"
      },
      "outputs": [
        {
          "name": "stdout",
          "output_type": "stream",
          "text": [
            "1\n",
            "2\n",
            "3\n"
          ]
        }
      ],
      "source": [
        "# 차원 확인\n",
        "print(b1.ndim)\n",
        "print(b2.ndim)\n",
        "print(b3.ndim)"
      ]
    },
    {
      "cell_type": "markdown",
      "metadata": {
        "id": "vnCFMDbnYTSF"
      },
      "source": [
        "2. 형태(크기) 확인\n",
        "- shape 속성으로 배열 형태를 확인합니다.\n",
        "- 결과는 다음과 같은 형태의 튜블로 표시됩니다.\n",
        "  - 1차원 : (x,)\n",
        "  - 2차원 : (x,y)\n",
        "  - 3차원 : (x,y,z)\n",
        "- 앞에서 부터 axis 0, axis 1, axis 2의 크기를 의미합니다."
      ]
    },
    {
      "cell_type": "code",
      "execution_count": null,
      "metadata": {
        "colab": {
          "base_uri": "https://localhost:8080/"
        },
        "id": "gHbvtFBIYR31",
        "outputId": "0e7c437f-2a31-46da-9a14-d1fd06ae85d9"
      },
      "outputs": [
        {
          "name": "stdout",
          "output_type": "stream",
          "text": [
            "(5,)\n",
            "(2, 3)\n",
            "(2, 3, 3)\n"
          ]
        }
      ],
      "source": [
        "# 형태(크기) 확인\n",
        "print(b1.shape)\n",
        "print(b2.shape)\n",
        "print(b3.shape)"
      ]
    },
    {
      "cell_type": "markdown",
      "metadata": {
        "id": "6_zoS0wpY307"
      },
      "source": [
        "3. 요소 자료형 확인\n",
        "- dtype 속성으로 배열에 포함된 요소들의 자료형을 확인합니다.\n",
        "- 배열은 한 가지 자료형만 가질 수 있다는 특징이 있습니다."
      ]
    },
    {
      "cell_type": "code",
      "execution_count": null,
      "metadata": {
        "colab": {
          "base_uri": "https://localhost:8080/"
        },
        "id": "HNpIpIl4Y24A",
        "outputId": "eac9f876-40dc-4476-f844-a49f3e0f37c6"
      },
      "outputs": [
        {
          "name": "stdout",
          "output_type": "stream",
          "text": [
            "int64\n",
            "float64\n",
            "int64\n"
          ]
        }
      ],
      "source": [
        "# 요소 자료형 확인\n",
        "print(b1.dtype)\n",
        "print(b2.dtype)\n",
        "print(b3.dtype)"
      ]
    },
    {
      "cell_type": "markdown",
      "metadata": {
        "id": "9D8xoEfXZNpu"
      },
      "source": [
        "### 연습문제\n",
        "- numpy 라이브러리를 np 별칭을 주어 불러오세요.\n",
        "- 데이터를 갖는 1차원 배열을 만든 후 ndim,shape,dtype을 확인해 보세요.\n",
        "  - c1 = np.array([10, 11, 12, 13, 14, 15])\n",
        "- 다음에 주어진 리스트를 요소로 갖는 2차원 배열을 만든 후 ndim,shape,dtype을 확인해 보세요.\n",
        "  - a = [[11, 12, 13, 14], [15, 16, 17, 18], [19, 20, 21, 22]]"
      ]
    },
    {
      "cell_type": "code",
      "execution_count": null,
      "metadata": {
        "id": "yLN_jv_dZKxD"
      },
      "outputs": [],
      "source": [
        "import numpy as np"
      ]
    },
    {
      "cell_type": "code",
      "execution_count": null,
      "metadata": {
        "colab": {
          "base_uri": "https://localhost:8080/"
        },
        "id": "btmO1PXkZ4y8",
        "outputId": "289f252e-05da-4e88-a346-e871c23508be"
      },
      "outputs": [
        {
          "name": "stdout",
          "output_type": "stream",
          "text": [
            "1\n",
            "(6,)\n",
            "int64\n"
          ]
        }
      ],
      "source": [
        "c1 = np.array([10,11,12,13,14,15])\n",
        "print(c1.ndim)\n",
        "print(c1.shape)\n",
        "print(c1.dtype)"
      ]
    },
    {
      "cell_type": "code",
      "execution_count": null,
      "metadata": {
        "colab": {
          "base_uri": "https://localhost:8080/"
        },
        "id": "yhnl9fMzaCcO",
        "outputId": "b017c5fd-aef9-466b-d03d-c7e013663e3d"
      },
      "outputs": [
        {
          "name": "stdout",
          "output_type": "stream",
          "text": [
            "2\n",
            "(3, 4)\n",
            "int64\n"
          ]
        }
      ],
      "source": [
        "a = np.array([[11,12,13,14],[15,16,17,18],[19,20,21,22]])\n",
        "print(a.ndim)\n",
        "print(a.shape)\n",
        "print(a.dtype)"
      ]
    },
    {
      "cell_type": "markdown",
      "metadata": {
        "id": "D4IvQShbalzF"
      },
      "source": [
        "- Reshape\n",
        "  - 배열에 포함된 요소가 사라지지 않는 형태라면 자유롭게 변환할 수 있습니다."
      ]
    },
    {
      "cell_type": "code",
      "execution_count": null,
      "metadata": {
        "colab": {
          "base_uri": "https://localhost:8080/"
        },
        "id": "keBgTMbdaHId",
        "outputId": "79480a48-5c5a-4700-d659-0305379805dc"
      },
      "outputs": [
        {
          "data": {
            "text/plain": [
              "array([[11, 12, 13, 14, 15, 16],\n",
              "       [17, 18, 19, 20, 21, 22]])"
            ]
          },
          "execution_count": 13,
          "metadata": {},
          "output_type": "execute_result"
        }
      ],
      "source": [
        "# import numpy as np\n",
        "a.reshape(2,-1)"
      ]
    },
    {
      "cell_type": "markdown",
      "metadata": {
        "id": "5gG_eLJAbheo"
      },
      "source": [
        "### [참조] 3차원 배열(이미지 데이터셋)\n",
        "- 보통 이미지 데이터는 3차원 배열로 구성하고 처리합니다.\n",
        "- 여기서는 3차원 배열 데이터를 간단히 만들고 내용을 살짝 조회해 보겠습니다."
      ]
    },
    {
      "cell_type": "code",
      "execution_count": null,
      "metadata": {
        "id": "Xsr-4OGQbuww"
      },
      "outputs": [],
      "source": [
        "import matplotlib.pyplot as plt\n",
        "np.set_printoptions(linewidth=np.inf)"
      ]
    },
    {
      "cell_type": "code",
      "execution_count": null,
      "metadata": {
        "id": "SVM1gfJtbLEK"
      },
      "outputs": [],
      "source": [
        "# 데이터 가져와서 3차원으로 구성하기\n",
        "data = np.genfromtxt('https://raw.githubusercontent.com/DA4BAM/dataset/master/mnist_sample.csv', delimiter=',', skip_header = 1)\n",
        "d3 = data.reshape(-1,28,28) # 28*28 데이터 n개"
      ]
    },
    {
      "cell_type": "code",
      "execution_count": null,
      "metadata": {
        "colab": {
          "base_uri": "https://localhost:8080/"
        },
        "id": "6r3PWDxRcYRf",
        "outputId": "de5cf052-9fb1-4d00-fe5b-0f43e1373459"
      },
      "outputs": [
        {
          "data": {
            "text/plain": [
              "(100, 28, 28)"
            ]
          },
          "execution_count": 16,
          "metadata": {},
          "output_type": "execute_result"
        }
      ],
      "source": [
        "d3.shape"
      ]
    },
    {
      "cell_type": "code",
      "execution_count": null,
      "metadata": {
        "colab": {
          "base_uri": "https://localhost:8080/",
          "height": 1000
        },
        "id": "CXyraPBxcbfo",
        "outputId": "4a2f09d7-bbcc-42b7-bbdb-d17ab48d6a7c"
      },
      "outputs": [
        {
          "data": {
            "text/plain": [
              "array([[  0.,   0.,   0.,   0.,   0.,   0.,   0.,   0.,   0.,   0.,   0.,   0.,   0.,   0.,   0.,   0.,   0.,   0.,   0.,   0.,   0.,   0.,   0.,   0.,   0.,   0.,   0.,   0.],\n",
              "       [  0.,   0.,   0.,   0.,   0.,   0.,   0.,   0.,   0.,   0.,   0.,   0.,   0.,   0.,   0.,   0.,   0.,   0.,   0.,   0.,   0.,   0.,   0.,   0.,   0.,   0.,   0.,   0.],\n",
              "       [  0.,   0.,   0.,   0.,   0.,   0.,   0.,   0.,   0.,   0.,   0.,   0.,   0.,   0.,   0.,   0.,   0.,   0.,   0.,   0.,   0.,   0.,   0.,   0.,   0.,   0.,   0.,   0.],\n",
              "       [  0.,   0.,   0.,   0.,   0.,   0.,   0.,   0.,   0.,   0.,   0.,   0.,   0.,   0.,   0.,   0.,   0.,   0.,   0.,   0.,   0.,   0.,   0.,   0.,   0.,   0.,   0.,   0.],\n",
              "       [  0.,   0.,   0.,   0.,   0.,   0.,   0.,   0.,   0.,   0.,   0.,   0.,   0.,   0.,   0.,   0.,   0.,   0.,   0.,   0.,   0.,   0.,   0.,   0.,   0.,   0.,   0.,   0.],\n",
              "       [  0.,   0.,   0.,   0.,   0.,   0.,   0.,   0.,  92., 253., 141.,   0.,   0.,   0.,   0.,   0.,   0.,   0.,   0.,   0.,   0.,   0.,   0.,   0.,   0.,   0.,   0.,   0.],\n",
              "       [  0.,   0.,   0.,   0.,   0.,   0.,   0.,  19., 196., 252., 241.,  24.,   0.,   0.,   0.,   0.,   0.,   0.,   0.,   0., 147., 225.,  97.,   0.,   0.,   0.,   0.,   0.],\n",
              "       [  0.,   0.,   0.,   0.,   0.,   0.,   0.,  57., 252., 252., 253.,  27.,   0.,   0.,   0.,   0.,   0.,   0.,   0.,  32., 253., 252., 195.,   0.,   0.,   0.,   0.,   0.],\n",
              "       [  0.,   0.,   0.,   0.,   0.,   0.,   0.,  57., 252., 252., 178.,   9.,   0.,   0.,   0.,   0.,   0.,   0.,   0., 140., 253., 252., 102.,   0.,   0.,   0.,   0.,   0.],\n",
              "       [  0.,   0.,   0.,   0.,   0.,   0.,   0.,  57., 252., 252., 140.,   0.,   0.,   0.,   0.,   0.,   0.,   0.,  16., 203., 253., 252.,  55.,   0.,   0.,   0.,   0.,   0.],\n",
              "       [  0.,   0.,   0.,   0.,   0.,   0.,   0., 120., 253., 253., 141.,   0.,   0.,   0.,   0.,   0.,   0.,   0.,  29., 253., 255., 215.,  31.,   0.,   0.,   0.,   0.,   0.],\n",
              "       [  0.,   0.,   0.,   0.,   0.,   0.,   0., 197., 252., 252., 140.,   0.,   0.,   0.,   0.,   0.,   0.,   0.,  29., 252., 253.,  42.,   0.,   0.,   0.,   0.,   0.,   0.],\n",
              "       [  0.,   0.,   0.,   0.,   0.,   0.,   0., 197., 252., 252.,  31.,   0.,   0.,   0.,   0.,   0.,   0.,  13.,  79., 252., 253.,  27.,   0.,   0.,   0.,   0.,   0.,   0.],\n",
              "       [  0.,   0.,   0.,   0.,   0.,   0.,  57., 234., 252., 236.,   0.,   0.,   0.,   0.,   0.,   0.,   0.,  57., 252., 252., 178.,   9.,   0.,   0.,   0.,   0.,   0.,   0.],\n",
              "       [  0.,   0.,   0.,   0.,   0.,   0.,  85., 252., 252., 189., 141., 140., 140., 140., 140.,  79.,  48., 165., 252., 252., 140.,   0.,   0.,   0.,   0.,   0.,   0.,   0.],\n",
              "       [  0.,   0.,   0.,   0.,   0.,   0.,  86., 253., 253., 253., 255., 253., 253., 253., 253., 255., 253., 253., 253., 253., 141.,   0.,   0.,   0.,   0.,   0.,   0.,   0.],\n",
              "       [  0.,   0.,   0.,   0.,   0.,   0.,  57., 233., 252., 252., 253., 252., 252., 242., 214., 215., 243., 252., 252., 252., 140.,   0.,   0.,   0.,   0.,   0.,   0.,   0.],\n",
              "       [  0.,   0.,   0.,   0.,   0.,   0.,   0.,  75., 195., 195.,  56.,  55.,  55.,  49.,  31.,  31.,  50., 209., 252., 220.,  31.,   0.,   0.,   0.,   0.,   0.,   0.,   0.],\n",
              "       [  0.,   0.,   0.,   0.,   0.,   0.,   0.,   0.,   0.,   0.,   0.,   0.,   0.,   0.,   0.,   0.,  73., 234., 252., 112.,   0.,   0.,   0.,   0.,   0.,   0.,   0.,   0.],\n",
              "       [  0.,   0.,   0.,   0.,   0.,   0.,   0.,   0.,   0.,   0.,   0.,   0.,   0.,   0.,   0.,   0., 225., 252., 252., 112.,   0.,   0.,   0.,   0.,   0.,   0.,   0.,   0.],\n",
              "       [  0.,   0.,   0.,   0.,   0.,   0.,   0.,   0.,   0.,   0.,   0.,   0.,   0.,   0.,   0.,   0., 226., 253., 253., 112.,   0.,   0.,   0.,   0.,   0.,   0.,   0.,   0.],\n",
              "       [  0.,   0.,   0.,   0.,   0.,   0.,   0.,   0.,   0.,   0.,   0.,   0.,   0.,   0.,   0., 101., 249., 252., 242.,  74.,   0.,   0.,   0.,   0.,   0.,   0.,   0.,   0.],\n",
              "       [  0.,   0.,   0.,   0.,   0.,   0.,   0.,   0.,   0.,   0.,   0.,   0.,   0.,   0.,   0., 113., 252., 252., 246.,  88.,   0.,   0.,   0.,   0.,   0.,   0.,   0.,   0.],\n",
              "       [  0.,   0.,   0.,   0.,   0.,   0.,   0.,   0.,   0.,   0.,   0.,   0.,   0.,   0.,   0.,  38., 234., 252., 154.,  99.,   0.,   0.,   0.,   0.,   0.,   0.,   0.,   0.],\n",
              "       [  0.,   0.,   0.,   0.,   0.,   0.,   0.,   0.,   0.,   0.,   0.,   0.,   0.,   0.,   0.,   0., 146., 252.,  84.,   0.,   0.,   0.,   0.,   0.,   0.,   0.,   0.,   0.],\n",
              "       [  0.,   0.,   0.,   0.,   0.,   0.,   0.,   0.,   0.,   0.,   0.,   0.,   0.,   0.,   0.,   0.,   0.,   0.,   0.,   0.,   0.,   0.,   0.,   0.,   0.,   0.,   0.,   0.],\n",
              "       [  0.,   0.,   0.,   0.,   0.,   0.,   0.,   0.,   0.,   0.,   0.,   0.,   0.,   0.,   0.,   0.,   0.,   0.,   0.,   0.,   0.,   0.,   0.,   0.,   0.,   0.,   0.,   0.],\n",
              "       [  0.,   0.,   0.,   0.,   0.,   0.,   0.,   0.,   0.,   0.,   0.,   0.,   0.,   0.,   0.,   0.,   0.,   0.,   0.,   0.,   0.,   0.,   0.,   0.,   0.,   0.,   0.,   0.]])"
            ]
          },
          "metadata": {},
          "output_type": "display_data"
        },
        {
          "data": {
            "image/png": "[encoded data removed]",
            "text/plain": [
              "<Figure size 432x288 with 1 Axes>"
            ]
          },
          "metadata": {},
          "output_type": "display_data"
        }
      ],
      "source": [
        "# 3차원 데이터에서 첫번째 인덱스로 2차원 데이터 조회해오기\n",
        "# 아래 숫자를 조정하며 확인해 봅시다.\n",
        "n = 56\n",
        "display(d3[n])\n",
        "\n",
        "plt.imshow(d3[n])\n",
        "plt.show()"
      ]
    },
    {
      "cell_type": "markdown",
      "metadata": {
        "id": "fyhY-7gxdBJZ"
      },
      "source": [
        "### 연습문제\n",
        "- 주어진 배열을 이용하여 다음 결과를 얻도록 문제를 푸시오.\n",
        "  - a = np.array([[11,12,13,14,],[15,16,17,18],[19,20,21,22]])\n",
        "- [문1] 16\n",
        "- [문2] [19 20 21 22]\n",
        "- [문3] [13 17 21]\n",
        "- [문4] [16 22]\n",
        "- [문5] [[16 17 20 21]]"
      ]
    },
    {
      "cell_type": "code",
      "execution_count": null,
      "metadata": {
        "colab": {
          "base_uri": "https://localhost:8080/"
        },
        "id": "NblJkLnqcuPu",
        "outputId": "f6ec866b-8053-4642-cb9f-ac0a347b7868"
      },
      "outputs": [
        {
          "name": "stdout",
          "output_type": "stream",
          "text": [
            "16\n",
            "[19 20 21 22]\n",
            "[13 17 21]\n",
            "[16 22]\n",
            "[[16 17]\n",
            " [20 21]]\n"
          ]
        }
      ],
      "source": [
        "import numpy as np\n",
        "a = np.array([[11,12,13,14,],[15,16,17,18],[19,20,21,22]])\n",
        "print(a[1,1])\n",
        "print(a[2,:])\n",
        "print(a[:,2])\n",
        "print(a[[1,2],[1,3]])\n",
        "print(a[1:3,1:3])"
      ]
    },
    {
      "cell_type": "markdown",
      "metadata": {
        "id": "p35fyqNPhCPf"
      },
      "source": [
        "- 조건 조회\n",
        "  - 조건에 맞는 요소를 선택하는 방식이며, 블리안 방식이라고 부릅니다."
      ]
    },
    {
      "cell_type": "code",
      "execution_count": null,
      "metadata": {
        "colab": {
          "base_uri": "https://localhost:8080/"
        },
        "id": "n8QezbPChAxB",
        "outputId": "cfc3e940-4ad0-4adc-e13f-9d46661bfe85"
      },
      "outputs": [
        {
          "name": "stdout",
          "output_type": "stream",
          "text": [
            "[[78 91 84 89 93 65]\n",
            " [82 87 96 79 91 73]]\n"
          ]
        }
      ],
      "source": [
        "# 2차원 배열 만들기\n",
        "score = np.array([[78,91,84,89,93,65],[82,87,96,79,91,73]])\n",
        "print(score)"
      ]
    },
    {
      "cell_type": "code",
      "execution_count": null,
      "metadata": {
        "colab": {
          "base_uri": "https://localhost:8080/"
        },
        "id": "jgFkrICigAHh",
        "outputId": "23ad5a56-ca10-4b61-8d8d-91b9458f2656"
      },
      "outputs": [
        {
          "data": {
            "text/plain": [
              "array([[False,  True, False, False,  True, False],\n",
              "       [False, False,  True, False,  True, False]])"
            ]
          },
          "execution_count": 23,
          "metadata": {},
          "output_type": "execute_result"
        }
      ],
      "source": [
        "# 조건문 : 결과는 True, False\n",
        "score >= 90"
      ]
    },
    {
      "cell_type": "code",
      "execution_count": null,
      "metadata": {
        "colab": {
          "base_uri": "https://localhost:8080/"
        },
        "id": "x00OZa74hjgm",
        "outputId": "44f2262a-0f93-40b9-9357-f6a09b229966"
      },
      "outputs": [
        {
          "name": "stdout",
          "output_type": "stream",
          "text": [
            "[91 93 96 91]\n"
          ]
        }
      ],
      "source": [
        "# 요소 중에서 90 이상인 것만 조회\n",
        "print(score[score >= 90])"
      ]
    },
    {
      "cell_type": "markdown",
      "metadata": {
        "id": "TwqnD5TZiE6L"
      },
      "source": [
        "- np.argmax(), np.argmin()\n",
        "  - 전체에서 최대값과 최소값의 인덱스\n"
      ]
    },
    {
      "cell_type": "code",
      "execution_count": null,
      "metadata": {
        "colab": {
          "base_uri": "https://localhost:8080/"
        },
        "id": "mOBNic7Qhz6Y",
        "outputId": "2b7d3996-de84-4c00-dae4-64deadba8530"
      },
      "outputs": [
        {
          "name": "stdout",
          "output_type": "stream",
          "text": [
            "[[78 91 84 89 93 65]\n",
            " [82 87 96 79 91 73]]\n",
            "8\n",
            "5\n",
            "[1 0 1 0 0 1]\n",
            "[4 2]\n"
          ]
        }
      ],
      "source": [
        "print(score)\n",
        "print(np.argmax(score))\n",
        "print(np.argmin(score))\n",
        "print(np.argmax(score, axis = 0))\n",
        "print(np.argmax(score, axis=1))"
      ]
    },
    {
      "cell_type": "markdown",
      "metadata": {
        "id": "TjpPWh3Di1TF"
      },
      "source": [
        "- np.where(조건문, 참일때 값, 거짓일때 값)"
      ]
    },
    {
      "cell_type": "code",
      "execution_count": null,
      "metadata": {
        "colab": {
          "base_uri": "https://localhost:8080/"
        },
        "id": "OrKEDCffim2T",
        "outputId": "f51c3f33-7d42-4192-a884-1ada7a95b986"
      },
      "outputs": [
        {
          "data": {
            "text/plain": [
              "array([[78,  1, 84, 89,  1, 65],\n",
              "       [82, 87,  1, 79,  1, 73]])"
            ]
          },
          "execution_count": 26,
          "metadata": {},
          "output_type": "execute_result"
        }
      ],
      "source": [
        "np.where(score > 90, 1 , score)"
      ]
    },
    {
      "cell_type": "markdown",
      "metadata": {
        "id": "vPhlpwWwjJPl"
      },
      "source": [
        "- np.linspace(시작값, 끝값, 사이 값 갯수)"
      ]
    },
    {
      "cell_type": "code",
      "execution_count": null,
      "metadata": {
        "colab": {
          "base_uri": "https://localhost:8080/"
        },
        "id": "EcfJs47QjHOw",
        "outputId": "e8d9bb35-f43e-423e-f073-28407b1882ca"
      },
      "outputs": [
        {
          "data": {
            "text/plain": [
              "array([ 0.1,  0.2,  0.3,  0.4,  0.5,  0.6,  0.7,  0.8,  0.9,  1. ,  1.1,  1.2,  1.3,  1.4,  1.5,  1.6,  1.7,  1.8,  1.9,  2. ,  2.1,  2.2,  2.3,  2.4,  2.5,  2.6,  2.7,  2.8,  2.9,  3. ,  3.1,  3.2,  3.3,  3.4,  3.5,  3.6,  3.7,  3.8,  3.9,  4. ,  4.1,  4.2,  4.3,  4.4,  4.5,  4.6,  4.7,  4.8,  4.9,  5. ,  5.1,  5.2,  5.3,  5.4,  5.5,  5.6,  5.7,  5.8,  5.9,  6. ,  6.1,  6.2,  6.3,  6.4,  6.5,  6.6,  6.7,  6.8,  6.9,  7. ,  7.1,  7.2,  7.3,  7.4,  7.5,  7.6,  7.7,  7.8,  7.9,  8. ,  8.1,  8.2,  8.3,  8.4,  8.5,  8.6,  8.7,  8.8,  8.9,  9. ,  9.1,  9.2,  9.3,  9.4,  9.5,  9.6,  9.7,  9.8,  9.9, 10. ])"
            ]
          },
          "execution_count": 28,
          "metadata": {},
          "output_type": "execute_result"
        }
      ],
      "source": [
        "# 0.1 ~ 10, 100개 값을 만들어 봅니다.\n",
        "np.linspace(0.1,10,100)"
      ]
    },
    {
      "cell_type": "code",
      "execution_count": null,
      "metadata": {
        "id": "VCCWcNvFOLs_"
      },
      "outputs": [],
      "source": [
        "# 넘파이 라이브러리 불러오기\n",
        "import numpy as np"
      ]
    },
    {
      "cell_type": "markdown",
      "metadata": {
        "id": "jijzfeAmgyyJ"
      },
      "source": [
        "# python 라이브러리"
      ]
    },
    {
      "cell_type": "markdown",
      "metadata": {
        "id": "p4PeB-VuOleQ"
      },
      "source": [
        "## 넘파이 기초\n",
        "\n",
        "\n",
        "- 라이브러리 불러오기"
      ]
    },
    {
      "cell_type": "markdown",
      "metadata": {
        "id": "7v1xXBpTjyC-"
      },
      "source": [
        "## 판다스 데이터프레임 생성\n",
        "- 라이브러리 불러오기"
      ]
    },
    {
      "cell_type": "code",
      "execution_count": null,
      "metadata": {
        "id": "SIZRYOJijacC"
      },
      "outputs": [],
      "source": [
        "# 라이브러리 불러오기\n",
        "import pandas as pd"
      ]
    },
    {
      "cell_type": "markdown",
      "metadata": {
        "id": "fb4BONzlkrE8"
      },
      "source": [
        "- 딕셔너리로 만들기"
      ]
    },
    {
      "cell_type": "code",
      "execution_count": null,
      "metadata": {
        "colab": {
          "base_uri": "https://localhost:8080/"
        },
        "id": "DwgRMboKki_e",
        "outputId": "5fb64962-64f0-4a32-bfc1-1fe1503ad775"
      },
      "outputs": [
        {
          "name": "stdout",
          "output_type": "stream",
          "text": [
            "{'Name': ['Gildong', 'Sarang', 'Jiemae', 'Yeoin'], 'Level': ['Gold', 'Bronze', 'Silver', 'Gold'], 'Score': [56000, 23000, 44000, 52000]}\n"
          ]
        }
      ],
      "source": [
        "# 딕셔너리 만들기\n",
        "dict = {'Name': ['Gildong', 'Sarang', 'Jiemae', 'Yeoin'],\n",
        "        'Level': ['Gold', 'Bronze', 'Silver', 'Gold'],\n",
        "        'Score': [56000, 23000, 44000, 52000]}\n",
        "\n",
        "# 확인\n",
        "print(dict)"
      ]
    },
    {
      "cell_type": "code",
      "execution_count": null,
      "metadata": {
        "colab": {
          "base_uri": "https://localhost:8080/"
        },
        "id": "5nR_kVH3kwOL",
        "outputId": "a00269f7-3c35-4f42-b4af-b56c4122f5d5"
      },
      "outputs": [
        {
          "name": "stdout",
          "output_type": "stream",
          "text": [
            "      Name   Level  Score\n",
            "0  Gildong    Gold  56000\n",
            "1   Sarang  Bronze  23000\n",
            "2   Jiemae  Silver  44000\n",
            "3    Yeoin    Gold  52000\n"
          ]
        }
      ],
      "source": [
        "# 데이터프레임 만들기\n",
        "df = pd.DataFrame(dict)\n",
        "\n",
        "# 확인\n",
        "print(df.head()) # head의 default : 5"
      ]
    },
    {
      "cell_type": "markdown",
      "metadata": {
        "id": "f2jNHy5alIot"
      },
      "source": [
        "- CSV파일 읽어오기\n",
        "  - read_csv() 함수를 사용하여 CSV 파일에서 데이터를 읽어옵니다."
      ]
    },
    {
      "cell_type": "code",
      "execution_count": null,
      "metadata": {
        "colab": {
          "base_uri": "https://localhost:8080/",
          "height": 879
        },
        "id": "_8EX57Ukk_03",
        "outputId": "75ba8199-8691-41b7-e12c-fb4fd657c3fb"
      },
      "outputs": [
        {
          "data": {
            "text/html": [
              "\n",
              "  <div id=\"df-bd2a3471-b7ae-406d-bb09-ab597caa31a7\">\n",
              "    <div class=\"colab-df-container\">\n",
              "      <div>\n",
              "<style scoped>\n",
              "    .dataframe tbody tr th:only-of-type {\n",
              "        vertical-align: middle;\n",
              "    }\n",
              "\n",
              "    .dataframe tbody tr th {\n",
              "        vertical-align: top;\n",
              "    }\n",
              "\n",
              "    .dataframe thead th {\n",
              "        text-align: right;\n",
              "    }\n",
              "</style>\n",
              "<table border=\"1\" class=\"dataframe\">\n",
              "  <thead>\n",
              "    <tr style=\"text-align: right;\">\n",
              "      <th></th>\n",
              "      <th>PassengerId</th>\n",
              "      <th>Survived</th>\n",
              "      <th>Pclass</th>\n",
              "      <th>Name</th>\n",
              "      <th>Sex</th>\n",
              "      <th>Age</th>\n",
              "      <th>Fare</th>\n",
              "      <th>Embarked</th>\n",
              "    </tr>\n",
              "  </thead>\n",
              "  <tbody>\n",
              "    <tr>\n",
              "      <th>0</th>\n",
              "      <td>1</td>\n",
              "      <td>0</td>\n",
              "      <td>3</td>\n",
              "      <td>Braund, Mr. Owen Harris</td>\n",
              "      <td>male</td>\n",
              "      <td>22.0</td>\n",
              "      <td>7.2500</td>\n",
              "      <td>Southhampton</td>\n",
              "    </tr>\n",
              "    <tr>\n",
              "      <th>1</th>\n",
              "      <td>2</td>\n",
              "      <td>1</td>\n",
              "      <td>1</td>\n",
              "      <td>Cumings, Mrs. John Bradley (Florence Briggs Th...</td>\n",
              "      <td>female</td>\n",
              "      <td>38.0</td>\n",
              "      <td>71.2833</td>\n",
              "      <td>Cherbourg</td>\n",
              "    </tr>\n",
              "    <tr>\n",
              "      <th>2</th>\n",
              "      <td>3</td>\n",
              "      <td>1</td>\n",
              "      <td>3</td>\n",
              "      <td>Heikkinen, Miss. Laina</td>\n",
              "      <td>female</td>\n",
              "      <td>26.0</td>\n",
              "      <td>7.9250</td>\n",
              "      <td>Southhampton</td>\n",
              "    </tr>\n",
              "    <tr>\n",
              "      <th>3</th>\n",
              "      <td>4</td>\n",
              "      <td>1</td>\n",
              "      <td>1</td>\n",
              "      <td>Futrelle, Mrs. Jacques Heath (Lily May Peel)</td>\n",
              "      <td>female</td>\n",
              "      <td>35.0</td>\n",
              "      <td>53.1000</td>\n",
              "      <td>Southhampton</td>\n",
              "    </tr>\n",
              "    <tr>\n",
              "      <th>4</th>\n",
              "      <td>5</td>\n",
              "      <td>0</td>\n",
              "      <td>3</td>\n",
              "      <td>Allen, Mr. William Henry</td>\n",
              "      <td>male</td>\n",
              "      <td>35.0</td>\n",
              "      <td>8.0500</td>\n",
              "      <td>Southhampton</td>\n",
              "    </tr>\n",
              "    <tr>\n",
              "      <th>5</th>\n",
              "      <td>6</td>\n",
              "      <td>0</td>\n",
              "      <td>3</td>\n",
              "      <td>Moran, Mr. James</td>\n",
              "      <td>male</td>\n",
              "      <td>NaN</td>\n",
              "      <td>8.4583</td>\n",
              "      <td>Queenstown</td>\n",
              "    </tr>\n",
              "    <tr>\n",
              "      <th>6</th>\n",
              "      <td>7</td>\n",
              "      <td>0</td>\n",
              "      <td>1</td>\n",
              "      <td>McCarthy, Mr. Timothy J</td>\n",
              "      <td>male</td>\n",
              "      <td>54.0</td>\n",
              "      <td>51.8625</td>\n",
              "      <td>Southhampton</td>\n",
              "    </tr>\n",
              "    <tr>\n",
              "      <th>7</th>\n",
              "      <td>8</td>\n",
              "      <td>0</td>\n",
              "      <td>3</td>\n",
              "      <td>Palsson, Master. Gosta Leonard</td>\n",
              "      <td>male</td>\n",
              "      <td>2.0</td>\n",
              "      <td>21.0750</td>\n",
              "      <td>Southhampton</td>\n",
              "    </tr>\n",
              "    <tr>\n",
              "      <th>8</th>\n",
              "      <td>9</td>\n",
              "      <td>1</td>\n",
              "      <td>3</td>\n",
              "      <td>Johnson, Mrs. Oscar W (Elisabeth Vilhelmina Berg)</td>\n",
              "      <td>female</td>\n",
              "      <td>27.0</td>\n",
              "      <td>11.1333</td>\n",
              "      <td>Southhampton</td>\n",
              "    </tr>\n",
              "    <tr>\n",
              "      <th>9</th>\n",
              "      <td>10</td>\n",
              "      <td>1</td>\n",
              "      <td>2</td>\n",
              "      <td>Nasser, Mrs. Nicholas (Adele Achem)</td>\n",
              "      <td>female</td>\n",
              "      <td>14.0</td>\n",
              "      <td>30.0708</td>\n",
              "      <td>Cherbourg</td>\n",
              "    </tr>\n",
              "  </tbody>\n",
              "</table>\n",
              "</div>\n",
              "      <button class=\"colab-df-convert\" onclick=\"convertToInteractive('df-bd2a3471-b7ae-406d-bb09-ab597caa31a7')\"\n",
              "              title=\"Convert this dataframe to an interactive table.\"\n",
              "              style=\"display:none;\">\n",
              "        \n",
              "  <svg xmlns=\"http://www.w3.org/2000/svg\" height=\"24px\"viewBox=\"0 0 24 24\"\n",
              "       width=\"24px\">\n",
              "    <path d=\"M0 0h24v24H0V0z\" fill=\"none\"/>\n",
              "    <path d=\"M18.56 5.44l.94 2.06.94-2.06 2.06-.94-2.06-.94-.94-2.06-.94 2.06-2.06.94zm-11 1L8.5 8.5l.94-2.06 2.06-.94-2.06-.94L8.5 2.5l-.94 2.06-2.06.94zm10 10l.94 2.06.94-2.06 2.06-.94-2.06-.94-.94-2.06-.94 2.06-2.06.94z\"/><path d=\"M17.41 7.96l-1.37-1.37c-.4-.4-.92-.59-1.43-.59-.52 0-1.04.2-1.43.59L10.3 9.45l-7.72 7.72c-.78.78-.78 2.05 0 2.83L4 21.41c.39.39.9.59 1.41.59.51 0 1.02-.2 1.41-.59l7.78-7.78 2.81-2.81c.8-.78.8-2.07 0-2.86zM5.41 20L4 18.59l7.72-7.72 1.47 1.35L5.41 20z\"/>\n",
              "  </svg>\n",
              "      </button>\n",
              "      \n",
              "  <style>\n",
              "    .colab-df-container {\n",
              "      display:flex;\n",
              "      flex-wrap:wrap;\n",
              "      gap: 12px;\n",
              "    }\n",
              "\n",
              "    .colab-df-convert {\n",
              "      background-color: #E8F0FE;\n",
              "      border: none;\n",
              "      border-radius: 50%;\n",
              "      cursor: pointer;\n",
              "      display: none;\n",
              "      fill: #1967D2;\n",
              "      height: 32px;\n",
              "      padding: 0 0 0 0;\n",
              "      width: 32px;\n",
              "    }\n",
              "\n",
              "    .colab-df-convert:hover {\n",
              "      background-color: #E2EBFA;\n",
              "      box-shadow: 0px 1px 2px rgba(60, 64, 67, 0.3), 0px 1px 3px 1px rgba(60, 64, 67, 0.15);\n",
              "      fill: #174EA6;\n",
              "    }\n",
              "\n",
              "    [theme=dark] .colab-df-convert {\n",
              "      background-color: #3B4455;\n",
              "      fill: #D2E3FC;\n",
              "    }\n",
              "\n",
              "    [theme=dark] .colab-df-convert:hover {\n",
              "      background-color: #434B5C;\n",
              "      box-shadow: 0px 1px 3px 1px rgba(0, 0, 0, 0.15);\n",
              "      filter: drop-shadow(0px 1px 2px rgba(0, 0, 0, 0.3));\n",
              "      fill: #FFFFFF;\n",
              "    }\n",
              "  </style>\n",
              "\n",
              "      <script>\n",
              "        const buttonEl =\n",
              "          document.querySelector('#df-bd2a3471-b7ae-406d-bb09-ab597caa31a7 button.colab-df-convert');\n",
              "        buttonEl.style.display =\n",
              "          google.colab.kernel.accessAllowed ? 'block' : 'none';\n",
              "\n",
              "        async function convertToInteractive(key) {\n",
              "          const element = document.querySelector('#df-bd2a3471-b7ae-406d-bb09-ab597caa31a7');\n",
              "          const dataTable =\n",
              "            await google.colab.kernel.invokeFunction('convertToInteractive',\n",
              "                                                     [key], {});\n",
              "          if (!dataTable) return;\n",
              "\n",
              "          const docLinkHtml = 'Like what you see? Visit the ' +\n",
              "            '<a target=\"_blank\" href=https://colab.research.google.com/notebooks/data_table.ipynb>data table notebook</a>'\n",
              "            + ' to learn more about interactive tables.';\n",
              "          element.innerHTML = '';\n",
              "          dataTable['output_type'] = 'display_data';\n",
              "          await google.colab.output.renderOutput(dataTable, element);\n",
              "          const docLink = document.createElement('div');\n",
              "          docLink.innerHTML = docLinkHtml;\n",
              "          element.appendChild(docLink);\n",
              "        }\n",
              "      </script>\n",
              "    </div>\n",
              "  </div>\n",
              "  "
            ],
            "text/plain": [
              "   PassengerId  Survived  Pclass  \\\n",
              "0            1         0       3   \n",
              "1            2         1       1   \n",
              "2            3         1       3   \n",
              "3            4         1       1   \n",
              "4            5         0       3   \n",
              "5            6         0       3   \n",
              "6            7         0       1   \n",
              "7            8         0       3   \n",
              "8            9         1       3   \n",
              "9           10         1       2   \n",
              "\n",
              "                                                Name     Sex   Age     Fare  \\\n",
              "0                            Braund, Mr. Owen Harris    male  22.0   7.2500   \n",
              "1  Cumings, Mrs. John Bradley (Florence Briggs Th...  female  38.0  71.2833   \n",
              "2                             Heikkinen, Miss. Laina  female  26.0   7.9250   \n",
              "3       Futrelle, Mrs. Jacques Heath (Lily May Peel)  female  35.0  53.1000   \n",
              "4                           Allen, Mr. William Henry    male  35.0   8.0500   \n",
              "5                                   Moran, Mr. James    male   NaN   8.4583   \n",
              "6                            McCarthy, Mr. Timothy J    male  54.0  51.8625   \n",
              "7                     Palsson, Master. Gosta Leonard    male   2.0  21.0750   \n",
              "8  Johnson, Mrs. Oscar W (Elisabeth Vilhelmina Berg)  female  27.0  11.1333   \n",
              "9                Nasser, Mrs. Nicholas (Adele Achem)  female  14.0  30.0708   \n",
              "\n",
              "       Embarked  \n",
              "0  Southhampton  \n",
              "1     Cherbourg  \n",
              "2  Southhampton  \n",
              "3  Southhampton  \n",
              "4  Southhampton  \n",
              "5    Queenstown  \n",
              "6  Southhampton  \n",
              "7  Southhampton  \n",
              "8  Southhampton  \n",
              "9     Cherbourg  "
            ]
          },
          "execution_count": 33,
          "metadata": {},
          "output_type": "execute_result"
        }
      ],
      "source": [
        "# 데이터 읽어오기\n",
        "path = 'https://raw.githubusercontent.com/DA4BAM/dataset/master/titanic_simple.csv'\n",
        "data = pd.read_csv(path)\n",
        "\n",
        "# 상위 10행만 확인\n",
        "data.head(10)"
      ]
    },
    {
      "cell_type": "markdown",
      "metadata": {
        "id": "nREqkMlkl_su"
      },
      "source": [
        "## python으로 딕셔너리 생성\n",
        "  - 아래 값으로 딕셔너리 d를 생성해 봅시다.\n",
        "\n",
        "|key |value|\n",
        "|----|----|\n",
        "|v1 |[1,2,3]|\n",
        "|v2 |{'a':23, 'b':[4,5]}|"
      ]
    },
    {
      "cell_type": "code",
      "execution_count": null,
      "metadata": {
        "colab": {
          "base_uri": "https://localhost:8080/"
        },
        "id": "CAS2nj-Ilqs4",
        "outputId": "06e6477a-0574-43c4-ffe1-99b4ebe6e1d5"
      },
      "outputs": [
        {
          "data": {
            "text/plain": [
              "{'v1': [1, 2, 3], 'v2': {'a': 23, 'b': [4, 5]}}"
            ]
          },
          "execution_count": 51,
          "metadata": {},
          "output_type": "execute_result"
        }
      ],
      "source": [
        "d = {'v1': [1,2,3], 'v2':{'a':23,'b':[4,5]}}\n",
        "d"
      ]
    },
    {
      "cell_type": "markdown",
      "metadata": {
        "id": "oNFr4lPonHXv"
      },
      "source": [
        "- [문1] d에서 [1,2,3]을 출력해 봅시다.\n",
        "- [문2] d에서 23을 출력해 봅시다.\n",
        "- [문3] d에서 5를 출력해 봅시다.\n",
        "- [문4] d에 key 'newKey', value (1,2) 를 추가하고 출력해봅시다."
      ]
    },
    {
      "cell_type": "code",
      "execution_count": null,
      "metadata": {
        "colab": {
          "base_uri": "https://localhost:8080/"
        },
        "id": "Dz9cpr_Ym_Tn",
        "outputId": "12e4cfed-1c1f-4975-a942-cbcea7817f63"
      },
      "outputs": [
        {
          "name": "stdout",
          "output_type": "stream",
          "text": [
            "[1, 2, 3]\n",
            "23\n",
            "5\n"
          ]
        }
      ],
      "source": [
        "print(d['v1'])\n",
        "print(d['v2']['a'])\n",
        "print(d['v2']['b'][1])"
      ]
    },
    {
      "cell_type": "code",
      "execution_count": null,
      "metadata": {
        "colab": {
          "base_uri": "https://localhost:8080/"
        },
        "id": "bHvc6gLooJ9m",
        "outputId": "461df28e-01c1-42e0-896b-f0704a646d31"
      },
      "outputs": [
        {
          "name": "stdout",
          "output_type": "stream",
          "text": [
            "{'v1': [1, 2, 3], 'v2': {'a': 23, 'b': [4, 5]}, 'newKey': (1, 2)}\n"
          ]
        }
      ],
      "source": [
        "d['newKey'] = (1,2)\n",
        "print(d)"
      ]
    },
    {
      "cell_type": "markdown",
      "source": [
        "# python WebCrawling\n",
        "  - 웹페이지의 종류\n",
        "    - 정적페이지 : 페이지의 데이터가 변경될 때 URL이 변경 O --> HTML\n",
        "    - 동적페이지 : 페이지의 데이터가 변경될 때 URL이 변경 X --> JSON\n",
        "  - requests package\n",
        "    - 브라우져의 URL을 입력하면 서버에서 데이터를 다운받아 화면에 데이터를 출력 : URL > DATA\n",
        "    - requests 패키지 : URL > DATA"
      ],
      "metadata": {
        "id": "krN_85px26g8"
      }
    },
    {
      "cell_type": "code",
      "source": [
        "import pandas as pd\n",
        "import requests"
      ],
      "metadata": {
        "id": "HorQIUay6J7h"
      },
      "execution_count": 1,
      "outputs": []
    },
    {
      "cell_type": "markdown",
      "source": [
        "### 1. 웹서비스를 분석 : 크롭 개발자 도구 : URL"
      ],
      "metadata": {
        "id": "9Psejax86ddM"
      }
    },
    {
      "cell_type": "code",
      "source": [
        "url = \"https://m.stock.naver.com/api/index/KOSPI/price?pageSize=10&page=4\""
      ],
      "metadata": {
        "id": "qgqnAPtr6cPM"
      },
      "execution_count": 2,
      "outputs": []
    },
    {
      "cell_type": "markdown",
      "source": [
        "### 2. requests(url) > response(json) : JSON(str)"
      ],
      "metadata": {
        "id": "1yLTw5QB60vK"
      }
    },
    {
      "cell_type": "code",
      "source": [
        "response = requests.get(url)\n",
        "response"
      ],
      "metadata": {
        "colab": {
          "base_uri": "https://localhost:8080/"
        },
        "id": "r0taaJ8g60Y2",
        "outputId": "2ce422de-f84b-49f6-f2b8-8b201f8cbe30"
      },
      "execution_count": 3,
      "outputs": [
        {
          "output_type": "execute_result",
          "data": {
            "text/plain": [
              "<Response [200]>"
            ]
          },
          "metadata": {},
          "execution_count": 3
        }
      ]
    },
    {
      "cell_type": "code",
      "source": [
        "response.text"
      ],
      "metadata": {
        "colab": {
          "base_uri": "https://localhost:8080/",
          "height": 191
        },
        "id": "fJTl_g0F7FzV",
        "outputId": "2af29958-0ac7-4dad-ed1e-76a000bab919"
      },
      "execution_count": 4,
      "outputs": [
        {
          "output_type": "execute_result",
          "data": {
            "text/plain": [
              "'[{\"localTradedAt\":\"2022-06-22\",\"closePrice\":\"2,342.81\",\"compareToPreviousClosePrice\":\"-66.12\",\"compareToPreviousPrice\":{\"code\":\"5\",\"text\":\"하락\",\"name\":\"FALLING\"},\"fluctuationsRatio\":\"-2.74\",\"openPrice\":\"2,417.11\",\"highPrice\":\"2,418.05\",\"lowPrice\":\"2,342.81\"},{\"localTradedAt\":\"2022-06-21\",\"closePrice\":\"2,408.93\",\"compareToPreviousClosePrice\":\"17.90\",\"compareToPreviousPrice\":{\"code\":\"2\",\"text\":\"상승\",\"name\":\"RISING\"},\"fluctuationsRatio\":\"0.75\",\"openPrice\":\"2,402.99\",\"highPrice\":\"2,423.48\",\"lowPrice\":\"2,385.60\"},{\"localTradedAt\":\"2022-06-20\",\"closePrice\":\"2,391.03\",\"compareToPreviousClosePrice\":\"-49.90\",\"compareToPreviousPrice\":{\"code\":\"5\",\"text\":\"하락\",\"name\":\"FALLING\"},\"fluctuationsRatio\":\"-2.04\",\"openPrice\":\"2,449.89\",\"highPrice\":\"2,449.89\",\"lowPrice\":\"2,372.35\"},{\"localTradedAt\":\"2022-06-17\",\"closePrice\":\"2,440.93\",\"compareToPreviousClosePrice\":\"-10.48\",\"compareToPreviousPrice\":{\"code\":\"5\",\"text\":\"하락\",\"name\":\"FALLING\"},\"fluctuationsRatio\":\"-0.43\",\"openPrice\":\"2,409.72\",\"highPrice\":\"2,441.34\",\"lowPrice\":\"2,396.47\"},{\"localTradedAt\":\"2022-06-16\",\"closePrice\":\"2,451.41\",\"compareToPreviousClosePrice\":\"4.03\",\"compareToPreviousPrice\":{\"code\":\"2\",\"text\":\"상승\",\"name\":\"RISING\"},\"fluctuationsRatio\":\"0.16\",\"openPrice\":\"2,481.66\",\"highPrice\":\"2,500.36\",\"lowPrice\":\"2,447.33\"},{\"localTradedAt\":\"2022-06-15\",\"closePrice\":\"2,447.38\",\"compareToPreviousClosePrice\":\"-45.59\",\"compareToPreviousPrice\":{\"code\":\"5\",\"text\":\"하락\",\"name\":\"FALLING\"},\"fluctuationsRatio\":\"-1.83\",\"openPrice\":\"2,490.01\",\"highPrice\":\"2,495.54\",\"lowPrice\":\"2,436.04\"},{\"localTradedAt\":\"2022-06-14\",\"closePrice\":\"2,492.97\",\"compareToPreviousClosePrice\":\"-11.54\",\"compareToPreviousPrice\":{\"code\":\"5\",\"text\":\"하락\",\"name\":\"FALLING\"},\"fluctuationsRatio\":\"-0.46\",\"openPrice\":\"2,472.96\",\"highPrice\":\"2,503.17\",\"lowPrice\":\"2,457.39\"},{\"localTradedAt\":\"2022-06-13\",\"closePrice\":\"2,504.51\",\"compareToPreviousClosePrice\":\"-91.36\",\"compareToPreviousPrice\":{\"code\":\"5\",\"text\":\"하락\",\"name\":\"FALLING\"},\"fluctuationsRatio\":\"-3.52\",\"openPrice\":\"2,550.21\",\"highPrice\":\"2,550.32\",\"lowPrice\":\"2,504.51\"},{\"localTradedAt\":\"2022-06-10\",\"closePrice\":\"2,595.87\",\"compareToPreviousClosePrice\":\"-29.57\",\"compareToPreviousPrice\":{\"code\":\"5\",\"text\":\"하락\",\"name\":\"FALLING\"},\"fluctuationsRatio\":\"-1.13\",\"openPrice\":\"2,596.37\",\"highPrice\":\"2,602.80\",\"lowPrice\":\"2,583.74\"},{\"localTradedAt\":\"2022-06-09\",\"closePrice\":\"2,625.44\",\"compareToPreviousClosePrice\":\"-0.71\",\"compareToPreviousPrice\":{\"code\":\"5\",\"text\":\"하락\",\"name\":\"FALLING\"},\"fluctuationsRatio\":\"-0.03\",\"openPrice\":\"2,618.92\",\"highPrice\":\"2,627.88\",\"lowPrice\":\"2,606.61\"}]'"
            ],
            "application/vnd.google.colaboratory.intrinsic+json": {
              "type": "string"
            }
          },
          "metadata": {},
          "execution_count": 4
        }
      ]
    },
    {
      "cell_type": "markdown",
      "source": [
        "### 3. JSON(str) > list, dict > DataFrame"
      ],
      "metadata": {
        "id": "xojpwilX7EbO"
      }
    },
    {
      "cell_type": "code",
      "source": [
        "data = response.json()\n",
        "data[0], type(data)"
      ],
      "metadata": {
        "colab": {
          "base_uri": "https://localhost:8080/"
        },
        "id": "kAnDanas6zx9",
        "outputId": "5b0c7c27-4b7c-4f99-d93f-cd016ea12919"
      },
      "execution_count": 6,
      "outputs": [
        {
          "output_type": "execute_result",
          "data": {
            "text/plain": [
              "({'closePrice': '2,342.81',\n",
              "  'compareToPreviousClosePrice': '-66.12',\n",
              "  'compareToPreviousPrice': {'code': '5', 'name': 'FALLING', 'text': '하락'},\n",
              "  'fluctuationsRatio': '-2.74',\n",
              "  'highPrice': '2,418.05',\n",
              "  'localTradedAt': '2022-06-22',\n",
              "  'lowPrice': '2,342.81',\n",
              "  'openPrice': '2,417.11'},\n",
              " list)"
            ]
          },
          "metadata": {},
          "execution_count": 6
        }
      ]
    },
    {
      "cell_type": "code",
      "source": [
        "df = pd.DataFrame(data)[['localTradedAt','closePrice']]\n",
        "df.tail(2)"
      ],
      "metadata": {
        "colab": {
          "base_uri": "https://localhost:8080/",
          "height": 111
        },
        "id": "jUddnFPk7zQ6",
        "outputId": "35465258-d200-432d-cb81-871bb6228cb9"
      },
      "execution_count": 11,
      "outputs": [
        {
          "output_type": "execute_result",
          "data": {
            "text/plain": [
              "  localTradedAt closePrice\n",
              "8    2022-06-10   2,595.87\n",
              "9    2022-06-09   2,625.44"
            ],
            "text/html": [
              "\n",
              "  <div id=\"df-14e70012-f8a6-42ac-b944-c69fdb41a547\">\n",
              "    <div class=\"colab-df-container\">\n",
              "      <div>\n",
              "<style scoped>\n",
              "    .dataframe tbody tr th:only-of-type {\n",
              "        vertical-align: middle;\n",
              "    }\n",
              "\n",
              "    .dataframe tbody tr th {\n",
              "        vertical-align: top;\n",
              "    }\n",
              "\n",
              "    .dataframe thead th {\n",
              "        text-align: right;\n",
              "    }\n",
              "</style>\n",
              "<table border=\"1\" class=\"dataframe\">\n",
              "  <thead>\n",
              "    <tr style=\"text-align: right;\">\n",
              "      <th></th>\n",
              "      <th>localTradedAt</th>\n",
              "      <th>closePrice</th>\n",
              "    </tr>\n",
              "  </thead>\n",
              "  <tbody>\n",
              "    <tr>\n",
              "      <th>8</th>\n",
              "      <td>2022-06-10</td>\n",
              "      <td>2,595.87</td>\n",
              "    </tr>\n",
              "    <tr>\n",
              "      <th>9</th>\n",
              "      <td>2022-06-09</td>\n",
              "      <td>2,625.44</td>\n",
              "    </tr>\n",
              "  </tbody>\n",
              "</table>\n",
              "</div>\n",
              "      <button class=\"colab-df-convert\" onclick=\"convertToInteractive('df-14e70012-f8a6-42ac-b944-c69fdb41a547')\"\n",
              "              title=\"Convert this dataframe to an interactive table.\"\n",
              "              style=\"display:none;\">\n",
              "        \n",
              "  <svg xmlns=\"http://www.w3.org/2000/svg\" height=\"24px\"viewBox=\"0 0 24 24\"\n",
              "       width=\"24px\">\n",
              "    <path d=\"M0 0h24v24H0V0z\" fill=\"none\"/>\n",
              "    <path d=\"M18.56 5.44l.94 2.06.94-2.06 2.06-.94-2.06-.94-.94-2.06-.94 2.06-2.06.94zm-11 1L8.5 8.5l.94-2.06 2.06-.94-2.06-.94L8.5 2.5l-.94 2.06-2.06.94zm10 10l.94 2.06.94-2.06 2.06-.94-2.06-.94-.94-2.06-.94 2.06-2.06.94z\"/><path d=\"M17.41 7.96l-1.37-1.37c-.4-.4-.92-.59-1.43-.59-.52 0-1.04.2-1.43.59L10.3 9.45l-7.72 7.72c-.78.78-.78 2.05 0 2.83L4 21.41c.39.39.9.59 1.41.59.51 0 1.02-.2 1.41-.59l7.78-7.78 2.81-2.81c.8-.78.8-2.07 0-2.86zM5.41 20L4 18.59l7.72-7.72 1.47 1.35L5.41 20z\"/>\n",
              "  </svg>\n",
              "      </button>\n",
              "      \n",
              "  <style>\n",
              "    .colab-df-container {\n",
              "      display:flex;\n",
              "      flex-wrap:wrap;\n",
              "      gap: 12px;\n",
              "    }\n",
              "\n",
              "    .colab-df-convert {\n",
              "      background-color: #E8F0FE;\n",
              "      border: none;\n",
              "      border-radius: 50%;\n",
              "      cursor: pointer;\n",
              "      display: none;\n",
              "      fill: #1967D2;\n",
              "      height: 32px;\n",
              "      padding: 0 0 0 0;\n",
              "      width: 32px;\n",
              "    }\n",
              "\n",
              "    .colab-df-convert:hover {\n",
              "      background-color: #E2EBFA;\n",
              "      box-shadow: 0px 1px 2px rgba(60, 64, 67, 0.3), 0px 1px 3px 1px rgba(60, 64, 67, 0.15);\n",
              "      fill: #174EA6;\n",
              "    }\n",
              "\n",
              "    [theme=dark] .colab-df-convert {\n",
              "      background-color: #3B4455;\n",
              "      fill: #D2E3FC;\n",
              "    }\n",
              "\n",
              "    [theme=dark] .colab-df-convert:hover {\n",
              "      background-color: #434B5C;\n",
              "      box-shadow: 0px 1px 3px 1px rgba(0, 0, 0, 0.15);\n",
              "      filter: drop-shadow(0px 1px 2px rgba(0, 0, 0, 0.3));\n",
              "      fill: #FFFFFF;\n",
              "    }\n",
              "  </style>\n",
              "\n",
              "      <script>\n",
              "        const buttonEl =\n",
              "          document.querySelector('#df-14e70012-f8a6-42ac-b944-c69fdb41a547 button.colab-df-convert');\n",
              "        buttonEl.style.display =\n",
              "          google.colab.kernel.accessAllowed ? 'block' : 'none';\n",
              "\n",
              "        async function convertToInteractive(key) {\n",
              "          const element = document.querySelector('#df-14e70012-f8a6-42ac-b944-c69fdb41a547');\n",
              "          const dataTable =\n",
              "            await google.colab.kernel.invokeFunction('convertToInteractive',\n",
              "                                                     [key], {});\n",
              "          if (!dataTable) return;\n",
              "\n",
              "          const docLinkHtml = 'Like what you see? Visit the ' +\n",
              "            '<a target=\"_blank\" href=https://colab.research.google.com/notebooks/data_table.ipynb>data table notebook</a>'\n",
              "            + ' to learn more about interactive tables.';\n",
              "          element.innerHTML = '';\n",
              "          dataTable['output_type'] = 'display_data';\n",
              "          await google.colab.output.renderOutput(dataTable, element);\n",
              "          const docLink = document.createElement('div');\n",
              "          docLink.innerHTML = docLinkHtml;\n",
              "          element.appendChild(docLink);\n",
              "        }\n",
              "      </script>\n",
              "    </div>\n",
              "  </div>\n",
              "  "
            ]
          },
          "metadata": {},
          "execution_count": 11
        }
      ]
    },
    {
      "cell_type": "markdown",
      "source": [
        "### 4. 함수 만들기\n",
        "- params : pagesize, page, code"
      ],
      "metadata": {
        "id": "seRiNuST8n_l"
      }
    },
    {
      "cell_type": "code",
      "source": [
        "def stock_price(pagesize,page,code = \"KOSPI\"):\n",
        "  url = f\"https://m.stock.naver.com/api/index/{code}/price?pageSize={pagesize}&page={page}\"\n",
        "  response = requests.get(url)\n",
        "  data = response.json()\n",
        "  df = pd.DataFrame(data)[['localTradedAt','closePrice']]\n",
        "  return df"
      ],
      "metadata": {
        "id": "PjU5T9dN7-Qn"
      },
      "execution_count": 36,
      "outputs": []
    },
    {
      "cell_type": "code",
      "source": [
        "stock_price(30, 1).tail(2)"
      ],
      "metadata": {
        "colab": {
          "base_uri": "https://localhost:8080/",
          "height": 111
        },
        "id": "yAwW6OLO9dJZ",
        "outputId": "ed119ef1-4f7f-4ac2-8875-88cfaed6ddbe"
      },
      "execution_count": 37,
      "outputs": [
        {
          "output_type": "execute_result",
          "data": {
            "text/plain": [
              "   localTradedAt closePrice\n",
              "28    2022-06-24   2,366.60\n",
              "29    2022-06-23   2,314.32"
            ],
            "text/html": [
              "\n",
              "  <div id=\"df-0337a72b-540e-49db-a34c-dbc403fbc220\">\n",
              "    <div class=\"colab-df-container\">\n",
              "      <div>\n",
              "<style scoped>\n",
              "    .dataframe tbody tr th:only-of-type {\n",
              "        vertical-align: middle;\n",
              "    }\n",
              "\n",
              "    .dataframe tbody tr th {\n",
              "        vertical-align: top;\n",
              "    }\n",
              "\n",
              "    .dataframe thead th {\n",
              "        text-align: right;\n",
              "    }\n",
              "</style>\n",
              "<table border=\"1\" class=\"dataframe\">\n",
              "  <thead>\n",
              "    <tr style=\"text-align: right;\">\n",
              "      <th></th>\n",
              "      <th>localTradedAt</th>\n",
              "      <th>closePrice</th>\n",
              "    </tr>\n",
              "  </thead>\n",
              "  <tbody>\n",
              "    <tr>\n",
              "      <th>28</th>\n",
              "      <td>2022-06-24</td>\n",
              "      <td>2,366.60</td>\n",
              "    </tr>\n",
              "    <tr>\n",
              "      <th>29</th>\n",
              "      <td>2022-06-23</td>\n",
              "      <td>2,314.32</td>\n",
              "    </tr>\n",
              "  </tbody>\n",
              "</table>\n",
              "</div>\n",
              "      <button class=\"colab-df-convert\" onclick=\"convertToInteractive('df-0337a72b-540e-49db-a34c-dbc403fbc220')\"\n",
              "              title=\"Convert this dataframe to an interactive table.\"\n",
              "              style=\"display:none;\">\n",
              "        \n",
              "  <svg xmlns=\"http://www.w3.org/2000/svg\" height=\"24px\"viewBox=\"0 0 24 24\"\n",
              "       width=\"24px\">\n",
              "    <path d=\"M0 0h24v24H0V0z\" fill=\"none\"/>\n",
              "    <path d=\"M18.56 5.44l.94 2.06.94-2.06 2.06-.94-2.06-.94-.94-2.06-.94 2.06-2.06.94zm-11 1L8.5 8.5l.94-2.06 2.06-.94-2.06-.94L8.5 2.5l-.94 2.06-2.06.94zm10 10l.94 2.06.94-2.06 2.06-.94-2.06-.94-.94-2.06-.94 2.06-2.06.94z\"/><path d=\"M17.41 7.96l-1.37-1.37c-.4-.4-.92-.59-1.43-.59-.52 0-1.04.2-1.43.59L10.3 9.45l-7.72 7.72c-.78.78-.78 2.05 0 2.83L4 21.41c.39.39.9.59 1.41.59.51 0 1.02-.2 1.41-.59l7.78-7.78 2.81-2.81c.8-.78.8-2.07 0-2.86zM5.41 20L4 18.59l7.72-7.72 1.47 1.35L5.41 20z\"/>\n",
              "  </svg>\n",
              "      </button>\n",
              "      \n",
              "  <style>\n",
              "    .colab-df-container {\n",
              "      display:flex;\n",
              "      flex-wrap:wrap;\n",
              "      gap: 12px;\n",
              "    }\n",
              "\n",
              "    .colab-df-convert {\n",
              "      background-color: #E8F0FE;\n",
              "      border: none;\n",
              "      border-radius: 50%;\n",
              "      cursor: pointer;\n",
              "      display: none;\n",
              "      fill: #1967D2;\n",
              "      height: 32px;\n",
              "      padding: 0 0 0 0;\n",
              "      width: 32px;\n",
              "    }\n",
              "\n",
              "    .colab-df-convert:hover {\n",
              "      background-color: #E2EBFA;\n",
              "      box-shadow: 0px 1px 2px rgba(60, 64, 67, 0.3), 0px 1px 3px 1px rgba(60, 64, 67, 0.15);\n",
              "      fill: #174EA6;\n",
              "    }\n",
              "\n",
              "    [theme=dark] .colab-df-convert {\n",
              "      background-color: #3B4455;\n",
              "      fill: #D2E3FC;\n",
              "    }\n",
              "\n",
              "    [theme=dark] .colab-df-convert:hover {\n",
              "      background-color: #434B5C;\n",
              "      box-shadow: 0px 1px 3px 1px rgba(0, 0, 0, 0.15);\n",
              "      filter: drop-shadow(0px 1px 2px rgba(0, 0, 0, 0.3));\n",
              "      fill: #FFFFFF;\n",
              "    }\n",
              "  </style>\n",
              "\n",
              "      <script>\n",
              "        const buttonEl =\n",
              "          document.querySelector('#df-0337a72b-540e-49db-a34c-dbc403fbc220 button.colab-df-convert');\n",
              "        buttonEl.style.display =\n",
              "          google.colab.kernel.accessAllowed ? 'block' : 'none';\n",
              "\n",
              "        async function convertToInteractive(key) {\n",
              "          const element = document.querySelector('#df-0337a72b-540e-49db-a34c-dbc403fbc220');\n",
              "          const dataTable =\n",
              "            await google.colab.kernel.invokeFunction('convertToInteractive',\n",
              "                                                     [key], {});\n",
              "          if (!dataTable) return;\n",
              "\n",
              "          const docLinkHtml = 'Like what you see? Visit the ' +\n",
              "            '<a target=\"_blank\" href=https://colab.research.google.com/notebooks/data_table.ipynb>data table notebook</a>'\n",
              "            + ' to learn more about interactive tables.';\n",
              "          element.innerHTML = '';\n",
              "          dataTable['output_type'] = 'display_data';\n",
              "          await google.colab.output.renderOutput(dataTable, element);\n",
              "          const docLink = document.createElement('div');\n",
              "          docLink.innerHTML = docLinkHtml;\n",
              "          element.appendChild(docLink);\n",
              "        }\n",
              "      </script>\n",
              "    </div>\n",
              "  </div>\n",
              "  "
            ]
          },
          "metadata": {},
          "execution_count": 37
        }
      ]
    },
    {
      "cell_type": "markdown",
      "source": [
        "- 최근 60일치 코스피, 코스닥, 원달러 데이터 수집\n",
        "- 데이터 전처리\n"
      ],
      "metadata": {
        "id": "ajwrUHl4_8YH"
      }
    },
    {
      "cell_type": "code",
      "source": [
        "def oneDollar_price(pagesize,page):\n",
        "  url = f\"https://api.stock.naver.com/marketindex/exchange/FX_USDKRW/prices?page={page}&pageSize={pagesize}\"\n",
        "  response = requests.get(url)\n",
        "  data = response.json()\n",
        "  df = pd.DataFrame(data)[['localTradedAt','closePrice']]\n",
        "  return df"
      ],
      "metadata": {
        "id": "tILqvJR09yZ4"
      },
      "execution_count": 38,
      "outputs": []
    },
    {
      "cell_type": "code",
      "source": [
        "kospi = stock_price(60,1,'KOSPI')\n",
        "kosdaq = stock_price(60,1,'KOSDAQ')\n",
        "usd = oneDollar_price(60,1)\n",
        "kospi.tail(2), kosdaq.tail(2), usd.tail(2)"
      ],
      "metadata": {
        "colab": {
          "base_uri": "https://localhost:8080/"
        },
        "id": "gBBqtMYdBXMb",
        "outputId": "52f783e2-3e1f-43c9-ca0a-eaf7453d3f5a"
      },
      "execution_count": 50,
      "outputs": [
        {
          "output_type": "execute_result",
          "data": {
            "text/plain": [
              "(   localTradedAt closePrice\n",
              " 58    2022-05-11   2,592.27\n",
              " 59    2022-05-10   2,596.56,    localTradedAt closePrice\n",
              " 58    2022-05-11     866.34\n",
              " 59    2022-05-10     856.14,    localTradedAt closePrice\n",
              " 58    2022-05-11   1,274.50\n",
              " 59    2022-05-10   1,276.00)"
            ]
          },
          "metadata": {},
          "execution_count": 50
        }
      ]
    },
    {
      "cell_type": "code",
      "source": [
        "df = kospi.copy()[['closePrice']]\n",
        "df.tail(2)"
      ],
      "metadata": {
        "colab": {
          "base_uri": "https://localhost:8080/",
          "height": 111
        },
        "id": "5dtVNAH4CHtH",
        "outputId": "a42c5ea9-68ff-45c5-d98d-d3bdb0c22c46"
      },
      "execution_count": 51,
      "outputs": [
        {
          "output_type": "execute_result",
          "data": {
            "text/plain": [
              "   closePrice\n",
              "58   2,592.27\n",
              "59   2,596.56"
            ],
            "text/html": [
              "\n",
              "  <div id=\"df-b86e8799-a363-4b24-b544-2945062a83f2\">\n",
              "    <div class=\"colab-df-container\">\n",
              "      <div>\n",
              "<style scoped>\n",
              "    .dataframe tbody tr th:only-of-type {\n",
              "        vertical-align: middle;\n",
              "    }\n",
              "\n",
              "    .dataframe tbody tr th {\n",
              "        vertical-align: top;\n",
              "    }\n",
              "\n",
              "    .dataframe thead th {\n",
              "        text-align: right;\n",
              "    }\n",
              "</style>\n",
              "<table border=\"1\" class=\"dataframe\">\n",
              "  <thead>\n",
              "    <tr style=\"text-align: right;\">\n",
              "      <th></th>\n",
              "      <th>closePrice</th>\n",
              "    </tr>\n",
              "  </thead>\n",
              "  <tbody>\n",
              "    <tr>\n",
              "      <th>58</th>\n",
              "      <td>2,592.27</td>\n",
              "    </tr>\n",
              "    <tr>\n",
              "      <th>59</th>\n",
              "      <td>2,596.56</td>\n",
              "    </tr>\n",
              "  </tbody>\n",
              "</table>\n",
              "</div>\n",
              "      <button class=\"colab-df-convert\" onclick=\"convertToInteractive('df-b86e8799-a363-4b24-b544-2945062a83f2')\"\n",
              "              title=\"Convert this dataframe to an interactive table.\"\n",
              "              style=\"display:none;\">\n",
              "        \n",
              "  <svg xmlns=\"http://www.w3.org/2000/svg\" height=\"24px\"viewBox=\"0 0 24 24\"\n",
              "       width=\"24px\">\n",
              "    <path d=\"M0 0h24v24H0V0z\" fill=\"none\"/>\n",
              "    <path d=\"M18.56 5.44l.94 2.06.94-2.06 2.06-.94-2.06-.94-.94-2.06-.94 2.06-2.06.94zm-11 1L8.5 8.5l.94-2.06 2.06-.94-2.06-.94L8.5 2.5l-.94 2.06-2.06.94zm10 10l.94 2.06.94-2.06 2.06-.94-2.06-.94-.94-2.06-.94 2.06-2.06.94z\"/><path d=\"M17.41 7.96l-1.37-1.37c-.4-.4-.92-.59-1.43-.59-.52 0-1.04.2-1.43.59L10.3 9.45l-7.72 7.72c-.78.78-.78 2.05 0 2.83L4 21.41c.39.39.9.59 1.41.59.51 0 1.02-.2 1.41-.59l7.78-7.78 2.81-2.81c.8-.78.8-2.07 0-2.86zM5.41 20L4 18.59l7.72-7.72 1.47 1.35L5.41 20z\"/>\n",
              "  </svg>\n",
              "      </button>\n",
              "      \n",
              "  <style>\n",
              "    .colab-df-container {\n",
              "      display:flex;\n",
              "      flex-wrap:wrap;\n",
              "      gap: 12px;\n",
              "    }\n",
              "\n",
              "    .colab-df-convert {\n",
              "      background-color: #E8F0FE;\n",
              "      border: none;\n",
              "      border-radius: 50%;\n",
              "      cursor: pointer;\n",
              "      display: none;\n",
              "      fill: #1967D2;\n",
              "      height: 32px;\n",
              "      padding: 0 0 0 0;\n",
              "      width: 32px;\n",
              "    }\n",
              "\n",
              "    .colab-df-convert:hover {\n",
              "      background-color: #E2EBFA;\n",
              "      box-shadow: 0px 1px 2px rgba(60, 64, 67, 0.3), 0px 1px 3px 1px rgba(60, 64, 67, 0.15);\n",
              "      fill: #174EA6;\n",
              "    }\n",
              "\n",
              "    [theme=dark] .colab-df-convert {\n",
              "      background-color: #3B4455;\n",
              "      fill: #D2E3FC;\n",
              "    }\n",
              "\n",
              "    [theme=dark] .colab-df-convert:hover {\n",
              "      background-color: #434B5C;\n",
              "      box-shadow: 0px 1px 3px 1px rgba(0, 0, 0, 0.15);\n",
              "      filter: drop-shadow(0px 1px 2px rgba(0, 0, 0, 0.3));\n",
              "      fill: #FFFFFF;\n",
              "    }\n",
              "  </style>\n",
              "\n",
              "      <script>\n",
              "        const buttonEl =\n",
              "          document.querySelector('#df-b86e8799-a363-4b24-b544-2945062a83f2 button.colab-df-convert');\n",
              "        buttonEl.style.display =\n",
              "          google.colab.kernel.accessAllowed ? 'block' : 'none';\n",
              "\n",
              "        async function convertToInteractive(key) {\n",
              "          const element = document.querySelector('#df-b86e8799-a363-4b24-b544-2945062a83f2');\n",
              "          const dataTable =\n",
              "            await google.colab.kernel.invokeFunction('convertToInteractive',\n",
              "                                                     [key], {});\n",
              "          if (!dataTable) return;\n",
              "\n",
              "          const docLinkHtml = 'Like what you see? Visit the ' +\n",
              "            '<a target=\"_blank\" href=https://colab.research.google.com/notebooks/data_table.ipynb>data table notebook</a>'\n",
              "            + ' to learn more about interactive tables.';\n",
              "          element.innerHTML = '';\n",
              "          dataTable['output_type'] = 'display_data';\n",
              "          await google.colab.output.renderOutput(dataTable, element);\n",
              "          const docLink = document.createElement('div');\n",
              "          docLink.innerHTML = docLinkHtml;\n",
              "          element.appendChild(docLink);\n",
              "        }\n",
              "      </script>\n",
              "    </div>\n",
              "  </div>\n",
              "  "
            ]
          },
          "metadata": {},
          "execution_count": 51
        }
      ]
    },
    {
      "cell_type": "code",
      "source": [
        "df['kosdaq'] = kosdaq['closePrice']\n",
        "df['usd'] = usd['closePrice']\n",
        "df = df.rename(columns={'closePrice' : 'kospi'})\n",
        "df.tail(2)"
      ],
      "metadata": {
        "colab": {
          "base_uri": "https://localhost:8080/",
          "height": 111
        },
        "id": "DfIrzQyQCgd5",
        "outputId": "019a4413-1f79-4a36-8295-9cb2df1a903d"
      },
      "execution_count": 52,
      "outputs": [
        {
          "output_type": "execute_result",
          "data": {
            "text/plain": [
              "       kospi  kosdaq       usd\n",
              "58  2,592.27  866.34  1,274.50\n",
              "59  2,596.56  856.14  1,276.00"
            ],
            "text/html": [
              "\n",
              "  <div id=\"df-bd4167bc-0c2b-4116-b170-c464b510cf35\">\n",
              "    <div class=\"colab-df-container\">\n",
              "      <div>\n",
              "<style scoped>\n",
              "    .dataframe tbody tr th:only-of-type {\n",
              "        vertical-align: middle;\n",
              "    }\n",
              "\n",
              "    .dataframe tbody tr th {\n",
              "        vertical-align: top;\n",
              "    }\n",
              "\n",
              "    .dataframe thead th {\n",
              "        text-align: right;\n",
              "    }\n",
              "</style>\n",
              "<table border=\"1\" class=\"dataframe\">\n",
              "  <thead>\n",
              "    <tr style=\"text-align: right;\">\n",
              "      <th></th>\n",
              "      <th>kospi</th>\n",
              "      <th>kosdaq</th>\n",
              "      <th>usd</th>\n",
              "    </tr>\n",
              "  </thead>\n",
              "  <tbody>\n",
              "    <tr>\n",
              "      <th>58</th>\n",
              "      <td>2,592.27</td>\n",
              "      <td>866.34</td>\n",
              "      <td>1,274.50</td>\n",
              "    </tr>\n",
              "    <tr>\n",
              "      <th>59</th>\n",
              "      <td>2,596.56</td>\n",
              "      <td>856.14</td>\n",
              "      <td>1,276.00</td>\n",
              "    </tr>\n",
              "  </tbody>\n",
              "</table>\n",
              "</div>\n",
              "      <button class=\"colab-df-convert\" onclick=\"convertToInteractive('df-bd4167bc-0c2b-4116-b170-c464b510cf35')\"\n",
              "              title=\"Convert this dataframe to an interactive table.\"\n",
              "              style=\"display:none;\">\n",
              "        \n",
              "  <svg xmlns=\"http://www.w3.org/2000/svg\" height=\"24px\"viewBox=\"0 0 24 24\"\n",
              "       width=\"24px\">\n",
              "    <path d=\"M0 0h24v24H0V0z\" fill=\"none\"/>\n",
              "    <path d=\"M18.56 5.44l.94 2.06.94-2.06 2.06-.94-2.06-.94-.94-2.06-.94 2.06-2.06.94zm-11 1L8.5 8.5l.94-2.06 2.06-.94-2.06-.94L8.5 2.5l-.94 2.06-2.06.94zm10 10l.94 2.06.94-2.06 2.06-.94-2.06-.94-.94-2.06-.94 2.06-2.06.94z\"/><path d=\"M17.41 7.96l-1.37-1.37c-.4-.4-.92-.59-1.43-.59-.52 0-1.04.2-1.43.59L10.3 9.45l-7.72 7.72c-.78.78-.78 2.05 0 2.83L4 21.41c.39.39.9.59 1.41.59.51 0 1.02-.2 1.41-.59l7.78-7.78 2.81-2.81c.8-.78.8-2.07 0-2.86zM5.41 20L4 18.59l7.72-7.72 1.47 1.35L5.41 20z\"/>\n",
              "  </svg>\n",
              "      </button>\n",
              "      \n",
              "  <style>\n",
              "    .colab-df-container {\n",
              "      display:flex;\n",
              "      flex-wrap:wrap;\n",
              "      gap: 12px;\n",
              "    }\n",
              "\n",
              "    .colab-df-convert {\n",
              "      background-color: #E8F0FE;\n",
              "      border: none;\n",
              "      border-radius: 50%;\n",
              "      cursor: pointer;\n",
              "      display: none;\n",
              "      fill: #1967D2;\n",
              "      height: 32px;\n",
              "      padding: 0 0 0 0;\n",
              "      width: 32px;\n",
              "    }\n",
              "\n",
              "    .colab-df-convert:hover {\n",
              "      background-color: #E2EBFA;\n",
              "      box-shadow: 0px 1px 2px rgba(60, 64, 67, 0.3), 0px 1px 3px 1px rgba(60, 64, 67, 0.15);\n",
              "      fill: #174EA6;\n",
              "    }\n",
              "\n",
              "    [theme=dark] .colab-df-convert {\n",
              "      background-color: #3B4455;\n",
              "      fill: #D2E3FC;\n",
              "    }\n",
              "\n",
              "    [theme=dark] .colab-df-convert:hover {\n",
              "      background-color: #434B5C;\n",
              "      box-shadow: 0px 1px 3px 1px rgba(0, 0, 0, 0.15);\n",
              "      filter: drop-shadow(0px 1px 2px rgba(0, 0, 0, 0.3));\n",
              "      fill: #FFFFFF;\n",
              "    }\n",
              "  </style>\n",
              "\n",
              "      <script>\n",
              "        const buttonEl =\n",
              "          document.querySelector('#df-bd4167bc-0c2b-4116-b170-c464b510cf35 button.colab-df-convert');\n",
              "        buttonEl.style.display =\n",
              "          google.colab.kernel.accessAllowed ? 'block' : 'none';\n",
              "\n",
              "        async function convertToInteractive(key) {\n",
              "          const element = document.querySelector('#df-bd4167bc-0c2b-4116-b170-c464b510cf35');\n",
              "          const dataTable =\n",
              "            await google.colab.kernel.invokeFunction('convertToInteractive',\n",
              "                                                     [key], {});\n",
              "          if (!dataTable) return;\n",
              "\n",
              "          const docLinkHtml = 'Like what you see? Visit the ' +\n",
              "            '<a target=\"_blank\" href=https://colab.research.google.com/notebooks/data_table.ipynb>data table notebook</a>'\n",
              "            + ' to learn more about interactive tables.';\n",
              "          element.innerHTML = '';\n",
              "          dataTable['output_type'] = 'display_data';\n",
              "          await google.colab.output.renderOutput(dataTable, element);\n",
              "          const docLink = document.createElement('div');\n",
              "          docLink.innerHTML = docLinkHtml;\n",
              "          element.appendChild(docLink);\n",
              "        }\n",
              "      </script>\n",
              "    </div>\n",
              "  </div>\n",
              "  "
            ]
          },
          "metadata": {},
          "execution_count": 52
        }
      ]
    },
    {
      "cell_type": "code",
      "source": [
        "df['kospi'] = df['kospi'].apply(lambda data: float(data.replace(\",\",\"\")))\n",
        "df['kosdaq'] = df['kosdaq'].apply(lambda data: float(data.replace(\",\",\"\")))\n",
        "df['usd'] = df['usd'].apply(lambda data: float(data.replace(\",\",\"\")))\n",
        "df.tail(2)"
      ],
      "metadata": {
        "colab": {
          "base_uri": "https://localhost:8080/",
          "height": 111
        },
        "id": "D3KIc-0-C20K",
        "outputId": "906b3024-3707-4c5e-fa1a-ae356695d8d4"
      },
      "execution_count": 53,
      "outputs": [
        {
          "output_type": "execute_result",
          "data": {
            "text/plain": [
              "      kospi  kosdaq     usd\n",
              "58  2592.27  866.34  1274.5\n",
              "59  2596.56  856.14  1276.0"
            ],
            "text/html": [
              "\n",
              "  <div id=\"df-cc5b2fc7-c3ae-46da-8fa9-3bef8ea0b8d8\">\n",
              "    <div class=\"colab-df-container\">\n",
              "      <div>\n",
              "<style scoped>\n",
              "    .dataframe tbody tr th:only-of-type {\n",
              "        vertical-align: middle;\n",
              "    }\n",
              "\n",
              "    .dataframe tbody tr th {\n",
              "        vertical-align: top;\n",
              "    }\n",
              "\n",
              "    .dataframe thead th {\n",
              "        text-align: right;\n",
              "    }\n",
              "</style>\n",
              "<table border=\"1\" class=\"dataframe\">\n",
              "  <thead>\n",
              "    <tr style=\"text-align: right;\">\n",
              "      <th></th>\n",
              "      <th>kospi</th>\n",
              "      <th>kosdaq</th>\n",
              "      <th>usd</th>\n",
              "    </tr>\n",
              "  </thead>\n",
              "  <tbody>\n",
              "    <tr>\n",
              "      <th>58</th>\n",
              "      <td>2592.27</td>\n",
              "      <td>866.34</td>\n",
              "      <td>1274.5</td>\n",
              "    </tr>\n",
              "    <tr>\n",
              "      <th>59</th>\n",
              "      <td>2596.56</td>\n",
              "      <td>856.14</td>\n",
              "      <td>1276.0</td>\n",
              "    </tr>\n",
              "  </tbody>\n",
              "</table>\n",
              "</div>\n",
              "      <button class=\"colab-df-convert\" onclick=\"convertToInteractive('df-cc5b2fc7-c3ae-46da-8fa9-3bef8ea0b8d8')\"\n",
              "              title=\"Convert this dataframe to an interactive table.\"\n",
              "              style=\"display:none;\">\n",
              "        \n",
              "  <svg xmlns=\"http://www.w3.org/2000/svg\" height=\"24px\"viewBox=\"0 0 24 24\"\n",
              "       width=\"24px\">\n",
              "    <path d=\"M0 0h24v24H0V0z\" fill=\"none\"/>\n",
              "    <path d=\"M18.56 5.44l.94 2.06.94-2.06 2.06-.94-2.06-.94-.94-2.06-.94 2.06-2.06.94zm-11 1L8.5 8.5l.94-2.06 2.06-.94-2.06-.94L8.5 2.5l-.94 2.06-2.06.94zm10 10l.94 2.06.94-2.06 2.06-.94-2.06-.94-.94-2.06-.94 2.06-2.06.94z\"/><path d=\"M17.41 7.96l-1.37-1.37c-.4-.4-.92-.59-1.43-.59-.52 0-1.04.2-1.43.59L10.3 9.45l-7.72 7.72c-.78.78-.78 2.05 0 2.83L4 21.41c.39.39.9.59 1.41.59.51 0 1.02-.2 1.41-.59l7.78-7.78 2.81-2.81c.8-.78.8-2.07 0-2.86zM5.41 20L4 18.59l7.72-7.72 1.47 1.35L5.41 20z\"/>\n",
              "  </svg>\n",
              "      </button>\n",
              "      \n",
              "  <style>\n",
              "    .colab-df-container {\n",
              "      display:flex;\n",
              "      flex-wrap:wrap;\n",
              "      gap: 12px;\n",
              "    }\n",
              "\n",
              "    .colab-df-convert {\n",
              "      background-color: #E8F0FE;\n",
              "      border: none;\n",
              "      border-radius: 50%;\n",
              "      cursor: pointer;\n",
              "      display: none;\n",
              "      fill: #1967D2;\n",
              "      height: 32px;\n",
              "      padding: 0 0 0 0;\n",
              "      width: 32px;\n",
              "    }\n",
              "\n",
              "    .colab-df-convert:hover {\n",
              "      background-color: #E2EBFA;\n",
              "      box-shadow: 0px 1px 2px rgba(60, 64, 67, 0.3), 0px 1px 3px 1px rgba(60, 64, 67, 0.15);\n",
              "      fill: #174EA6;\n",
              "    }\n",
              "\n",
              "    [theme=dark] .colab-df-convert {\n",
              "      background-color: #3B4455;\n",
              "      fill: #D2E3FC;\n",
              "    }\n",
              "\n",
              "    [theme=dark] .colab-df-convert:hover {\n",
              "      background-color: #434B5C;\n",
              "      box-shadow: 0px 1px 3px 1px rgba(0, 0, 0, 0.15);\n",
              "      filter: drop-shadow(0px 1px 2px rgba(0, 0, 0, 0.3));\n",
              "      fill: #FFFFFF;\n",
              "    }\n",
              "  </style>\n",
              "\n",
              "      <script>\n",
              "        const buttonEl =\n",
              "          document.querySelector('#df-cc5b2fc7-c3ae-46da-8fa9-3bef8ea0b8d8 button.colab-df-convert');\n",
              "        buttonEl.style.display =\n",
              "          google.colab.kernel.accessAllowed ? 'block' : 'none';\n",
              "\n",
              "        async function convertToInteractive(key) {\n",
              "          const element = document.querySelector('#df-cc5b2fc7-c3ae-46da-8fa9-3bef8ea0b8d8');\n",
              "          const dataTable =\n",
              "            await google.colab.kernel.invokeFunction('convertToInteractive',\n",
              "                                                     [key], {});\n",
              "          if (!dataTable) return;\n",
              "\n",
              "          const docLinkHtml = 'Like what you see? Visit the ' +\n",
              "            '<a target=\"_blank\" href=https://colab.research.google.com/notebooks/data_table.ipynb>data table notebook</a>'\n",
              "            + ' to learn more about interactive tables.';\n",
              "          element.innerHTML = '';\n",
              "          dataTable['output_type'] = 'display_data';\n",
              "          await google.colab.output.renderOutput(dataTable, element);\n",
              "          const docLink = document.createElement('div');\n",
              "          docLink.innerHTML = docLinkHtml;\n",
              "          element.appendChild(docLink);\n",
              "        }\n",
              "      </script>\n",
              "    </div>\n",
              "  </div>\n",
              "  "
            ]
          },
          "metadata": {},
          "execution_count": 53
        }
      ]
    },
    {
      "cell_type": "code",
      "source": [
        "df.corr()"
      ],
      "metadata": {
        "colab": {
          "base_uri": "https://localhost:8080/",
          "height": 142
        },
        "id": "jUnC9DFjDirc",
        "outputId": "52900efb-83e9-448e-f6b0-5e9e3e40978d"
      },
      "execution_count": 54,
      "outputs": [
        {
          "output_type": "execute_result",
          "data": {
            "text/plain": [
              "           kospi    kosdaq       usd\n",
              "kospi   1.000000  0.984076 -0.876290\n",
              "kosdaq  0.984076  1.000000 -0.819096\n",
              "usd    -0.876290 -0.819096  1.000000"
            ],
            "text/html": [
              "\n",
              "  <div id=\"df-95a8c978-c9b8-4c02-94d0-b9d36c82f730\">\n",
              "    <div class=\"colab-df-container\">\n",
              "      <div>\n",
              "<style scoped>\n",
              "    .dataframe tbody tr th:only-of-type {\n",
              "        vertical-align: middle;\n",
              "    }\n",
              "\n",
              "    .dataframe tbody tr th {\n",
              "        vertical-align: top;\n",
              "    }\n",
              "\n",
              "    .dataframe thead th {\n",
              "        text-align: right;\n",
              "    }\n",
              "</style>\n",
              "<table border=\"1\" class=\"dataframe\">\n",
              "  <thead>\n",
              "    <tr style=\"text-align: right;\">\n",
              "      <th></th>\n",
              "      <th>kospi</th>\n",
              "      <th>kosdaq</th>\n",
              "      <th>usd</th>\n",
              "    </tr>\n",
              "  </thead>\n",
              "  <tbody>\n",
              "    <tr>\n",
              "      <th>kospi</th>\n",
              "      <td>1.000000</td>\n",
              "      <td>0.984076</td>\n",
              "      <td>-0.876290</td>\n",
              "    </tr>\n",
              "    <tr>\n",
              "      <th>kosdaq</th>\n",
              "      <td>0.984076</td>\n",
              "      <td>1.000000</td>\n",
              "      <td>-0.819096</td>\n",
              "    </tr>\n",
              "    <tr>\n",
              "      <th>usd</th>\n",
              "      <td>-0.876290</td>\n",
              "      <td>-0.819096</td>\n",
              "      <td>1.000000</td>\n",
              "    </tr>\n",
              "  </tbody>\n",
              "</table>\n",
              "</div>\n",
              "      <button class=\"colab-df-convert\" onclick=\"convertToInteractive('df-95a8c978-c9b8-4c02-94d0-b9d36c82f730')\"\n",
              "              title=\"Convert this dataframe to an interactive table.\"\n",
              "              style=\"display:none;\">\n",
              "        \n",
              "  <svg xmlns=\"http://www.w3.org/2000/svg\" height=\"24px\"viewBox=\"0 0 24 24\"\n",
              "       width=\"24px\">\n",
              "    <path d=\"M0 0h24v24H0V0z\" fill=\"none\"/>\n",
              "    <path d=\"M18.56 5.44l.94 2.06.94-2.06 2.06-.94-2.06-.94-.94-2.06-.94 2.06-2.06.94zm-11 1L8.5 8.5l.94-2.06 2.06-.94-2.06-.94L8.5 2.5l-.94 2.06-2.06.94zm10 10l.94 2.06.94-2.06 2.06-.94-2.06-.94-.94-2.06-.94 2.06-2.06.94z\"/><path d=\"M17.41 7.96l-1.37-1.37c-.4-.4-.92-.59-1.43-.59-.52 0-1.04.2-1.43.59L10.3 9.45l-7.72 7.72c-.78.78-.78 2.05 0 2.83L4 21.41c.39.39.9.59 1.41.59.51 0 1.02-.2 1.41-.59l7.78-7.78 2.81-2.81c.8-.78.8-2.07 0-2.86zM5.41 20L4 18.59l7.72-7.72 1.47 1.35L5.41 20z\"/>\n",
              "  </svg>\n",
              "      </button>\n",
              "      \n",
              "  <style>\n",
              "    .colab-df-container {\n",
              "      display:flex;\n",
              "      flex-wrap:wrap;\n",
              "      gap: 12px;\n",
              "    }\n",
              "\n",
              "    .colab-df-convert {\n",
              "      background-color: #E8F0FE;\n",
              "      border: none;\n",
              "      border-radius: 50%;\n",
              "      cursor: pointer;\n",
              "      display: none;\n",
              "      fill: #1967D2;\n",
              "      height: 32px;\n",
              "      padding: 0 0 0 0;\n",
              "      width: 32px;\n",
              "    }\n",
              "\n",
              "    .colab-df-convert:hover {\n",
              "      background-color: #E2EBFA;\n",
              "      box-shadow: 0px 1px 2px rgba(60, 64, 67, 0.3), 0px 1px 3px 1px rgba(60, 64, 67, 0.15);\n",
              "      fill: #174EA6;\n",
              "    }\n",
              "\n",
              "    [theme=dark] .colab-df-convert {\n",
              "      background-color: #3B4455;\n",
              "      fill: #D2E3FC;\n",
              "    }\n",
              "\n",
              "    [theme=dark] .colab-df-convert:hover {\n",
              "      background-color: #434B5C;\n",
              "      box-shadow: 0px 1px 3px 1px rgba(0, 0, 0, 0.15);\n",
              "      filter: drop-shadow(0px 1px 2px rgba(0, 0, 0, 0.3));\n",
              "      fill: #FFFFFF;\n",
              "    }\n",
              "  </style>\n",
              "\n",
              "      <script>\n",
              "        const buttonEl =\n",
              "          document.querySelector('#df-95a8c978-c9b8-4c02-94d0-b9d36c82f730 button.colab-df-convert');\n",
              "        buttonEl.style.display =\n",
              "          google.colab.kernel.accessAllowed ? 'block' : 'none';\n",
              "\n",
              "        async function convertToInteractive(key) {\n",
              "          const element = document.querySelector('#df-95a8c978-c9b8-4c02-94d0-b9d36c82f730');\n",
              "          const dataTable =\n",
              "            await google.colab.kernel.invokeFunction('convertToInteractive',\n",
              "                                                     [key], {});\n",
              "          if (!dataTable) return;\n",
              "\n",
              "          const docLinkHtml = 'Like what you see? Visit the ' +\n",
              "            '<a target=\"_blank\" href=https://colab.research.google.com/notebooks/data_table.ipynb>data table notebook</a>'\n",
              "            + ' to learn more about interactive tables.';\n",
              "          element.innerHTML = '';\n",
              "          dataTable['output_type'] = 'display_data';\n",
              "          await google.colab.output.renderOutput(dataTable, element);\n",
              "          const docLink = document.createElement('div');\n",
              "          docLink.innerHTML = docLinkHtml;\n",
              "          element.appendChild(docLink);\n",
              "        }\n",
              "      </script>\n",
              "    </div>\n",
              "  </div>\n",
              "  "
            ]
          },
          "metadata": {},
          "execution_count": 54
        }
      ]
    },
    {
      "cell_type": "markdown",
      "source": [
        "- kospi - kosdaq : 0.984 : 1과 가까우니 강한 양의 상관관계\n",
        "- kospi - usd : -0.876 : -1과 가까우니 강한 음의 상관관계"
      ],
      "metadata": {
        "id": "gH1XbY6sFaZ0"
      }
    },
    {
      "cell_type": "code",
      "source": [
        ""
      ],
      "metadata": {
        "id": "CIyENkO4DvYp"
      },
      "execution_count": null,
      "outputs": []
    }
  ],
  "metadata": {
    "colab": {
      "collapsed_sections": [
        "ZLqxbGjLhZaZ",
        "7v1xXBpTjyC-"
      ],
      "name": "python.ipynb",
      "provenance": [],
      "toc_visible": true,
      "authorship_tag": "ABX9TyPW8tYTw+Exf/cuR2LeYAjY",
      "include_colab_link": true
    },
    "kernelspec": {
      "display_name": "Python 3",
      "name": "python3"
    },
    "language_info": {
      "name": "python"
    }
  },
  "nbformat": 4,
  "nbformat_minor": 0
}