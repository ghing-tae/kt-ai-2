{
  "cells": [
    {
      "cell_type": "markdown",
      "metadata": {
        "id": "view-in-github",
        "colab_type": "text"
      },
      "source": [
        "<a href=\"https://colab.research.google.com/github/ghing-tae/kt-ai-2/blob/master/python.ipynb\" target=\"_parent\"><img src=\"https://colab.research.google.com/assets/colab-badge.svg\" alt=\"Open In Colab\"/></a>"
      ]
    },
    {
      "cell_type": "markdown",
      "metadata": {
        "id": "ZLqxbGjLhZaZ"
      },
      "source": [
        "## python과 알고리즘 문제 정리\n",
        "*   네 정수의 최댓값 구하기"
      ]
    },
    {
      "cell_type": "code",
      "execution_count": 1,
      "metadata": {
        "colab": {
          "base_uri": "https://localhost:8080/",
          "height": 579
        },
        "id": "FRaWxtdLhniG",
        "outputId": "30423c2b-c2fe-4978-dae8-e4c90717c25b"
      },
      "outputs": [
        {
          "output_type": "stream",
          "name": "stdout",
          "text": [
            "네 정수의 최댓값을 구합니다. \n"
          ]
        },
        {
          "output_type": "error",
          "ename": "KeyboardInterrupt",
          "evalue": "ignored",
          "traceback": [
            "\u001b[0;31m---------------------------------------------------------------------------\u001b[0m",
            "\u001b[0;31mKeyboardInterrupt\u001b[0m                         Traceback (most recent call last)",
            "\u001b[0;32m/usr/local/lib/python3.7/dist-packages/ipykernel/kernelbase.py\u001b[0m in \u001b[0;36m_input_request\u001b[0;34m(self, prompt, ident, parent, password)\u001b[0m\n\u001b[1;32m    728\u001b[0m             \u001b[0;32mtry\u001b[0m\u001b[0;34m:\u001b[0m\u001b[0;34m\u001b[0m\u001b[0;34m\u001b[0m\u001b[0m\n\u001b[0;32m--> 729\u001b[0;31m                 \u001b[0mident\u001b[0m\u001b[0;34m,\u001b[0m \u001b[0mreply\u001b[0m \u001b[0;34m=\u001b[0m \u001b[0mself\u001b[0m\u001b[0;34m.\u001b[0m\u001b[0msession\u001b[0m\u001b[0;34m.\u001b[0m\u001b[0mrecv\u001b[0m\u001b[0;34m(\u001b[0m\u001b[0mself\u001b[0m\u001b[0;34m.\u001b[0m\u001b[0mstdin_socket\u001b[0m\u001b[0;34m,\u001b[0m \u001b[0;36m0\u001b[0m\u001b[0;34m)\u001b[0m\u001b[0;34m\u001b[0m\u001b[0;34m\u001b[0m\u001b[0m\n\u001b[0m\u001b[1;32m    730\u001b[0m             \u001b[0;32mexcept\u001b[0m \u001b[0mException\u001b[0m\u001b[0;34m:\u001b[0m\u001b[0;34m\u001b[0m\u001b[0;34m\u001b[0m\u001b[0m\n",
            "\u001b[0;32m/usr/local/lib/python3.7/dist-packages/jupyter_client/session.py\u001b[0m in \u001b[0;36mrecv\u001b[0;34m(self, socket, mode, content, copy)\u001b[0m\n\u001b[1;32m    802\u001b[0m         \u001b[0;32mtry\u001b[0m\u001b[0;34m:\u001b[0m\u001b[0;34m\u001b[0m\u001b[0;34m\u001b[0m\u001b[0m\n\u001b[0;32m--> 803\u001b[0;31m             \u001b[0mmsg_list\u001b[0m \u001b[0;34m=\u001b[0m \u001b[0msocket\u001b[0m\u001b[0;34m.\u001b[0m\u001b[0mrecv_multipart\u001b[0m\u001b[0;34m(\u001b[0m\u001b[0mmode\u001b[0m\u001b[0;34m,\u001b[0m \u001b[0mcopy\u001b[0m\u001b[0;34m=\u001b[0m\u001b[0mcopy\u001b[0m\u001b[0;34m)\u001b[0m\u001b[0;34m\u001b[0m\u001b[0;34m\u001b[0m\u001b[0m\n\u001b[0m\u001b[1;32m    804\u001b[0m         \u001b[0;32mexcept\u001b[0m \u001b[0mzmq\u001b[0m\u001b[0;34m.\u001b[0m\u001b[0mZMQError\u001b[0m \u001b[0;32mas\u001b[0m \u001b[0me\u001b[0m\u001b[0;34m:\u001b[0m\u001b[0;34m\u001b[0m\u001b[0;34m\u001b[0m\u001b[0m\n",
            "\u001b[0;32m/usr/local/lib/python3.7/dist-packages/zmq/sugar/socket.py\u001b[0m in \u001b[0;36mrecv_multipart\u001b[0;34m(self, flags, copy, track)\u001b[0m\n\u001b[1;32m    726\u001b[0m         \"\"\"\n\u001b[0;32m--> 727\u001b[0;31m         \u001b[0mparts\u001b[0m \u001b[0;34m=\u001b[0m \u001b[0;34m[\u001b[0m\u001b[0mself\u001b[0m\u001b[0;34m.\u001b[0m\u001b[0mrecv\u001b[0m\u001b[0;34m(\u001b[0m\u001b[0mflags\u001b[0m\u001b[0;34m,\u001b[0m \u001b[0mcopy\u001b[0m\u001b[0;34m=\u001b[0m\u001b[0mcopy\u001b[0m\u001b[0;34m,\u001b[0m \u001b[0mtrack\u001b[0m\u001b[0;34m=\u001b[0m\u001b[0mtrack\u001b[0m\u001b[0;34m)\u001b[0m\u001b[0;34m]\u001b[0m\u001b[0;34m\u001b[0m\u001b[0;34m\u001b[0m\u001b[0m\n\u001b[0m\u001b[1;32m    728\u001b[0m         \u001b[0;31m# have first part already, only loop while more to receive\u001b[0m\u001b[0;34m\u001b[0m\u001b[0;34m\u001b[0m\u001b[0;34m\u001b[0m\u001b[0m\n",
            "\u001b[0;32mzmq/backend/cython/socket.pyx\u001b[0m in \u001b[0;36mzmq.backend.cython.socket.Socket.recv\u001b[0;34m()\u001b[0m\n",
            "\u001b[0;32mzmq/backend/cython/socket.pyx\u001b[0m in \u001b[0;36mzmq.backend.cython.socket.Socket.recv\u001b[0;34m()\u001b[0m\n",
            "\u001b[0;32mzmq/backend/cython/socket.pyx\u001b[0m in \u001b[0;36mzmq.backend.cython.socket._recv_copy\u001b[0;34m()\u001b[0m\n",
            "\u001b[0;32m/usr/local/lib/python3.7/dist-packages/zmq/backend/cython/checkrc.pxd\u001b[0m in \u001b[0;36mzmq.backend.cython.checkrc._check_rc\u001b[0;34m()\u001b[0m\n",
            "\u001b[0;31mKeyboardInterrupt\u001b[0m: ",
            "\nDuring handling of the above exception, another exception occurred:\n",
            "\u001b[0;31mKeyboardInterrupt\u001b[0m                         Traceback (most recent call last)",
            "\u001b[0;32m<ipython-input-1-24217d23b5f2>\u001b[0m in \u001b[0;36m<module>\u001b[0;34m()\u001b[0m\n\u001b[1;32m     10\u001b[0m \u001b[0;34m\u001b[0m\u001b[0m\n\u001b[1;32m     11\u001b[0m \u001b[0mprint\u001b[0m\u001b[0;34m(\u001b[0m\u001b[0;34m'네 정수의 최댓값을 구합니다. '\u001b[0m\u001b[0;34m)\u001b[0m\u001b[0;34m\u001b[0m\u001b[0;34m\u001b[0m\u001b[0m\n\u001b[0;32m---> 12\u001b[0;31m \u001b[0ma\u001b[0m \u001b[0;34m=\u001b[0m \u001b[0mint\u001b[0m\u001b[0;34m(\u001b[0m\u001b[0minput\u001b[0m\u001b[0;34m(\u001b[0m\u001b[0;34m'정수 a값을 입력하세요. : '\u001b[0m\u001b[0;34m)\u001b[0m\u001b[0;34m)\u001b[0m\u001b[0;34m\u001b[0m\u001b[0;34m\u001b[0m\u001b[0m\n\u001b[0m\u001b[1;32m     13\u001b[0m \u001b[0mb\u001b[0m \u001b[0;34m=\u001b[0m \u001b[0mint\u001b[0m\u001b[0;34m(\u001b[0m\u001b[0minput\u001b[0m\u001b[0;34m(\u001b[0m\u001b[0;34m'정수 b값을 입력하세요. : '\u001b[0m\u001b[0;34m)\u001b[0m\u001b[0;34m)\u001b[0m\u001b[0;34m\u001b[0m\u001b[0;34m\u001b[0m\u001b[0m\n\u001b[1;32m     14\u001b[0m \u001b[0mc\u001b[0m \u001b[0;34m=\u001b[0m \u001b[0mint\u001b[0m\u001b[0;34m(\u001b[0m\u001b[0minput\u001b[0m\u001b[0;34m(\u001b[0m\u001b[0;34m'정수 c값을 입력하세요. : '\u001b[0m\u001b[0;34m)\u001b[0m\u001b[0;34m)\u001b[0m\u001b[0;34m\u001b[0m\u001b[0;34m\u001b[0m\u001b[0m\n",
            "\u001b[0;32m/usr/local/lib/python3.7/dist-packages/ipykernel/kernelbase.py\u001b[0m in \u001b[0;36mraw_input\u001b[0;34m(self, prompt)\u001b[0m\n\u001b[1;32m    702\u001b[0m             \u001b[0mself\u001b[0m\u001b[0;34m.\u001b[0m\u001b[0m_parent_ident\u001b[0m\u001b[0;34m,\u001b[0m\u001b[0;34m\u001b[0m\u001b[0;34m\u001b[0m\u001b[0m\n\u001b[1;32m    703\u001b[0m             \u001b[0mself\u001b[0m\u001b[0;34m.\u001b[0m\u001b[0m_parent_header\u001b[0m\u001b[0;34m,\u001b[0m\u001b[0;34m\u001b[0m\u001b[0;34m\u001b[0m\u001b[0m\n\u001b[0;32m--> 704\u001b[0;31m             \u001b[0mpassword\u001b[0m\u001b[0;34m=\u001b[0m\u001b[0;32mFalse\u001b[0m\u001b[0;34m,\u001b[0m\u001b[0;34m\u001b[0m\u001b[0;34m\u001b[0m\u001b[0m\n\u001b[0m\u001b[1;32m    705\u001b[0m         )\n\u001b[1;32m    706\u001b[0m \u001b[0;34m\u001b[0m\u001b[0m\n",
            "\u001b[0;32m/usr/local/lib/python3.7/dist-packages/ipykernel/kernelbase.py\u001b[0m in \u001b[0;36m_input_request\u001b[0;34m(self, prompt, ident, parent, password)\u001b[0m\n\u001b[1;32m    732\u001b[0m             \u001b[0;32mexcept\u001b[0m \u001b[0mKeyboardInterrupt\u001b[0m\u001b[0;34m:\u001b[0m\u001b[0;34m\u001b[0m\u001b[0;34m\u001b[0m\u001b[0m\n\u001b[1;32m    733\u001b[0m                 \u001b[0;31m# re-raise KeyboardInterrupt, to truncate traceback\u001b[0m\u001b[0;34m\u001b[0m\u001b[0;34m\u001b[0m\u001b[0;34m\u001b[0m\u001b[0m\n\u001b[0;32m--> 734\u001b[0;31m                 \u001b[0;32mraise\u001b[0m \u001b[0mKeyboardInterrupt\u001b[0m\u001b[0;34m\u001b[0m\u001b[0;34m\u001b[0m\u001b[0m\n\u001b[0m\u001b[1;32m    735\u001b[0m             \u001b[0;32melse\u001b[0m\u001b[0;34m:\u001b[0m\u001b[0;34m\u001b[0m\u001b[0;34m\u001b[0m\u001b[0m\n\u001b[1;32m    736\u001b[0m                 \u001b[0;32mbreak\u001b[0m\u001b[0;34m\u001b[0m\u001b[0;34m\u001b[0m\u001b[0m\n",
            "\u001b[0;31mKeyboardInterrupt\u001b[0m: "
          ]
        }
      ],
      "source": [
        "def max4(a, b, c, d):\n",
        "  maximum = a\n",
        "  if b > maximum:\n",
        "    maximum = b\n",
        "  if c > maximum:\n",
        "    maximum = c\n",
        "  if d > maximum:\n",
        "    maximum = d\n",
        "  return maximum\n",
        "\n",
        "print('네 정수의 최댓값을 구합니다. ')\n",
        "a = int(input('정수 a값을 입력하세요. : '))\n",
        "b = int(input('정수 b값을 입력하세요. : '))\n",
        "c = int(input('정수 c값을 입력하세요. : '))\n",
        "d = int(input('정수 d값을 입력하세요. : '))\n",
        "print(f'최댓값 : {max4(a,b,c,d)}')"
      ]
    },
    {
      "cell_type": "markdown",
      "metadata": {
        "id": "yIh37GYHhuGh"
      },
      "source": [
        "*   a부터 b까지 정수의 합을 구합니다."
      ]
    },
    {
      "cell_type": "code",
      "execution_count": null,
      "metadata": {
        "id": "4SeRazBchqSw"
      },
      "outputs": [],
      "source": [
        "print('a부터 b까지 정수의 합을 구합니다. ')\n",
        "\n",
        "def sum_ab(a,b):\n",
        "  sum_ab = 0\n",
        "  if a > b:\n",
        "    a,b = b,a\n",
        "  for i in range(a,b+1):\n",
        "    sum_ab += i\n",
        "  return sum_ab\n",
        "\n",
        "a = int(input('a의 값을 입력하세요. : '))\n",
        "b = int(input('b의 값을 입력하세요. : '))\n",
        "print(f'정수의 합은 : {sum_ab(a,b)}')"
      ]
    },
    {
      "cell_type": "markdown",
      "metadata": {
        "id": "B4cVB_Eeh3Gy"
      },
      "source": [
        "*   *를 출력하는 코드를 작성하세요."
      ]
    },
    {
      "cell_type": "code",
      "execution_count": null,
      "metadata": {
        "id": "xcpEXlsoh4Bv"
      },
      "outputs": [],
      "source": [
        "print('*를 출력합니다.')\n",
        "def ch_prt(a,b):\n",
        "  for _ in range(a//b):\n",
        "    for _ in range(b):\n",
        "      print('*', end='')\n",
        "    print()\n",
        "  print('*'*(a%b))\n",
        "a = int(input('몇 개를 출력할까요? : '))\n",
        "b = int(input('몇 개마다 줄바꿈을 할까요? : '))\n",
        "ch_prt(a,b)"
      ]
    },
    {
      "cell_type": "markdown",
      "metadata": {
        "id": "NFlAdCthh98W"
      },
      "source": [
        "*   1부터 n까지 정수의 합을 구하시오. (무한루프와 break를 사용) "
      ]
    },
    {
      "cell_type": "code",
      "execution_count": null,
      "metadata": {
        "id": "hFJUSlQ1iBtQ"
      },
      "outputs": [],
      "source": [
        "print('1부터 n까지 정수의 합을 구합니다.')\n",
        "def n_sum(a):\n",
        "  while 1:   \n",
        "    if a > 0:\n",
        "      break\n",
        "    a = int(input('n의 값을 입력하세요. : '))\n",
        "  sum_n = 0\n",
        "  for i in range(1,a+1):\n",
        "    sum_n += i\n",
        "  return sum_n\n",
        "n = int(input('n의 값을 입력하세요. : '))\n",
        "print(f'정수의 합은 : {n_sum(n)}')"
      ]
    },
    {
      "cell_type": "markdown",
      "metadata": {
        "id": "Q8RLN71tiF93"
      },
      "source": [
        "*   직사각형의 넓이를 입력받으면 가로와 세로를 구하는 함수를 작성하세요. (중복되는 것 없이 출력되게 하시오)"
      ]
    },
    {
      "cell_type": "code",
      "execution_count": null,
      "metadata": {
        "id": "pNiWq2CAiKJE"
      },
      "outputs": [],
      "source": [
        "n = int(input('직사각형의 넓이를 적으세요. : '))\n",
        "def area(n):\n",
        "  for i in range(1,n+1):\n",
        "    if i * i > n:break\n",
        "    if n % i:continue\n",
        "    print(f'{i} * {n//i}')\n",
        "area(n)"
      ]
    },
    {
      "cell_type": "markdown",
      "metadata": {
        "id": "rSFZKcv2Pn1C"
      },
      "source": [
        "- 1차원 배열 만들기"
      ]
    },
    {
      "cell_type": "code",
      "execution_count": null,
      "metadata": {
        "id": "mHnX3QrMPmGo"
      },
      "outputs": [],
      "source": [
        "# 1차원 리스트\n",
        "a1 = [1,2,3,4,5]\n",
        "\n",
        "# 배열로 변환\n",
        "b1 = np.array(a1)\n",
        "\n",
        "# 확인\n",
        "print(a1)\n",
        "print(b1)"
      ]
    },
    {
      "cell_type": "markdown",
      "metadata": {
        "id": "ng1W-VUwWs3a"
      },
      "source": [
        "- 2차원 배열 만들기"
      ]
    },
    {
      "cell_type": "code",
      "execution_count": null,
      "metadata": {
        "id": "G-oWS39ZWqcq"
      },
      "outputs": [],
      "source": [
        "# 2차원 리스트\n",
        "a2 =[[1.5, 2.5, 3.2],[4.2, 5.7, 6.4]]\n",
        "\n",
        "# 배열로 변환\n",
        "b2 = np.array(a2)\n",
        "\n",
        "# 확인\n",
        "print(a2)\n",
        "print(b2)"
      ]
    },
    {
      "cell_type": "markdown",
      "metadata": {
        "id": "-cGjEnwvXGGZ"
      },
      "source": [
        "- 3차원 배열 만들기"
      ]
    },
    {
      "cell_type": "code",
      "execution_count": null,
      "metadata": {
        "id": "cZrPAu3dXCg0"
      },
      "outputs": [],
      "source": [
        "# 3차원 리스트\n",
        "a3 = [[[1,2,3,],[4,7,6],[8,3,4]],[[6, 2, 4],[8,1,5],[3,5,9]]]\n",
        "# 배열로 변환\n",
        "b3 = np.array(a3)\n",
        "# 확인\n",
        "print(b3)"
      ]
    },
    {
      "cell_type": "markdown",
      "metadata": {
        "id": "jNWAcQM1X6Vp"
      },
      "source": [
        "1. 차원 확인\n",
        "- ndim 속성으로 배열 차원을 확인합니다."
      ]
    },
    {
      "cell_type": "code",
      "execution_count": null,
      "metadata": {
        "id": "ebY36mhkXlbf"
      },
      "outputs": [],
      "source": [
        "# 차원 확인\n",
        "print(b1.ndim)\n",
        "print(b2.ndim)\n",
        "print(b3.ndim)"
      ]
    },
    {
      "cell_type": "markdown",
      "metadata": {
        "id": "vnCFMDbnYTSF"
      },
      "source": [
        "2. 형태(크기) 확인\n",
        "- shape 속성으로 배열 형태를 확인합니다.\n",
        "- 결과는 다음과 같은 형태의 튜블로 표시됩니다.\n",
        "  - 1차원 : (x,)\n",
        "  - 2차원 : (x,y)\n",
        "  - 3차원 : (x,y,z)\n",
        "- 앞에서 부터 axis 0, axis 1, axis 2의 크기를 의미합니다."
      ]
    },
    {
      "cell_type": "code",
      "execution_count": null,
      "metadata": {
        "id": "gHbvtFBIYR31"
      },
      "outputs": [],
      "source": [
        "# 형태(크기) 확인\n",
        "print(b1.shape)\n",
        "print(b2.shape)\n",
        "print(b3.shape)"
      ]
    },
    {
      "cell_type": "markdown",
      "metadata": {
        "id": "6_zoS0wpY307"
      },
      "source": [
        "3. 요소 자료형 확인\n",
        "- dtype 속성으로 배열에 포함된 요소들의 자료형을 확인합니다.\n",
        "- 배열은 한 가지 자료형만 가질 수 있다는 특징이 있습니다."
      ]
    },
    {
      "cell_type": "code",
      "execution_count": null,
      "metadata": {
        "id": "HNpIpIl4Y24A"
      },
      "outputs": [],
      "source": [
        "# 요소 자료형 확인\n",
        "print(b1.dtype)\n",
        "print(b2.dtype)\n",
        "print(b3.dtype)"
      ]
    },
    {
      "cell_type": "markdown",
      "metadata": {
        "id": "9D8xoEfXZNpu"
      },
      "source": [
        "### 연습문제\n",
        "- numpy 라이브러리를 np 별칭을 주어 불러오세요.\n",
        "- 데이터를 갖는 1차원 배열을 만든 후 ndim,shape,dtype을 확인해 보세요.\n",
        "  - c1 = np.array([10, 11, 12, 13, 14, 15])\n",
        "- 다음에 주어진 리스트를 요소로 갖는 2차원 배열을 만든 후 ndim,shape,dtype을 확인해 보세요.\n",
        "  - a = [[11, 12, 13, 14], [15, 16, 17, 18], [19, 20, 21, 22]]"
      ]
    },
    {
      "cell_type": "code",
      "execution_count": null,
      "metadata": {
        "id": "yLN_jv_dZKxD"
      },
      "outputs": [],
      "source": [
        "import numpy as np"
      ]
    },
    {
      "cell_type": "code",
      "execution_count": null,
      "metadata": {
        "id": "btmO1PXkZ4y8"
      },
      "outputs": [],
      "source": [
        "c1 = np.array([10,11,12,13,14,15])\n",
        "print(c1.ndim)\n",
        "print(c1.shape)\n",
        "print(c1.dtype)"
      ]
    },
    {
      "cell_type": "code",
      "execution_count": null,
      "metadata": {
        "id": "yhnl9fMzaCcO"
      },
      "outputs": [],
      "source": [
        "a = np.array([[11,12,13,14],[15,16,17,18],[19,20,21,22]])\n",
        "print(a.ndim)\n",
        "print(a.shape)\n",
        "print(a.dtype)"
      ]
    },
    {
      "cell_type": "markdown",
      "metadata": {
        "id": "D4IvQShbalzF"
      },
      "source": [
        "- Reshape\n",
        "  - 배열에 포함된 요소가 사라지지 않는 형태라면 자유롭게 변환할 수 있습니다."
      ]
    },
    {
      "cell_type": "code",
      "execution_count": null,
      "metadata": {
        "id": "keBgTMbdaHId"
      },
      "outputs": [],
      "source": [
        "# import numpy as np\n",
        "a.reshape(2,-1)"
      ]
    },
    {
      "cell_type": "markdown",
      "metadata": {
        "id": "5gG_eLJAbheo"
      },
      "source": [
        "### [참조] 3차원 배열(이미지 데이터셋)\n",
        "- 보통 이미지 데이터는 3차원 배열로 구성하고 처리합니다.\n",
        "- 여기서는 3차원 배열 데이터를 간단히 만들고 내용을 살짝 조회해 보겠습니다."
      ]
    },
    {
      "cell_type": "code",
      "execution_count": null,
      "metadata": {
        "id": "Xsr-4OGQbuww"
      },
      "outputs": [],
      "source": [
        "import matplotlib.pyplot as plt\n",
        "np.set_printoptions(linewidth=np.inf)"
      ]
    },
    {
      "cell_type": "code",
      "execution_count": null,
      "metadata": {
        "id": "SVM1gfJtbLEK"
      },
      "outputs": [],
      "source": [
        "# 데이터 가져와서 3차원으로 구성하기\n",
        "data = np.genfromtxt('https://raw.githubusercontent.com/DA4BAM/dataset/master/mnist_sample.csv', delimiter=',', skip_header = 1)\n",
        "d3 = data.reshape(-1,28,28) # 28*28 데이터 n개"
      ]
    },
    {
      "cell_type": "code",
      "execution_count": null,
      "metadata": {
        "id": "6r3PWDxRcYRf"
      },
      "outputs": [],
      "source": [
        "d3.shape"
      ]
    },
    {
      "cell_type": "code",
      "execution_count": null,
      "metadata": {
        "id": "CXyraPBxcbfo"
      },
      "outputs": [],
      "source": [
        "# 3차원 데이터에서 첫번째 인덱스로 2차원 데이터 조회해오기\n",
        "# 아래 숫자를 조정하며 확인해 봅시다.\n",
        "n = 56\n",
        "display(d3[n])\n",
        "\n",
        "plt.imshow(d3[n])\n",
        "plt.show()"
      ]
    },
    {
      "cell_type": "markdown",
      "metadata": {
        "id": "fyhY-7gxdBJZ"
      },
      "source": [
        "### 연습문제\n",
        "- 주어진 배열을 이용하여 다음 결과를 얻도록 문제를 푸시오.\n",
        "  - a = np.array([[11,12,13,14,],[15,16,17,18],[19,20,21,22]])\n",
        "- [문1] 16\n",
        "- [문2] [19 20 21 22]\n",
        "- [문3] [13 17 21]\n",
        "- [문4] [16 22]\n",
        "- [문5] [[16 17 20 21]]"
      ]
    },
    {
      "cell_type": "code",
      "execution_count": null,
      "metadata": {
        "id": "NblJkLnqcuPu"
      },
      "outputs": [],
      "source": [
        "import numpy as np\n",
        "a = np.array([[11,12,13,14,],[15,16,17,18],[19,20,21,22]])\n",
        "print(a[1,1])\n",
        "print(a[2,:])\n",
        "print(a[:,2])\n",
        "print(a[[1,2],[1,3]])\n",
        "print(a[1:3,1:3])"
      ]
    },
    {
      "cell_type": "markdown",
      "metadata": {
        "id": "p35fyqNPhCPf"
      },
      "source": [
        "- 조건 조회\n",
        "  - 조건에 맞는 요소를 선택하는 방식이며, 블리안 방식이라고 부릅니다."
      ]
    },
    {
      "cell_type": "code",
      "execution_count": null,
      "metadata": {
        "id": "n8QezbPChAxB"
      },
      "outputs": [],
      "source": [
        "# 2차원 배열 만들기\n",
        "score = np.array([[78,91,84,89,93,65],[82,87,96,79,91,73]])\n",
        "print(score)"
      ]
    },
    {
      "cell_type": "code",
      "execution_count": null,
      "metadata": {
        "id": "jgFkrICigAHh"
      },
      "outputs": [],
      "source": [
        "# 조건문 : 결과는 True, False\n",
        "score >= 90"
      ]
    },
    {
      "cell_type": "code",
      "execution_count": null,
      "metadata": {
        "id": "x00OZa74hjgm"
      },
      "outputs": [],
      "source": [
        "# 요소 중에서 90 이상인 것만 조회\n",
        "print(score[score >= 90])"
      ]
    },
    {
      "cell_type": "markdown",
      "metadata": {
        "id": "TwqnD5TZiE6L"
      },
      "source": [
        "- np.argmax(), np.argmin()\n",
        "  - 전체에서 최대값과 최소값의 인덱스\n"
      ]
    },
    {
      "cell_type": "code",
      "execution_count": null,
      "metadata": {
        "id": "mOBNic7Qhz6Y"
      },
      "outputs": [],
      "source": [
        "print(score)\n",
        "print(np.argmax(score))\n",
        "print(np.argmin(score))\n",
        "print(np.argmax(score, axis = 0))\n",
        "print(np.argmax(score, axis=1))"
      ]
    },
    {
      "cell_type": "markdown",
      "metadata": {
        "id": "TjpPWh3Di1TF"
      },
      "source": [
        "- np.where(조건문, 참일때 값, 거짓일때 값)"
      ]
    },
    {
      "cell_type": "code",
      "execution_count": null,
      "metadata": {
        "id": "OrKEDCffim2T"
      },
      "outputs": [],
      "source": [
        "np.where(score > 90, 1 , score)"
      ]
    },
    {
      "cell_type": "markdown",
      "metadata": {
        "id": "vPhlpwWwjJPl"
      },
      "source": [
        "- np.linspace(시작값, 끝값, 사이 값 갯수)"
      ]
    },
    {
      "cell_type": "code",
      "execution_count": null,
      "metadata": {
        "id": "EcfJs47QjHOw"
      },
      "outputs": [],
      "source": [
        "# 0.1 ~ 10, 100개 값을 만들어 봅니다.\n",
        "np.linspace(0.1,10,100)"
      ]
    },
    {
      "cell_type": "code",
      "execution_count": null,
      "metadata": {
        "id": "VCCWcNvFOLs_"
      },
      "outputs": [],
      "source": [
        "# 넘파이 라이브러리 불러오기\n",
        "import numpy as np"
      ]
    },
    {
      "cell_type": "markdown",
      "metadata": {
        "id": "jijzfeAmgyyJ"
      },
      "source": [
        "# python 라이브러리"
      ]
    },
    {
      "cell_type": "markdown",
      "metadata": {
        "id": "p4PeB-VuOleQ"
      },
      "source": [
        "## 넘파이 기초\n",
        "\n",
        "\n",
        "- 라이브러리 불러오기"
      ]
    },
    {
      "cell_type": "markdown",
      "metadata": {
        "id": "7v1xXBpTjyC-"
      },
      "source": [
        "## 판다스 데이터프레임 생성\n",
        "- 라이브러리 불러오기"
      ]
    },
    {
      "cell_type": "code",
      "execution_count": null,
      "metadata": {
        "id": "SIZRYOJijacC"
      },
      "outputs": [],
      "source": [
        "# 라이브러리 불러오기\n",
        "import pandas as pd"
      ]
    },
    {
      "cell_type": "markdown",
      "metadata": {
        "id": "fb4BONzlkrE8"
      },
      "source": [
        "- 딕셔너리로 만들기"
      ]
    },
    {
      "cell_type": "code",
      "execution_count": null,
      "metadata": {
        "id": "DwgRMboKki_e"
      },
      "outputs": [],
      "source": [
        "# 딕셔너리 만들기\n",
        "dict = {'Name': ['Gildong', 'Sarang', 'Jiemae', 'Yeoin'],\n",
        "        'Level': ['Gold', 'Bronze', 'Silver', 'Gold'],\n",
        "        'Score': [56000, 23000, 44000, 52000]}\n",
        "\n",
        "# 확인\n",
        "print(dict)"
      ]
    },
    {
      "cell_type": "code",
      "execution_count": null,
      "metadata": {
        "id": "5nR_kVH3kwOL"
      },
      "outputs": [],
      "source": [
        "# 데이터프레임 만들기\n",
        "df = pd.DataFrame(dict)\n",
        "\n",
        "# 확인\n",
        "print(df.head()) # head의 default : 5"
      ]
    },
    {
      "cell_type": "markdown",
      "metadata": {
        "id": "f2jNHy5alIot"
      },
      "source": [
        "- CSV파일 읽어오기\n",
        "  - read_csv() 함수를 사용하여 CSV 파일에서 데이터를 읽어옵니다."
      ]
    },
    {
      "cell_type": "code",
      "execution_count": null,
      "metadata": {
        "id": "_8EX57Ukk_03"
      },
      "outputs": [],
      "source": [
        "# 데이터 읽어오기\n",
        "path = 'https://raw.githubusercontent.com/DA4BAM/dataset/master/titanic_simple.csv'\n",
        "data = pd.read_csv(path)\n",
        "\n",
        "# 상위 10행만 확인\n",
        "data.head(10)"
      ]
    },
    {
      "cell_type": "markdown",
      "metadata": {
        "id": "nREqkMlkl_su"
      },
      "source": [
        "## python으로 딕셔너리 생성\n",
        "  - 아래 값으로 딕셔너리 d를 생성해 봅시다.\n",
        "\n",
        "|key |value|\n",
        "|----|----|\n",
        "|v1 |[1,2,3]|\n",
        "|v2 |{'a':23, 'b':[4,5]}|"
      ]
    },
    {
      "cell_type": "code",
      "execution_count": null,
      "metadata": {
        "id": "CAS2nj-Ilqs4"
      },
      "outputs": [],
      "source": [
        "d = {'v1': [1,2,3], 'v2':{'a':23,'b':[4,5]}}\n",
        "d"
      ]
    },
    {
      "cell_type": "markdown",
      "metadata": {
        "id": "oNFr4lPonHXv"
      },
      "source": [
        "- [문1] d에서 [1,2,3]을 출력해 봅시다.\n",
        "- [문2] d에서 23을 출력해 봅시다.\n",
        "- [문3] d에서 5를 출력해 봅시다.\n",
        "- [문4] d에 key 'newKey', value (1,2) 를 추가하고 출력해봅시다."
      ]
    },
    {
      "cell_type": "code",
      "execution_count": null,
      "metadata": {
        "id": "Dz9cpr_Ym_Tn"
      },
      "outputs": [],
      "source": [
        "print(d['v1'])\n",
        "print(d['v2']['a'])\n",
        "print(d['v2']['b'][1])"
      ]
    },
    {
      "cell_type": "code",
      "execution_count": null,
      "metadata": {
        "id": "bHvc6gLooJ9m"
      },
      "outputs": [],
      "source": [
        "d['newKey'] = (1,2)\n",
        "print(d)"
      ]
    },
    {
      "cell_type": "markdown",
      "source": [
        "# python WebCrawling\n",
        "  - 웹페이지의 종류\n",
        "    - 정적페이지 : 페이지의 데이터가 변경될 때 URL이 변경 O --> HTML\n",
        "    - 동적페이지 : 페이지의 데이터가 변경될 때 URL이 변경 X --> JSON\n",
        "  - requests package\n",
        "    - 브라우져의 URL을 입력하면 서버에서 데이터를 다운받아 화면에 데이터를 출력 : URL > DATA\n",
        "    - requests 패키지 : URL > DATA"
      ],
      "metadata": {
        "id": "krN_85px26g8"
      }
    },
    {
      "cell_type": "code",
      "source": [
        "import pandas as pd\n",
        "import requests"
      ],
      "metadata": {
        "id": "HorQIUay6J7h"
      },
      "execution_count": 2,
      "outputs": []
    },
    {
      "cell_type": "markdown",
      "source": [
        "### 1. 웹서비스를 분석 : 크롭 개발자 도구 : URL"
      ],
      "metadata": {
        "id": "9Psejax86ddM"
      }
    },
    {
      "cell_type": "code",
      "source": [
        "url = \"https://m.stock.naver.com/api/index/KOSPI/price?pageSize=10&page=4\""
      ],
      "metadata": {
        "id": "qgqnAPtr6cPM"
      },
      "execution_count": 3,
      "outputs": []
    },
    {
      "cell_type": "markdown",
      "source": [
        "### 2. requests(url) > response(json) : JSON(str)"
      ],
      "metadata": {
        "id": "1yLTw5QB60vK"
      }
    },
    {
      "cell_type": "code",
      "source": [
        "response = requests.get(url)\n",
        "response"
      ],
      "metadata": {
        "colab": {
          "base_uri": "https://localhost:8080/"
        },
        "id": "r0taaJ8g60Y2",
        "outputId": "8918afa1-a276-4e68-a642-fcecb853edd4"
      },
      "execution_count": 4,
      "outputs": [
        {
          "output_type": "execute_result",
          "data": {
            "text/plain": [
              "<Response [200]>"
            ]
          },
          "metadata": {},
          "execution_count": 4
        }
      ]
    },
    {
      "cell_type": "code",
      "source": [
        "response.text"
      ],
      "metadata": {
        "colab": {
          "base_uri": "https://localhost:8080/",
          "height": 191
        },
        "id": "fJTl_g0F7FzV",
        "outputId": "50dd0953-ae2f-44df-e525-cba0b2fef9d9"
      },
      "execution_count": 5,
      "outputs": [
        {
          "output_type": "execute_result",
          "data": {
            "text/plain": [
              "'[{\"localTradedAt\":\"2022-06-23\",\"closePrice\":\"2,314.32\",\"compareToPreviousClosePrice\":\"-28.49\",\"compareToPreviousPrice\":{\"code\":\"5\",\"text\":\"하락\",\"name\":\"FALLING\"},\"fluctuationsRatio\":\"-1.22\",\"openPrice\":\"2,347.84\",\"highPrice\":\"2,361.23\",\"lowPrice\":\"2,306.48\"},{\"localTradedAt\":\"2022-06-22\",\"closePrice\":\"2,342.81\",\"compareToPreviousClosePrice\":\"-66.12\",\"compareToPreviousPrice\":{\"code\":\"5\",\"text\":\"하락\",\"name\":\"FALLING\"},\"fluctuationsRatio\":\"-2.74\",\"openPrice\":\"2,417.11\",\"highPrice\":\"2,418.05\",\"lowPrice\":\"2,342.81\"},{\"localTradedAt\":\"2022-06-21\",\"closePrice\":\"2,408.93\",\"compareToPreviousClosePrice\":\"17.90\",\"compareToPreviousPrice\":{\"code\":\"2\",\"text\":\"상승\",\"name\":\"RISING\"},\"fluctuationsRatio\":\"0.75\",\"openPrice\":\"2,402.99\",\"highPrice\":\"2,423.48\",\"lowPrice\":\"2,385.60\"},{\"localTradedAt\":\"2022-06-20\",\"closePrice\":\"2,391.03\",\"compareToPreviousClosePrice\":\"-49.90\",\"compareToPreviousPrice\":{\"code\":\"5\",\"text\":\"하락\",\"name\":\"FALLING\"},\"fluctuationsRatio\":\"-2.04\",\"openPrice\":\"2,449.89\",\"highPrice\":\"2,449.89\",\"lowPrice\":\"2,372.35\"},{\"localTradedAt\":\"2022-06-17\",\"closePrice\":\"2,440.93\",\"compareToPreviousClosePrice\":\"-10.48\",\"compareToPreviousPrice\":{\"code\":\"5\",\"text\":\"하락\",\"name\":\"FALLING\"},\"fluctuationsRatio\":\"-0.43\",\"openPrice\":\"2,409.72\",\"highPrice\":\"2,441.34\",\"lowPrice\":\"2,396.47\"},{\"localTradedAt\":\"2022-06-16\",\"closePrice\":\"2,451.41\",\"compareToPreviousClosePrice\":\"4.03\",\"compareToPreviousPrice\":{\"code\":\"2\",\"text\":\"상승\",\"name\":\"RISING\"},\"fluctuationsRatio\":\"0.16\",\"openPrice\":\"2,481.66\",\"highPrice\":\"2,500.36\",\"lowPrice\":\"2,447.33\"},{\"localTradedAt\":\"2022-06-15\",\"closePrice\":\"2,447.38\",\"compareToPreviousClosePrice\":\"-45.59\",\"compareToPreviousPrice\":{\"code\":\"5\",\"text\":\"하락\",\"name\":\"FALLING\"},\"fluctuationsRatio\":\"-1.83\",\"openPrice\":\"2,490.01\",\"highPrice\":\"2,495.54\",\"lowPrice\":\"2,436.04\"},{\"localTradedAt\":\"2022-06-14\",\"closePrice\":\"2,492.97\",\"compareToPreviousClosePrice\":\"-11.54\",\"compareToPreviousPrice\":{\"code\":\"5\",\"text\":\"하락\",\"name\":\"FALLING\"},\"fluctuationsRatio\":\"-0.46\",\"openPrice\":\"2,472.96\",\"highPrice\":\"2,503.17\",\"lowPrice\":\"2,457.39\"},{\"localTradedAt\":\"2022-06-13\",\"closePrice\":\"2,504.51\",\"compareToPreviousClosePrice\":\"-91.36\",\"compareToPreviousPrice\":{\"code\":\"5\",\"text\":\"하락\",\"name\":\"FALLING\"},\"fluctuationsRatio\":\"-3.52\",\"openPrice\":\"2,550.21\",\"highPrice\":\"2,550.32\",\"lowPrice\":\"2,504.51\"},{\"localTradedAt\":\"2022-06-10\",\"closePrice\":\"2,595.87\",\"compareToPreviousClosePrice\":\"-29.57\",\"compareToPreviousPrice\":{\"code\":\"5\",\"text\":\"하락\",\"name\":\"FALLING\"},\"fluctuationsRatio\":\"-1.13\",\"openPrice\":\"2,596.37\",\"highPrice\":\"2,602.80\",\"lowPrice\":\"2,583.74\"}]'"
            ],
            "application/vnd.google.colaboratory.intrinsic+json": {
              "type": "string"
            }
          },
          "metadata": {},
          "execution_count": 5
        }
      ]
    },
    {
      "cell_type": "markdown",
      "source": [
        "### 3. JSON(str) > list, dict > DataFrame"
      ],
      "metadata": {
        "id": "xojpwilX7EbO"
      }
    },
    {
      "cell_type": "code",
      "source": [
        "data = response.json()\n",
        "data[0], type(data)"
      ],
      "metadata": {
        "colab": {
          "base_uri": "https://localhost:8080/"
        },
        "id": "kAnDanas6zx9",
        "outputId": "5831a0b0-041c-414e-deee-a0b1e3ec49f9"
      },
      "execution_count": 6,
      "outputs": [
        {
          "output_type": "execute_result",
          "data": {
            "text/plain": [
              "({'closePrice': '2,314.32',\n",
              "  'compareToPreviousClosePrice': '-28.49',\n",
              "  'compareToPreviousPrice': {'code': '5', 'name': 'FALLING', 'text': '하락'},\n",
              "  'fluctuationsRatio': '-1.22',\n",
              "  'highPrice': '2,361.23',\n",
              "  'localTradedAt': '2022-06-23',\n",
              "  'lowPrice': '2,306.48',\n",
              "  'openPrice': '2,347.84'},\n",
              " list)"
            ]
          },
          "metadata": {},
          "execution_count": 6
        }
      ]
    },
    {
      "cell_type": "code",
      "source": [
        "df = pd.DataFrame(data)[['localTradedAt','closePrice']]\n",
        "df.tail(2)"
      ],
      "metadata": {
        "colab": {
          "base_uri": "https://localhost:8080/",
          "height": 111
        },
        "id": "jUddnFPk7zQ6",
        "outputId": "03e3920b-b155-4f41-83d2-54214ea0ede2"
      },
      "execution_count": 7,
      "outputs": [
        {
          "output_type": "execute_result",
          "data": {
            "text/plain": [
              "  localTradedAt closePrice\n",
              "8    2022-06-13   2,504.51\n",
              "9    2022-06-10   2,595.87"
            ],
            "text/html": [
              "\n",
              "  <div id=\"df-b7dc8639-8a2d-4965-917d-f6a5cade760d\">\n",
              "    <div class=\"colab-df-container\">\n",
              "      <div>\n",
              "<style scoped>\n",
              "    .dataframe tbody tr th:only-of-type {\n",
              "        vertical-align: middle;\n",
              "    }\n",
              "\n",
              "    .dataframe tbody tr th {\n",
              "        vertical-align: top;\n",
              "    }\n",
              "\n",
              "    .dataframe thead th {\n",
              "        text-align: right;\n",
              "    }\n",
              "</style>\n",
              "<table border=\"1\" class=\"dataframe\">\n",
              "  <thead>\n",
              "    <tr style=\"text-align: right;\">\n",
              "      <th></th>\n",
              "      <th>localTradedAt</th>\n",
              "      <th>closePrice</th>\n",
              "    </tr>\n",
              "  </thead>\n",
              "  <tbody>\n",
              "    <tr>\n",
              "      <th>8</th>\n",
              "      <td>2022-06-13</td>\n",
              "      <td>2,504.51</td>\n",
              "    </tr>\n",
              "    <tr>\n",
              "      <th>9</th>\n",
              "      <td>2022-06-10</td>\n",
              "      <td>2,595.87</td>\n",
              "    </tr>\n",
              "  </tbody>\n",
              "</table>\n",
              "</div>\n",
              "      <button class=\"colab-df-convert\" onclick=\"convertToInteractive('df-b7dc8639-8a2d-4965-917d-f6a5cade760d')\"\n",
              "              title=\"Convert this dataframe to an interactive table.\"\n",
              "              style=\"display:none;\">\n",
              "        \n",
              "  <svg xmlns=\"http://www.w3.org/2000/svg\" height=\"24px\"viewBox=\"0 0 24 24\"\n",
              "       width=\"24px\">\n",
              "    <path d=\"M0 0h24v24H0V0z\" fill=\"none\"/>\n",
              "    <path d=\"M18.56 5.44l.94 2.06.94-2.06 2.06-.94-2.06-.94-.94-2.06-.94 2.06-2.06.94zm-11 1L8.5 8.5l.94-2.06 2.06-.94-2.06-.94L8.5 2.5l-.94 2.06-2.06.94zm10 10l.94 2.06.94-2.06 2.06-.94-2.06-.94-.94-2.06-.94 2.06-2.06.94z\"/><path d=\"M17.41 7.96l-1.37-1.37c-.4-.4-.92-.59-1.43-.59-.52 0-1.04.2-1.43.59L10.3 9.45l-7.72 7.72c-.78.78-.78 2.05 0 2.83L4 21.41c.39.39.9.59 1.41.59.51 0 1.02-.2 1.41-.59l7.78-7.78 2.81-2.81c.8-.78.8-2.07 0-2.86zM5.41 20L4 18.59l7.72-7.72 1.47 1.35L5.41 20z\"/>\n",
              "  </svg>\n",
              "      </button>\n",
              "      \n",
              "  <style>\n",
              "    .colab-df-container {\n",
              "      display:flex;\n",
              "      flex-wrap:wrap;\n",
              "      gap: 12px;\n",
              "    }\n",
              "\n",
              "    .colab-df-convert {\n",
              "      background-color: #E8F0FE;\n",
              "      border: none;\n",
              "      border-radius: 50%;\n",
              "      cursor: pointer;\n",
              "      display: none;\n",
              "      fill: #1967D2;\n",
              "      height: 32px;\n",
              "      padding: 0 0 0 0;\n",
              "      width: 32px;\n",
              "    }\n",
              "\n",
              "    .colab-df-convert:hover {\n",
              "      background-color: #E2EBFA;\n",
              "      box-shadow: 0px 1px 2px rgba(60, 64, 67, 0.3), 0px 1px 3px 1px rgba(60, 64, 67, 0.15);\n",
              "      fill: #174EA6;\n",
              "    }\n",
              "\n",
              "    [theme=dark] .colab-df-convert {\n",
              "      background-color: #3B4455;\n",
              "      fill: #D2E3FC;\n",
              "    }\n",
              "\n",
              "    [theme=dark] .colab-df-convert:hover {\n",
              "      background-color: #434B5C;\n",
              "      box-shadow: 0px 1px 3px 1px rgba(0, 0, 0, 0.15);\n",
              "      filter: drop-shadow(0px 1px 2px rgba(0, 0, 0, 0.3));\n",
              "      fill: #FFFFFF;\n",
              "    }\n",
              "  </style>\n",
              "\n",
              "      <script>\n",
              "        const buttonEl =\n",
              "          document.querySelector('#df-b7dc8639-8a2d-4965-917d-f6a5cade760d button.colab-df-convert');\n",
              "        buttonEl.style.display =\n",
              "          google.colab.kernel.accessAllowed ? 'block' : 'none';\n",
              "\n",
              "        async function convertToInteractive(key) {\n",
              "          const element = document.querySelector('#df-b7dc8639-8a2d-4965-917d-f6a5cade760d');\n",
              "          const dataTable =\n",
              "            await google.colab.kernel.invokeFunction('convertToInteractive',\n",
              "                                                     [key], {});\n",
              "          if (!dataTable) return;\n",
              "\n",
              "          const docLinkHtml = 'Like what you see? Visit the ' +\n",
              "            '<a target=\"_blank\" href=https://colab.research.google.com/notebooks/data_table.ipynb>data table notebook</a>'\n",
              "            + ' to learn more about interactive tables.';\n",
              "          element.innerHTML = '';\n",
              "          dataTable['output_type'] = 'display_data';\n",
              "          await google.colab.output.renderOutput(dataTable, element);\n",
              "          const docLink = document.createElement('div');\n",
              "          docLink.innerHTML = docLinkHtml;\n",
              "          element.appendChild(docLink);\n",
              "        }\n",
              "      </script>\n",
              "    </div>\n",
              "  </div>\n",
              "  "
            ]
          },
          "metadata": {},
          "execution_count": 7
        }
      ]
    },
    {
      "cell_type": "markdown",
      "source": [
        "### 4. 함수 만들기\n",
        "- params : pagesize, page, code"
      ],
      "metadata": {
        "id": "seRiNuST8n_l"
      }
    },
    {
      "cell_type": "code",
      "source": [
        "def stock_price(pagesize,page,code = \"KOSPI\"):\n",
        "  \"\"\"This Function is crawling stock price from naver webpage.\n",
        "  Params\n",
        "  ------\n",
        "  pagesize : int : one page size\n",
        "  page : int : page number\n",
        "  code : str : KOSPI or KOSDAQ\n",
        "\n",
        "  Return\n",
        "  ------\n",
        "  type : DataFrame : display date, price columns\n",
        "  \"\"\"\n",
        "  url = f\"https://m.stock.naver.com/api/index/{code}/price?pageSize={pagesize}&page={page}\"\n",
        "  response = requests.get(url)\n",
        "  data = response.json()\n",
        "  df = pd.DataFrame(data)[['localTradedAt','closePrice']]\n",
        "  return df"
      ],
      "metadata": {
        "id": "PjU5T9dN7-Qn"
      },
      "execution_count": 8,
      "outputs": []
    },
    {
      "cell_type": "markdown",
      "source": [
        "- docstring : 함수를 사용하는 방법을 문자열로 작성\n",
        "- help(), shift + tab"
      ],
      "metadata": {
        "id": "GaGdQFtH0mi4"
      }
    },
    {
      "cell_type": "code",
      "source": [
        "help(stock_price)"
      ],
      "metadata": {
        "colab": {
          "base_uri": "https://localhost:8080/"
        },
        "id": "vBYm00Of1iNx",
        "outputId": "698d53a1-0097-414e-cdc6-37fa93844d5a"
      },
      "execution_count": 9,
      "outputs": [
        {
          "output_type": "stream",
          "name": "stdout",
          "text": [
            "Help on function stock_price in module __main__:\n",
            "\n",
            "stock_price(pagesize, page, code='KOSPI')\n",
            "    This Function is crawling stock price from naver webpage.\n",
            "    Params\n",
            "    ------\n",
            "    pagesize : int : one page size\n",
            "    page : int : page number\n",
            "    code : str : KOSPI or KOSDAQ\n",
            "    \n",
            "    Return\n",
            "    ------\n",
            "    type : DataFrame : display date, price columns\n",
            "\n"
          ]
        }
      ]
    },
    {
      "cell_type": "code",
      "source": [
        "stock_price(30, 1).tail(2)"
      ],
      "metadata": {
        "colab": {
          "base_uri": "https://localhost:8080/",
          "height": 111
        },
        "id": "yAwW6OLO9dJZ",
        "outputId": "b78b0e34-5475-4243-f19b-30b2a3a67a40"
      },
      "execution_count": 10,
      "outputs": [
        {
          "output_type": "execute_result",
          "data": {
            "text/plain": [
              "   localTradedAt closePrice\n",
              "28    2022-06-27   2,401.92\n",
              "29    2022-06-24   2,366.60"
            ],
            "text/html": [
              "\n",
              "  <div id=\"df-de2f2e9a-d036-4010-868c-fdb7673695e7\">\n",
              "    <div class=\"colab-df-container\">\n",
              "      <div>\n",
              "<style scoped>\n",
              "    .dataframe tbody tr th:only-of-type {\n",
              "        vertical-align: middle;\n",
              "    }\n",
              "\n",
              "    .dataframe tbody tr th {\n",
              "        vertical-align: top;\n",
              "    }\n",
              "\n",
              "    .dataframe thead th {\n",
              "        text-align: right;\n",
              "    }\n",
              "</style>\n",
              "<table border=\"1\" class=\"dataframe\">\n",
              "  <thead>\n",
              "    <tr style=\"text-align: right;\">\n",
              "      <th></th>\n",
              "      <th>localTradedAt</th>\n",
              "      <th>closePrice</th>\n",
              "    </tr>\n",
              "  </thead>\n",
              "  <tbody>\n",
              "    <tr>\n",
              "      <th>28</th>\n",
              "      <td>2022-06-27</td>\n",
              "      <td>2,401.92</td>\n",
              "    </tr>\n",
              "    <tr>\n",
              "      <th>29</th>\n",
              "      <td>2022-06-24</td>\n",
              "      <td>2,366.60</td>\n",
              "    </tr>\n",
              "  </tbody>\n",
              "</table>\n",
              "</div>\n",
              "      <button class=\"colab-df-convert\" onclick=\"convertToInteractive('df-de2f2e9a-d036-4010-868c-fdb7673695e7')\"\n",
              "              title=\"Convert this dataframe to an interactive table.\"\n",
              "              style=\"display:none;\">\n",
              "        \n",
              "  <svg xmlns=\"http://www.w3.org/2000/svg\" height=\"24px\"viewBox=\"0 0 24 24\"\n",
              "       width=\"24px\">\n",
              "    <path d=\"M0 0h24v24H0V0z\" fill=\"none\"/>\n",
              "    <path d=\"M18.56 5.44l.94 2.06.94-2.06 2.06-.94-2.06-.94-.94-2.06-.94 2.06-2.06.94zm-11 1L8.5 8.5l.94-2.06 2.06-.94-2.06-.94L8.5 2.5l-.94 2.06-2.06.94zm10 10l.94 2.06.94-2.06 2.06-.94-2.06-.94-.94-2.06-.94 2.06-2.06.94z\"/><path d=\"M17.41 7.96l-1.37-1.37c-.4-.4-.92-.59-1.43-.59-.52 0-1.04.2-1.43.59L10.3 9.45l-7.72 7.72c-.78.78-.78 2.05 0 2.83L4 21.41c.39.39.9.59 1.41.59.51 0 1.02-.2 1.41-.59l7.78-7.78 2.81-2.81c.8-.78.8-2.07 0-2.86zM5.41 20L4 18.59l7.72-7.72 1.47 1.35L5.41 20z\"/>\n",
              "  </svg>\n",
              "      </button>\n",
              "      \n",
              "  <style>\n",
              "    .colab-df-container {\n",
              "      display:flex;\n",
              "      flex-wrap:wrap;\n",
              "      gap: 12px;\n",
              "    }\n",
              "\n",
              "    .colab-df-convert {\n",
              "      background-color: #E8F0FE;\n",
              "      border: none;\n",
              "      border-radius: 50%;\n",
              "      cursor: pointer;\n",
              "      display: none;\n",
              "      fill: #1967D2;\n",
              "      height: 32px;\n",
              "      padding: 0 0 0 0;\n",
              "      width: 32px;\n",
              "    }\n",
              "\n",
              "    .colab-df-convert:hover {\n",
              "      background-color: #E2EBFA;\n",
              "      box-shadow: 0px 1px 2px rgba(60, 64, 67, 0.3), 0px 1px 3px 1px rgba(60, 64, 67, 0.15);\n",
              "      fill: #174EA6;\n",
              "    }\n",
              "\n",
              "    [theme=dark] .colab-df-convert {\n",
              "      background-color: #3B4455;\n",
              "      fill: #D2E3FC;\n",
              "    }\n",
              "\n",
              "    [theme=dark] .colab-df-convert:hover {\n",
              "      background-color: #434B5C;\n",
              "      box-shadow: 0px 1px 3px 1px rgba(0, 0, 0, 0.15);\n",
              "      filter: drop-shadow(0px 1px 2px rgba(0, 0, 0, 0.3));\n",
              "      fill: #FFFFFF;\n",
              "    }\n",
              "  </style>\n",
              "\n",
              "      <script>\n",
              "        const buttonEl =\n",
              "          document.querySelector('#df-de2f2e9a-d036-4010-868c-fdb7673695e7 button.colab-df-convert');\n",
              "        buttonEl.style.display =\n",
              "          google.colab.kernel.accessAllowed ? 'block' : 'none';\n",
              "\n",
              "        async function convertToInteractive(key) {\n",
              "          const element = document.querySelector('#df-de2f2e9a-d036-4010-868c-fdb7673695e7');\n",
              "          const dataTable =\n",
              "            await google.colab.kernel.invokeFunction('convertToInteractive',\n",
              "                                                     [key], {});\n",
              "          if (!dataTable) return;\n",
              "\n",
              "          const docLinkHtml = 'Like what you see? Visit the ' +\n",
              "            '<a target=\"_blank\" href=https://colab.research.google.com/notebooks/data_table.ipynb>data table notebook</a>'\n",
              "            + ' to learn more about interactive tables.';\n",
              "          element.innerHTML = '';\n",
              "          dataTable['output_type'] = 'display_data';\n",
              "          await google.colab.output.renderOutput(dataTable, element);\n",
              "          const docLink = document.createElement('div');\n",
              "          docLink.innerHTML = docLinkHtml;\n",
              "          element.appendChild(docLink);\n",
              "        }\n",
              "      </script>\n",
              "    </div>\n",
              "  </div>\n",
              "  "
            ]
          },
          "metadata": {},
          "execution_count": 10
        }
      ]
    },
    {
      "cell_type": "markdown",
      "source": [
        "- 최근 60일치 코스피, 코스닥, 원달러 데이터 수집\n",
        "- 데이터 전처리\n"
      ],
      "metadata": {
        "id": "ajwrUHl4_8YH"
      }
    },
    {
      "cell_type": "code",
      "source": [
        "def oneDollar_price(pagesize,page):\n",
        "  \n",
        "  url = f\"https://api.stock.naver.com/marketindex/exchange/FX_USDKRW/prices?page={page}&pageSize={pagesize}\"\n",
        "  response = requests.get(url)\n",
        "  data = response.json()\n",
        "  df = pd.DataFrame(data)[['localTradedAt','closePrice']]\n",
        "  return df"
      ],
      "metadata": {
        "id": "tILqvJR09yZ4"
      },
      "execution_count": 11,
      "outputs": []
    },
    {
      "cell_type": "code",
      "source": [
        "kospi = stock_price(60,1,'KOSPI')\n",
        "kosdaq = stock_price(60,1,'KOSDAQ')\n",
        "usd = oneDollar_price(60,1)\n",
        "kospi.tail(2), kosdaq.tail(2), usd.tail(2)"
      ],
      "metadata": {
        "colab": {
          "base_uri": "https://localhost:8080/"
        },
        "id": "gBBqtMYdBXMb",
        "outputId": "781b170b-2a0e-4b38-808e-3ad33713679f"
      },
      "execution_count": 12,
      "outputs": [
        {
          "output_type": "execute_result",
          "data": {
            "text/plain": [
              "(   localTradedAt closePrice\n",
              " 58    2022-05-12   2,550.08\n",
              " 59    2022-05-11   2,592.27,    localTradedAt closePrice\n",
              " 58    2022-05-12     833.66\n",
              " 59    2022-05-11     866.34,    localTradedAt closePrice\n",
              " 58    2022-05-12   1,290.50\n",
              " 59    2022-05-11   1,274.50)"
            ]
          },
          "metadata": {},
          "execution_count": 12
        }
      ]
    },
    {
      "cell_type": "code",
      "source": [
        "df = kospi.copy()[['closePrice']]\n",
        "df.tail(2)"
      ],
      "metadata": {
        "colab": {
          "base_uri": "https://localhost:8080/",
          "height": 111
        },
        "id": "5dtVNAH4CHtH",
        "outputId": "81a4c74a-084b-474c-b5e2-de0221f99bb4"
      },
      "execution_count": 13,
      "outputs": [
        {
          "output_type": "execute_result",
          "data": {
            "text/plain": [
              "   closePrice\n",
              "58   2,550.08\n",
              "59   2,592.27"
            ],
            "text/html": [
              "\n",
              "  <div id=\"df-f20d5f04-3fe1-4b47-baed-cd27d2b7f6e5\">\n",
              "    <div class=\"colab-df-container\">\n",
              "      <div>\n",
              "<style scoped>\n",
              "    .dataframe tbody tr th:only-of-type {\n",
              "        vertical-align: middle;\n",
              "    }\n",
              "\n",
              "    .dataframe tbody tr th {\n",
              "        vertical-align: top;\n",
              "    }\n",
              "\n",
              "    .dataframe thead th {\n",
              "        text-align: right;\n",
              "    }\n",
              "</style>\n",
              "<table border=\"1\" class=\"dataframe\">\n",
              "  <thead>\n",
              "    <tr style=\"text-align: right;\">\n",
              "      <th></th>\n",
              "      <th>closePrice</th>\n",
              "    </tr>\n",
              "  </thead>\n",
              "  <tbody>\n",
              "    <tr>\n",
              "      <th>58</th>\n",
              "      <td>2,550.08</td>\n",
              "    </tr>\n",
              "    <tr>\n",
              "      <th>59</th>\n",
              "      <td>2,592.27</td>\n",
              "    </tr>\n",
              "  </tbody>\n",
              "</table>\n",
              "</div>\n",
              "      <button class=\"colab-df-convert\" onclick=\"convertToInteractive('df-f20d5f04-3fe1-4b47-baed-cd27d2b7f6e5')\"\n",
              "              title=\"Convert this dataframe to an interactive table.\"\n",
              "              style=\"display:none;\">\n",
              "        \n",
              "  <svg xmlns=\"http://www.w3.org/2000/svg\" height=\"24px\"viewBox=\"0 0 24 24\"\n",
              "       width=\"24px\">\n",
              "    <path d=\"M0 0h24v24H0V0z\" fill=\"none\"/>\n",
              "    <path d=\"M18.56 5.44l.94 2.06.94-2.06 2.06-.94-2.06-.94-.94-2.06-.94 2.06-2.06.94zm-11 1L8.5 8.5l.94-2.06 2.06-.94-2.06-.94L8.5 2.5l-.94 2.06-2.06.94zm10 10l.94 2.06.94-2.06 2.06-.94-2.06-.94-.94-2.06-.94 2.06-2.06.94z\"/><path d=\"M17.41 7.96l-1.37-1.37c-.4-.4-.92-.59-1.43-.59-.52 0-1.04.2-1.43.59L10.3 9.45l-7.72 7.72c-.78.78-.78 2.05 0 2.83L4 21.41c.39.39.9.59 1.41.59.51 0 1.02-.2 1.41-.59l7.78-7.78 2.81-2.81c.8-.78.8-2.07 0-2.86zM5.41 20L4 18.59l7.72-7.72 1.47 1.35L5.41 20z\"/>\n",
              "  </svg>\n",
              "      </button>\n",
              "      \n",
              "  <style>\n",
              "    .colab-df-container {\n",
              "      display:flex;\n",
              "      flex-wrap:wrap;\n",
              "      gap: 12px;\n",
              "    }\n",
              "\n",
              "    .colab-df-convert {\n",
              "      background-color: #E8F0FE;\n",
              "      border: none;\n",
              "      border-radius: 50%;\n",
              "      cursor: pointer;\n",
              "      display: none;\n",
              "      fill: #1967D2;\n",
              "      height: 32px;\n",
              "      padding: 0 0 0 0;\n",
              "      width: 32px;\n",
              "    }\n",
              "\n",
              "    .colab-df-convert:hover {\n",
              "      background-color: #E2EBFA;\n",
              "      box-shadow: 0px 1px 2px rgba(60, 64, 67, 0.3), 0px 1px 3px 1px rgba(60, 64, 67, 0.15);\n",
              "      fill: #174EA6;\n",
              "    }\n",
              "\n",
              "    [theme=dark] .colab-df-convert {\n",
              "      background-color: #3B4455;\n",
              "      fill: #D2E3FC;\n",
              "    }\n",
              "\n",
              "    [theme=dark] .colab-df-convert:hover {\n",
              "      background-color: #434B5C;\n",
              "      box-shadow: 0px 1px 3px 1px rgba(0, 0, 0, 0.15);\n",
              "      filter: drop-shadow(0px 1px 2px rgba(0, 0, 0, 0.3));\n",
              "      fill: #FFFFFF;\n",
              "    }\n",
              "  </style>\n",
              "\n",
              "      <script>\n",
              "        const buttonEl =\n",
              "          document.querySelector('#df-f20d5f04-3fe1-4b47-baed-cd27d2b7f6e5 button.colab-df-convert');\n",
              "        buttonEl.style.display =\n",
              "          google.colab.kernel.accessAllowed ? 'block' : 'none';\n",
              "\n",
              "        async function convertToInteractive(key) {\n",
              "          const element = document.querySelector('#df-f20d5f04-3fe1-4b47-baed-cd27d2b7f6e5');\n",
              "          const dataTable =\n",
              "            await google.colab.kernel.invokeFunction('convertToInteractive',\n",
              "                                                     [key], {});\n",
              "          if (!dataTable) return;\n",
              "\n",
              "          const docLinkHtml = 'Like what you see? Visit the ' +\n",
              "            '<a target=\"_blank\" href=https://colab.research.google.com/notebooks/data_table.ipynb>data table notebook</a>'\n",
              "            + ' to learn more about interactive tables.';\n",
              "          element.innerHTML = '';\n",
              "          dataTable['output_type'] = 'display_data';\n",
              "          await google.colab.output.renderOutput(dataTable, element);\n",
              "          const docLink = document.createElement('div');\n",
              "          docLink.innerHTML = docLinkHtml;\n",
              "          element.appendChild(docLink);\n",
              "        }\n",
              "      </script>\n",
              "    </div>\n",
              "  </div>\n",
              "  "
            ]
          },
          "metadata": {},
          "execution_count": 13
        }
      ]
    },
    {
      "cell_type": "code",
      "source": [
        "df['kosdaq'] = kosdaq['closePrice']\n",
        "df['usd'] = usd['closePrice']\n",
        "df = df.rename(columns={'closePrice' : 'kospi'})\n",
        "df.tail(2)"
      ],
      "metadata": {
        "colab": {
          "base_uri": "https://localhost:8080/",
          "height": 111
        },
        "id": "DfIrzQyQCgd5",
        "outputId": "cdf64e06-b24b-4692-b45e-ca70a7bd1f05"
      },
      "execution_count": 14,
      "outputs": [
        {
          "output_type": "execute_result",
          "data": {
            "text/plain": [
              "       kospi  kosdaq       usd\n",
              "58  2,550.08  833.66  1,290.50\n",
              "59  2,592.27  866.34  1,274.50"
            ],
            "text/html": [
              "\n",
              "  <div id=\"df-a70b3f10-1776-4d6e-ad39-8188e3ec156e\">\n",
              "    <div class=\"colab-df-container\">\n",
              "      <div>\n",
              "<style scoped>\n",
              "    .dataframe tbody tr th:only-of-type {\n",
              "        vertical-align: middle;\n",
              "    }\n",
              "\n",
              "    .dataframe tbody tr th {\n",
              "        vertical-align: top;\n",
              "    }\n",
              "\n",
              "    .dataframe thead th {\n",
              "        text-align: right;\n",
              "    }\n",
              "</style>\n",
              "<table border=\"1\" class=\"dataframe\">\n",
              "  <thead>\n",
              "    <tr style=\"text-align: right;\">\n",
              "      <th></th>\n",
              "      <th>kospi</th>\n",
              "      <th>kosdaq</th>\n",
              "      <th>usd</th>\n",
              "    </tr>\n",
              "  </thead>\n",
              "  <tbody>\n",
              "    <tr>\n",
              "      <th>58</th>\n",
              "      <td>2,550.08</td>\n",
              "      <td>833.66</td>\n",
              "      <td>1,290.50</td>\n",
              "    </tr>\n",
              "    <tr>\n",
              "      <th>59</th>\n",
              "      <td>2,592.27</td>\n",
              "      <td>866.34</td>\n",
              "      <td>1,274.50</td>\n",
              "    </tr>\n",
              "  </tbody>\n",
              "</table>\n",
              "</div>\n",
              "      <button class=\"colab-df-convert\" onclick=\"convertToInteractive('df-a70b3f10-1776-4d6e-ad39-8188e3ec156e')\"\n",
              "              title=\"Convert this dataframe to an interactive table.\"\n",
              "              style=\"display:none;\">\n",
              "        \n",
              "  <svg xmlns=\"http://www.w3.org/2000/svg\" height=\"24px\"viewBox=\"0 0 24 24\"\n",
              "       width=\"24px\">\n",
              "    <path d=\"M0 0h24v24H0V0z\" fill=\"none\"/>\n",
              "    <path d=\"M18.56 5.44l.94 2.06.94-2.06 2.06-.94-2.06-.94-.94-2.06-.94 2.06-2.06.94zm-11 1L8.5 8.5l.94-2.06 2.06-.94-2.06-.94L8.5 2.5l-.94 2.06-2.06.94zm10 10l.94 2.06.94-2.06 2.06-.94-2.06-.94-.94-2.06-.94 2.06-2.06.94z\"/><path d=\"M17.41 7.96l-1.37-1.37c-.4-.4-.92-.59-1.43-.59-.52 0-1.04.2-1.43.59L10.3 9.45l-7.72 7.72c-.78.78-.78 2.05 0 2.83L4 21.41c.39.39.9.59 1.41.59.51 0 1.02-.2 1.41-.59l7.78-7.78 2.81-2.81c.8-.78.8-2.07 0-2.86zM5.41 20L4 18.59l7.72-7.72 1.47 1.35L5.41 20z\"/>\n",
              "  </svg>\n",
              "      </button>\n",
              "      \n",
              "  <style>\n",
              "    .colab-df-container {\n",
              "      display:flex;\n",
              "      flex-wrap:wrap;\n",
              "      gap: 12px;\n",
              "    }\n",
              "\n",
              "    .colab-df-convert {\n",
              "      background-color: #E8F0FE;\n",
              "      border: none;\n",
              "      border-radius: 50%;\n",
              "      cursor: pointer;\n",
              "      display: none;\n",
              "      fill: #1967D2;\n",
              "      height: 32px;\n",
              "      padding: 0 0 0 0;\n",
              "      width: 32px;\n",
              "    }\n",
              "\n",
              "    .colab-df-convert:hover {\n",
              "      background-color: #E2EBFA;\n",
              "      box-shadow: 0px 1px 2px rgba(60, 64, 67, 0.3), 0px 1px 3px 1px rgba(60, 64, 67, 0.15);\n",
              "      fill: #174EA6;\n",
              "    }\n",
              "\n",
              "    [theme=dark] .colab-df-convert {\n",
              "      background-color: #3B4455;\n",
              "      fill: #D2E3FC;\n",
              "    }\n",
              "\n",
              "    [theme=dark] .colab-df-convert:hover {\n",
              "      background-color: #434B5C;\n",
              "      box-shadow: 0px 1px 3px 1px rgba(0, 0, 0, 0.15);\n",
              "      filter: drop-shadow(0px 1px 2px rgba(0, 0, 0, 0.3));\n",
              "      fill: #FFFFFF;\n",
              "    }\n",
              "  </style>\n",
              "\n",
              "      <script>\n",
              "        const buttonEl =\n",
              "          document.querySelector('#df-a70b3f10-1776-4d6e-ad39-8188e3ec156e button.colab-df-convert');\n",
              "        buttonEl.style.display =\n",
              "          google.colab.kernel.accessAllowed ? 'block' : 'none';\n",
              "\n",
              "        async function convertToInteractive(key) {\n",
              "          const element = document.querySelector('#df-a70b3f10-1776-4d6e-ad39-8188e3ec156e');\n",
              "          const dataTable =\n",
              "            await google.colab.kernel.invokeFunction('convertToInteractive',\n",
              "                                                     [key], {});\n",
              "          if (!dataTable) return;\n",
              "\n",
              "          const docLinkHtml = 'Like what you see? Visit the ' +\n",
              "            '<a target=\"_blank\" href=https://colab.research.google.com/notebooks/data_table.ipynb>data table notebook</a>'\n",
              "            + ' to learn more about interactive tables.';\n",
              "          element.innerHTML = '';\n",
              "          dataTable['output_type'] = 'display_data';\n",
              "          await google.colab.output.renderOutput(dataTable, element);\n",
              "          const docLink = document.createElement('div');\n",
              "          docLink.innerHTML = docLinkHtml;\n",
              "          element.appendChild(docLink);\n",
              "        }\n",
              "      </script>\n",
              "    </div>\n",
              "  </div>\n",
              "  "
            ]
          },
          "metadata": {},
          "execution_count": 14
        }
      ]
    },
    {
      "cell_type": "code",
      "source": [
        "df['kospi'] = df['kospi'].apply(lambda data: float(data.replace(\",\",\"\")))\n",
        "df['kosdaq'] = df['kosdaq'].apply(lambda data: float(data.replace(\",\",\"\")))\n",
        "df['usd'] = df['usd'].apply(lambda data: float(data.replace(\",\",\"\")))\n",
        "df.tail(2)"
      ],
      "metadata": {
        "colab": {
          "base_uri": "https://localhost:8080/",
          "height": 111
        },
        "id": "D3KIc-0-C20K",
        "outputId": "0011c8d8-22ec-44ec-e0ba-83d05f566888"
      },
      "execution_count": 15,
      "outputs": [
        {
          "output_type": "execute_result",
          "data": {
            "text/plain": [
              "      kospi  kosdaq     usd\n",
              "58  2550.08  833.66  1290.5\n",
              "59  2592.27  866.34  1274.5"
            ],
            "text/html": [
              "\n",
              "  <div id=\"df-5fcd2723-5a97-4ff4-84e0-f2c2f1d34229\">\n",
              "    <div class=\"colab-df-container\">\n",
              "      <div>\n",
              "<style scoped>\n",
              "    .dataframe tbody tr th:only-of-type {\n",
              "        vertical-align: middle;\n",
              "    }\n",
              "\n",
              "    .dataframe tbody tr th {\n",
              "        vertical-align: top;\n",
              "    }\n",
              "\n",
              "    .dataframe thead th {\n",
              "        text-align: right;\n",
              "    }\n",
              "</style>\n",
              "<table border=\"1\" class=\"dataframe\">\n",
              "  <thead>\n",
              "    <tr style=\"text-align: right;\">\n",
              "      <th></th>\n",
              "      <th>kospi</th>\n",
              "      <th>kosdaq</th>\n",
              "      <th>usd</th>\n",
              "    </tr>\n",
              "  </thead>\n",
              "  <tbody>\n",
              "    <tr>\n",
              "      <th>58</th>\n",
              "      <td>2550.08</td>\n",
              "      <td>833.66</td>\n",
              "      <td>1290.5</td>\n",
              "    </tr>\n",
              "    <tr>\n",
              "      <th>59</th>\n",
              "      <td>2592.27</td>\n",
              "      <td>866.34</td>\n",
              "      <td>1274.5</td>\n",
              "    </tr>\n",
              "  </tbody>\n",
              "</table>\n",
              "</div>\n",
              "      <button class=\"colab-df-convert\" onclick=\"convertToInteractive('df-5fcd2723-5a97-4ff4-84e0-f2c2f1d34229')\"\n",
              "              title=\"Convert this dataframe to an interactive table.\"\n",
              "              style=\"display:none;\">\n",
              "        \n",
              "  <svg xmlns=\"http://www.w3.org/2000/svg\" height=\"24px\"viewBox=\"0 0 24 24\"\n",
              "       width=\"24px\">\n",
              "    <path d=\"M0 0h24v24H0V0z\" fill=\"none\"/>\n",
              "    <path d=\"M18.56 5.44l.94 2.06.94-2.06 2.06-.94-2.06-.94-.94-2.06-.94 2.06-2.06.94zm-11 1L8.5 8.5l.94-2.06 2.06-.94-2.06-.94L8.5 2.5l-.94 2.06-2.06.94zm10 10l.94 2.06.94-2.06 2.06-.94-2.06-.94-.94-2.06-.94 2.06-2.06.94z\"/><path d=\"M17.41 7.96l-1.37-1.37c-.4-.4-.92-.59-1.43-.59-.52 0-1.04.2-1.43.59L10.3 9.45l-7.72 7.72c-.78.78-.78 2.05 0 2.83L4 21.41c.39.39.9.59 1.41.59.51 0 1.02-.2 1.41-.59l7.78-7.78 2.81-2.81c.8-.78.8-2.07 0-2.86zM5.41 20L4 18.59l7.72-7.72 1.47 1.35L5.41 20z\"/>\n",
              "  </svg>\n",
              "      </button>\n",
              "      \n",
              "  <style>\n",
              "    .colab-df-container {\n",
              "      display:flex;\n",
              "      flex-wrap:wrap;\n",
              "      gap: 12px;\n",
              "    }\n",
              "\n",
              "    .colab-df-convert {\n",
              "      background-color: #E8F0FE;\n",
              "      border: none;\n",
              "      border-radius: 50%;\n",
              "      cursor: pointer;\n",
              "      display: none;\n",
              "      fill: #1967D2;\n",
              "      height: 32px;\n",
              "      padding: 0 0 0 0;\n",
              "      width: 32px;\n",
              "    }\n",
              "\n",
              "    .colab-df-convert:hover {\n",
              "      background-color: #E2EBFA;\n",
              "      box-shadow: 0px 1px 2px rgba(60, 64, 67, 0.3), 0px 1px 3px 1px rgba(60, 64, 67, 0.15);\n",
              "      fill: #174EA6;\n",
              "    }\n",
              "\n",
              "    [theme=dark] .colab-df-convert {\n",
              "      background-color: #3B4455;\n",
              "      fill: #D2E3FC;\n",
              "    }\n",
              "\n",
              "    [theme=dark] .colab-df-convert:hover {\n",
              "      background-color: #434B5C;\n",
              "      box-shadow: 0px 1px 3px 1px rgba(0, 0, 0, 0.15);\n",
              "      filter: drop-shadow(0px 1px 2px rgba(0, 0, 0, 0.3));\n",
              "      fill: #FFFFFF;\n",
              "    }\n",
              "  </style>\n",
              "\n",
              "      <script>\n",
              "        const buttonEl =\n",
              "          document.querySelector('#df-5fcd2723-5a97-4ff4-84e0-f2c2f1d34229 button.colab-df-convert');\n",
              "        buttonEl.style.display =\n",
              "          google.colab.kernel.accessAllowed ? 'block' : 'none';\n",
              "\n",
              "        async function convertToInteractive(key) {\n",
              "          const element = document.querySelector('#df-5fcd2723-5a97-4ff4-84e0-f2c2f1d34229');\n",
              "          const dataTable =\n",
              "            await google.colab.kernel.invokeFunction('convertToInteractive',\n",
              "                                                     [key], {});\n",
              "          if (!dataTable) return;\n",
              "\n",
              "          const docLinkHtml = 'Like what you see? Visit the ' +\n",
              "            '<a target=\"_blank\" href=https://colab.research.google.com/notebooks/data_table.ipynb>data table notebook</a>'\n",
              "            + ' to learn more about interactive tables.';\n",
              "          element.innerHTML = '';\n",
              "          dataTable['output_type'] = 'display_data';\n",
              "          await google.colab.output.renderOutput(dataTable, element);\n",
              "          const docLink = document.createElement('div');\n",
              "          docLink.innerHTML = docLinkHtml;\n",
              "          element.appendChild(docLink);\n",
              "        }\n",
              "      </script>\n",
              "    </div>\n",
              "  </div>\n",
              "  "
            ]
          },
          "metadata": {},
          "execution_count": 15
        }
      ]
    },
    {
      "cell_type": "code",
      "source": [
        "df.corr()"
      ],
      "metadata": {
        "colab": {
          "base_uri": "https://localhost:8080/",
          "height": 142
        },
        "id": "jUnC9DFjDirc",
        "outputId": "4b058c28-5dcd-4d4d-b16d-6433f6e26dde"
      },
      "execution_count": 16,
      "outputs": [
        {
          "output_type": "execute_result",
          "data": {
            "text/plain": [
              "           kospi    kosdaq       usd\n",
              "kospi   1.000000  0.983361 -0.870427\n",
              "kosdaq  0.983361  1.000000 -0.808317\n",
              "usd    -0.870427 -0.808317  1.000000"
            ],
            "text/html": [
              "\n",
              "  <div id=\"df-12138a8e-b39d-45e9-8a27-0d0579489cbf\">\n",
              "    <div class=\"colab-df-container\">\n",
              "      <div>\n",
              "<style scoped>\n",
              "    .dataframe tbody tr th:only-of-type {\n",
              "        vertical-align: middle;\n",
              "    }\n",
              "\n",
              "    .dataframe tbody tr th {\n",
              "        vertical-align: top;\n",
              "    }\n",
              "\n",
              "    .dataframe thead th {\n",
              "        text-align: right;\n",
              "    }\n",
              "</style>\n",
              "<table border=\"1\" class=\"dataframe\">\n",
              "  <thead>\n",
              "    <tr style=\"text-align: right;\">\n",
              "      <th></th>\n",
              "      <th>kospi</th>\n",
              "      <th>kosdaq</th>\n",
              "      <th>usd</th>\n",
              "    </tr>\n",
              "  </thead>\n",
              "  <tbody>\n",
              "    <tr>\n",
              "      <th>kospi</th>\n",
              "      <td>1.000000</td>\n",
              "      <td>0.983361</td>\n",
              "      <td>-0.870427</td>\n",
              "    </tr>\n",
              "    <tr>\n",
              "      <th>kosdaq</th>\n",
              "      <td>0.983361</td>\n",
              "      <td>1.000000</td>\n",
              "      <td>-0.808317</td>\n",
              "    </tr>\n",
              "    <tr>\n",
              "      <th>usd</th>\n",
              "      <td>-0.870427</td>\n",
              "      <td>-0.808317</td>\n",
              "      <td>1.000000</td>\n",
              "    </tr>\n",
              "  </tbody>\n",
              "</table>\n",
              "</div>\n",
              "      <button class=\"colab-df-convert\" onclick=\"convertToInteractive('df-12138a8e-b39d-45e9-8a27-0d0579489cbf')\"\n",
              "              title=\"Convert this dataframe to an interactive table.\"\n",
              "              style=\"display:none;\">\n",
              "        \n",
              "  <svg xmlns=\"http://www.w3.org/2000/svg\" height=\"24px\"viewBox=\"0 0 24 24\"\n",
              "       width=\"24px\">\n",
              "    <path d=\"M0 0h24v24H0V0z\" fill=\"none\"/>\n",
              "    <path d=\"M18.56 5.44l.94 2.06.94-2.06 2.06-.94-2.06-.94-.94-2.06-.94 2.06-2.06.94zm-11 1L8.5 8.5l.94-2.06 2.06-.94-2.06-.94L8.5 2.5l-.94 2.06-2.06.94zm10 10l.94 2.06.94-2.06 2.06-.94-2.06-.94-.94-2.06-.94 2.06-2.06.94z\"/><path d=\"M17.41 7.96l-1.37-1.37c-.4-.4-.92-.59-1.43-.59-.52 0-1.04.2-1.43.59L10.3 9.45l-7.72 7.72c-.78.78-.78 2.05 0 2.83L4 21.41c.39.39.9.59 1.41.59.51 0 1.02-.2 1.41-.59l7.78-7.78 2.81-2.81c.8-.78.8-2.07 0-2.86zM5.41 20L4 18.59l7.72-7.72 1.47 1.35L5.41 20z\"/>\n",
              "  </svg>\n",
              "      </button>\n",
              "      \n",
              "  <style>\n",
              "    .colab-df-container {\n",
              "      display:flex;\n",
              "      flex-wrap:wrap;\n",
              "      gap: 12px;\n",
              "    }\n",
              "\n",
              "    .colab-df-convert {\n",
              "      background-color: #E8F0FE;\n",
              "      border: none;\n",
              "      border-radius: 50%;\n",
              "      cursor: pointer;\n",
              "      display: none;\n",
              "      fill: #1967D2;\n",
              "      height: 32px;\n",
              "      padding: 0 0 0 0;\n",
              "      width: 32px;\n",
              "    }\n",
              "\n",
              "    .colab-df-convert:hover {\n",
              "      background-color: #E2EBFA;\n",
              "      box-shadow: 0px 1px 2px rgba(60, 64, 67, 0.3), 0px 1px 3px 1px rgba(60, 64, 67, 0.15);\n",
              "      fill: #174EA6;\n",
              "    }\n",
              "\n",
              "    [theme=dark] .colab-df-convert {\n",
              "      background-color: #3B4455;\n",
              "      fill: #D2E3FC;\n",
              "    }\n",
              "\n",
              "    [theme=dark] .colab-df-convert:hover {\n",
              "      background-color: #434B5C;\n",
              "      box-shadow: 0px 1px 3px 1px rgba(0, 0, 0, 0.15);\n",
              "      filter: drop-shadow(0px 1px 2px rgba(0, 0, 0, 0.3));\n",
              "      fill: #FFFFFF;\n",
              "    }\n",
              "  </style>\n",
              "\n",
              "      <script>\n",
              "        const buttonEl =\n",
              "          document.querySelector('#df-12138a8e-b39d-45e9-8a27-0d0579489cbf button.colab-df-convert');\n",
              "        buttonEl.style.display =\n",
              "          google.colab.kernel.accessAllowed ? 'block' : 'none';\n",
              "\n",
              "        async function convertToInteractive(key) {\n",
              "          const element = document.querySelector('#df-12138a8e-b39d-45e9-8a27-0d0579489cbf');\n",
              "          const dataTable =\n",
              "            await google.colab.kernel.invokeFunction('convertToInteractive',\n",
              "                                                     [key], {});\n",
              "          if (!dataTable) return;\n",
              "\n",
              "          const docLinkHtml = 'Like what you see? Visit the ' +\n",
              "            '<a target=\"_blank\" href=https://colab.research.google.com/notebooks/data_table.ipynb>data table notebook</a>'\n",
              "            + ' to learn more about interactive tables.';\n",
              "          element.innerHTML = '';\n",
              "          dataTable['output_type'] = 'display_data';\n",
              "          await google.colab.output.renderOutput(dataTable, element);\n",
              "          const docLink = document.createElement('div');\n",
              "          docLink.innerHTML = docLinkHtml;\n",
              "          element.appendChild(docLink);\n",
              "        }\n",
              "      </script>\n",
              "    </div>\n",
              "  </div>\n",
              "  "
            ]
          },
          "metadata": {},
          "execution_count": 16
        }
      ]
    },
    {
      "cell_type": "markdown",
      "source": [
        "- kospi - kosdaq : 0.984 : 1과 가까우니 강한 양의 상관관계\n",
        "- kospi - usd : -0.876 : -1과 가까우니 강한 음의 상관관계"
      ],
      "metadata": {
        "id": "gH1XbY6sFaZ0"
      }
    },
    {
      "cell_type": "markdown",
      "source": [
        "# python API\n",
        "- application programing interface\n",
        "- api를 사용해서 데이터를 수집하는 것은 서비스에서 데이터를 제공하는 공식적인 방법으로 데이터 수집\n",
        "- naver api : papago api : 번역 서비스\n",
        "- naver api : 데이터 검색"
      ],
      "metadata": {
        "id": "hulrPVvB2pHw"
      }
    },
    {
      "cell_type": "code",
      "source": [
        "import pandas as pd\n",
        "import requests, json"
      ],
      "metadata": {
        "id": "CIyENkO4DvYp"
      },
      "execution_count": 17,
      "outputs": []
    },
    {
      "cell_type": "markdown",
      "source": [
        "### 1. APP 등록 > app_key(request_taken)\n",
        "- https://developers.naver.com"
      ],
      "metadata": {
        "id": "l9crZg7_3evh"
      }
    },
    {
      "cell_type": "code",
      "source": [
        "CLIENT_ID, CLIENT_SECRET = \"H1akhGoQFlDY73HdYN9C\", \"gFsbQsXEBs\""
      ],
      "metadata": {
        "id": "XMYyX6d83UtA"
      },
      "execution_count": 18,
      "outputs": []
    },
    {
      "cell_type": "markdown",
      "source": [
        "### 2. Naver API Documents 확인 > URL"
      ],
      "metadata": {
        "id": "N2TeQP4C38_L"
      }
    },
    {
      "cell_type": "code",
      "source": [
        "url = \"https://openapi.naver.com/v1/papago/n2mt\"\n",
        "text = \"파이썬은 너무 재미있습니다.\"\n",
        "params = {\n",
        "  \"source\" : \"ko\",\n",
        "  \"target\" : \"en\",\n",
        "  \"text\" : text,\n",
        "}\n",
        "headers = {\n",
        "  \"Content-Type\" : \"application/json\",\n",
        "  \"X-Naver-Client-Id\": CLIENT_ID,\n",
        "  \"X-Naver-Client-Secret\": CLIENT_SECRET, \n",
        "}"
      ],
      "metadata": {
        "id": "q5z1S1Ou37yy"
      },
      "execution_count": 43,
      "outputs": []
    },
    {
      "cell_type": "markdown",
      "source": [
        "### 3. request(url, app_key) > response(json) : JSON(str)\n",
        "- json.dumps()\n",
        "  - 인터넷 트래픽에서는 영문, 숫자, 특수문자만 사용가능\n",
        "  - 한글과 같은 문자를 인코딩(영문, 숫자, 특수문자)"
      ],
      "metadata": {
        "id": "Av--pwNA5szb"
      }
    },
    {
      "cell_type": "code",
      "source": [
        "params, json.dumps(params)"
      ],
      "metadata": {
        "colab": {
          "base_uri": "https://localhost:8080/"
        },
        "id": "od-CJas_5Dq3",
        "outputId": "75044246-6f34-4221-f0a0-fa89245daee0"
      },
      "execution_count": 44,
      "outputs": [
        {
          "output_type": "execute_result",
          "data": {
            "text/plain": [
              "({'source': 'ko', 'target': 'en', 'text': '파이썬은 너무 재미있습니다.'},\n",
              " '{\"source\": \"ko\", \"target\": \"en\", \"text\": \"\\\\ud30c\\\\uc774\\\\uc36c\\\\uc740 \\\\ub108\\\\ubb34 \\\\uc7ac\\\\ubbf8\\\\uc788\\\\uc2b5\\\\ub2c8\\\\ub2e4.\"}')"
            ]
          },
          "metadata": {},
          "execution_count": 44
        }
      ]
    },
    {
      "cell_type": "code",
      "source": [
        "response = requests.post(url, json.dumps(params), headers = headers)\n",
        "response, response.text, response.json()"
      ],
      "metadata": {
        "colab": {
          "base_uri": "https://localhost:8080/"
        },
        "id": "b9zDjfft6Fzf",
        "outputId": "f2cb21cd-3c9c-4263-b694-c10787fc74e6"
      },
      "execution_count": 50,
      "outputs": [
        {
          "output_type": "execute_result",
          "data": {
            "text/plain": [
              "(<Response [200]>,\n",
              " '{\"message\":{\"result\":{\"srcLangType\":\"ko\",\"tarLangType\":\"en\",\"translatedText\":\"Python is so much fun.\",\"engineType\":\"N2MT\",\"pivot\":null,\"dict\":null,\"tarDict\":null},\"@type\":\"response\",\"@service\":\"naverservice.nmt.proxy\",\"@version\":\"1.0.0\"}}',\n",
              " {'message': {'@service': 'naverservice.nmt.proxy',\n",
              "   '@type': 'response',\n",
              "   '@version': '1.0.0',\n",
              "   'result': {'dict': None,\n",
              "    'engineType': 'N2MT',\n",
              "    'pivot': None,\n",
              "    'srcLangType': 'ko',\n",
              "    'tarDict': None,\n",
              "    'tarLangType': 'en',\n",
              "    'translatedText': 'Python is so much fun.'}}})"
            ]
          },
          "metadata": {},
          "execution_count": 50
        }
      ]
    },
    {
      "cell_type": "markdown",
      "source": [
        "### 4. JSON(str) > list, dict > str"
      ],
      "metadata": {
        "id": "XpbXbAHR9mX0"
      }
    },
    {
      "cell_type": "code",
      "source": [
        "data = response.json()[\"message\"][\"result\"][\"translatedText\"]\n",
        "data"
      ],
      "metadata": {
        "colab": {
          "base_uri": "https://localhost:8080/",
          "height": 37
        },
        "id": "2aVKOwmV68sO",
        "outputId": "2b6d17a8-4cc3-41fe-b1fc-6a5086a42f31"
      },
      "execution_count": 51,
      "outputs": [
        {
          "output_type": "execute_result",
          "data": {
            "text/plain": [
              "'Python is so much fun.'"
            ],
            "application/vnd.google.colaboratory.intrinsic+json": {
              "type": "string"
            }
          },
          "metadata": {},
          "execution_count": 51
        }
      ]
    },
    {
      "cell_type": "markdown",
      "source": [
        "### 5. 함수 만들기"
      ],
      "metadata": {
        "id": "JXtSuEIB-Lul"
      }
    },
    {
      "cell_type": "code",
      "source": [
        "def translate_ko(text):\n",
        "  url = \"https://openapi.naver.com/v1/papago/n2mt\"\n",
        "  params = {\n",
        "    \"source\" : \"ko\",\n",
        "    \"target\" : \"en\",\n",
        "    \"text\" : text,\n",
        "  }\n",
        "  headers = {\n",
        "    \"Content-Type\" : \"application/json\",\n",
        "    \"X-Naver-Client-Id\": CLIENT_ID,\n",
        "    \"X-Naver-Client-Secret\": CLIENT_SECRET, \n",
        "  }\n",
        "  response = requests.post(url, json.dumps(params), headers = headers)\n",
        "  return response.json()[\"message\"][\"result\"][\"translatedText\"]"
      ],
      "metadata": {
        "id": "TfozWPl89IAa"
      },
      "execution_count": 52,
      "outputs": []
    },
    {
      "cell_type": "code",
      "source": [
        "translate_ko(\"복습은 재미있다.\")"
      ],
      "metadata": {
        "colab": {
          "base_uri": "https://localhost:8080/",
          "height": 37
        },
        "id": "jtzaHAzQ_agT",
        "outputId": "41cc0051-6027-4e8b-8162-f02dafe4261a"
      },
      "execution_count": 53,
      "outputs": [
        {
          "output_type": "execute_result",
          "data": {
            "text/plain": [
              "'Reviewing is fun.'"
            ],
            "application/vnd.google.colaboratory.intrinsic+json": {
              "type": "string"
            }
          },
          "metadata": {},
          "execution_count": 53
        }
      ]
    },
    {
      "cell_type": "markdown",
      "source": [
        "### 6. 한들 excel 파일을 영문 excel 파일로 변경\n",
        "- %ls\n",
        "  - 저장되어 있는 파일 확인\n",
        "- read_excel\n",
        "  - 저장되어 있는 excel 파일을 읽는다."
      ],
      "metadata": {
        "id": "ZzeAr4rx-fek"
      }
    },
    {
      "cell_type": "code",
      "source": [
        "%ls"
      ],
      "metadata": {
        "colab": {
          "base_uri": "https://localhost:8080/"
        },
        "id": "GOolJyNI_5m-",
        "outputId": "cff5c6b6-e474-4b26-e13f-ba15d171a7a7"
      },
      "execution_count": 55,
      "outputs": [
        {
          "output_type": "stream",
          "name": "stdout",
          "text": [
            "covid.xlsx  \u001b[0m\u001b[01;34msample_data\u001b[0m/\n"
          ]
        }
      ]
    },
    {
      "cell_type": "code",
      "source": [
        "# colab에서는 다시 실행하면 리셋되어서 확인하려면 파일 저장하고 실행해야 한다.\n",
        "covid = pd.read_excel(\"covid.xlsx\")[[\"category\",\"title\"]]\n",
        "covid.tail(3)"
      ],
      "metadata": {
        "colab": {
          "base_uri": "https://localhost:8080/",
          "height": 142
        },
        "id": "DUghRRXoAaqU",
        "outputId": "3be13306-d70b-4040-da18-273f363faa1f"
      },
      "execution_count": 68,
      "outputs": [
        {
          "output_type": "execute_result",
          "data": {
            "text/plain": [
              "   category                                title\n",
              "3       103            프로야구 수도권 구단서 코로나19 확진자 발생\n",
              "4       104    \"코로나 확진자 '0명'인 날은 절대 오지 않는다\" 美전문가\n",
              "5       104  올림픽 다가오는데 도쿄 코로나 확산 빨라져...일주일새 25％↑"
            ],
            "text/html": [
              "\n",
              "  <div id=\"df-adb1d72f-b33d-4825-adc2-4b7de62bcee8\">\n",
              "    <div class=\"colab-df-container\">\n",
              "      <div>\n",
              "<style scoped>\n",
              "    .dataframe tbody tr th:only-of-type {\n",
              "        vertical-align: middle;\n",
              "    }\n",
              "\n",
              "    .dataframe tbody tr th {\n",
              "        vertical-align: top;\n",
              "    }\n",
              "\n",
              "    .dataframe thead th {\n",
              "        text-align: right;\n",
              "    }\n",
              "</style>\n",
              "<table border=\"1\" class=\"dataframe\">\n",
              "  <thead>\n",
              "    <tr style=\"text-align: right;\">\n",
              "      <th></th>\n",
              "      <th>category</th>\n",
              "      <th>title</th>\n",
              "    </tr>\n",
              "  </thead>\n",
              "  <tbody>\n",
              "    <tr>\n",
              "      <th>3</th>\n",
              "      <td>103</td>\n",
              "      <td>프로야구 수도권 구단서 코로나19 확진자 발생</td>\n",
              "    </tr>\n",
              "    <tr>\n",
              "      <th>4</th>\n",
              "      <td>104</td>\n",
              "      <td>\"코로나 확진자 '0명'인 날은 절대 오지 않는다\" 美전문가</td>\n",
              "    </tr>\n",
              "    <tr>\n",
              "      <th>5</th>\n",
              "      <td>104</td>\n",
              "      <td>올림픽 다가오는데 도쿄 코로나 확산 빨라져...일주일새 25％↑</td>\n",
              "    </tr>\n",
              "  </tbody>\n",
              "</table>\n",
              "</div>\n",
              "      <button class=\"colab-df-convert\" onclick=\"convertToInteractive('df-adb1d72f-b33d-4825-adc2-4b7de62bcee8')\"\n",
              "              title=\"Convert this dataframe to an interactive table.\"\n",
              "              style=\"display:none;\">\n",
              "        \n",
              "  <svg xmlns=\"http://www.w3.org/2000/svg\" height=\"24px\"viewBox=\"0 0 24 24\"\n",
              "       width=\"24px\">\n",
              "    <path d=\"M0 0h24v24H0V0z\" fill=\"none\"/>\n",
              "    <path d=\"M18.56 5.44l.94 2.06.94-2.06 2.06-.94-2.06-.94-.94-2.06-.94 2.06-2.06.94zm-11 1L8.5 8.5l.94-2.06 2.06-.94-2.06-.94L8.5 2.5l-.94 2.06-2.06.94zm10 10l.94 2.06.94-2.06 2.06-.94-2.06-.94-.94-2.06-.94 2.06-2.06.94z\"/><path d=\"M17.41 7.96l-1.37-1.37c-.4-.4-.92-.59-1.43-.59-.52 0-1.04.2-1.43.59L10.3 9.45l-7.72 7.72c-.78.78-.78 2.05 0 2.83L4 21.41c.39.39.9.59 1.41.59.51 0 1.02-.2 1.41-.59l7.78-7.78 2.81-2.81c.8-.78.8-2.07 0-2.86zM5.41 20L4 18.59l7.72-7.72 1.47 1.35L5.41 20z\"/>\n",
              "  </svg>\n",
              "      </button>\n",
              "      \n",
              "  <style>\n",
              "    .colab-df-container {\n",
              "      display:flex;\n",
              "      flex-wrap:wrap;\n",
              "      gap: 12px;\n",
              "    }\n",
              "\n",
              "    .colab-df-convert {\n",
              "      background-color: #E8F0FE;\n",
              "      border: none;\n",
              "      border-radius: 50%;\n",
              "      cursor: pointer;\n",
              "      display: none;\n",
              "      fill: #1967D2;\n",
              "      height: 32px;\n",
              "      padding: 0 0 0 0;\n",
              "      width: 32px;\n",
              "    }\n",
              "\n",
              "    .colab-df-convert:hover {\n",
              "      background-color: #E2EBFA;\n",
              "      box-shadow: 0px 1px 2px rgba(60, 64, 67, 0.3), 0px 1px 3px 1px rgba(60, 64, 67, 0.15);\n",
              "      fill: #174EA6;\n",
              "    }\n",
              "\n",
              "    [theme=dark] .colab-df-convert {\n",
              "      background-color: #3B4455;\n",
              "      fill: #D2E3FC;\n",
              "    }\n",
              "\n",
              "    [theme=dark] .colab-df-convert:hover {\n",
              "      background-color: #434B5C;\n",
              "      box-shadow: 0px 1px 3px 1px rgba(0, 0, 0, 0.15);\n",
              "      filter: drop-shadow(0px 1px 2px rgba(0, 0, 0, 0.3));\n",
              "      fill: #FFFFFF;\n",
              "    }\n",
              "  </style>\n",
              "\n",
              "      <script>\n",
              "        const buttonEl =\n",
              "          document.querySelector('#df-adb1d72f-b33d-4825-adc2-4b7de62bcee8 button.colab-df-convert');\n",
              "        buttonEl.style.display =\n",
              "          google.colab.kernel.accessAllowed ? 'block' : 'none';\n",
              "\n",
              "        async function convertToInteractive(key) {\n",
              "          const element = document.querySelector('#df-adb1d72f-b33d-4825-adc2-4b7de62bcee8');\n",
              "          const dataTable =\n",
              "            await google.colab.kernel.invokeFunction('convertToInteractive',\n",
              "                                                     [key], {});\n",
              "          if (!dataTable) return;\n",
              "\n",
              "          const docLinkHtml = 'Like what you see? Visit the ' +\n",
              "            '<a target=\"_blank\" href=https://colab.research.google.com/notebooks/data_table.ipynb>data table notebook</a>'\n",
              "            + ' to learn more about interactive tables.';\n",
              "          element.innerHTML = '';\n",
              "          dataTable['output_type'] = 'display_data';\n",
              "          await google.colab.output.renderOutput(dataTable, element);\n",
              "          const docLink = document.createElement('div');\n",
              "          docLink.innerHTML = docLinkHtml;\n",
              "          element.appendChild(docLink);\n",
              "        }\n",
              "      </script>\n",
              "    </div>\n",
              "  </div>\n",
              "  "
            ]
          },
          "metadata": {},
          "execution_count": 68
        }
      ]
    },
    {
      "cell_type": "code",
      "source": [
        "# .apply() : 전부 한번씩 함수로 계산한다.\n",
        "covid_title_en = covid[\"title\"].apply(translate_ko)\n",
        "covid_title_en.tail(3)"
      ],
      "metadata": {
        "colab": {
          "base_uri": "https://localhost:8080/"
        },
        "id": "DQMiG5fSA5tB",
        "outputId": "f13c6a1b-2193-4591-bfe6-06a481692748"
      },
      "execution_count": 69,
      "outputs": [
        {
          "output_type": "execute_result",
          "data": {
            "text/plain": [
              "3    Covid-19 confirmed cases in professional baseb...\n",
              "4    \"The day when there are zero confirmed cases o...\n",
              "5    As the Olympics are approaching, the spread of...\n",
              "Name: title, dtype: object"
            ]
          },
          "metadata": {},
          "execution_count": 69
        }
      ]
    },
    {
      "cell_type": "code",
      "source": [
        "covid[\"title_en\"] = covid_title_en\n",
        "covid"
      ],
      "metadata": {
        "colab": {
          "base_uri": "https://localhost:8080/",
          "height": 235
        },
        "id": "-aduOLjLBr6C",
        "outputId": "59c202f4-d5b3-4605-97f1-973ea99fd0a9"
      },
      "execution_count": 70,
      "outputs": [
        {
          "output_type": "execute_result",
          "data": {
            "text/plain": [
              "   category                                title  \\\n",
              "0       101    SK바이오사이언스, 코로나19 백신 임상 3상 시험계획 제출   \n",
              "1       102             고양시 노래연습장 코로나19 누적확진 41명   \n",
              "2       103        코로나19 신규 감염, 28일 오후 9시까지 542명   \n",
              "3       103            프로야구 수도권 구단서 코로나19 확진자 발생   \n",
              "4       104    \"코로나 확진자 '0명'인 날은 절대 오지 않는다\" 美전문가   \n",
              "5       104  올림픽 다가오는데 도쿄 코로나 확산 빨라져...일주일새 25％↑   \n",
              "\n",
              "                                            title_en  \n",
              "0  SK Bioscience Submits Phase III Clinical Trial...  \n",
              "1  41 cumulative COVID-19 confirmed patients at G...  \n",
              "2  New COVID-19 infections, 542 people by 9 p.m. ...  \n",
              "3  Covid-19 confirmed cases in professional baseb...  \n",
              "4  \"The day when there are zero confirmed cases o...  \n",
              "5  As the Olympics are approaching, the spread of...  "
            ],
            "text/html": [
              "\n",
              "  <div id=\"df-67ef28e7-b48a-48bc-a31e-d4a448da690c\">\n",
              "    <div class=\"colab-df-container\">\n",
              "      <div>\n",
              "<style scoped>\n",
              "    .dataframe tbody tr th:only-of-type {\n",
              "        vertical-align: middle;\n",
              "    }\n",
              "\n",
              "    .dataframe tbody tr th {\n",
              "        vertical-align: top;\n",
              "    }\n",
              "\n",
              "    .dataframe thead th {\n",
              "        text-align: right;\n",
              "    }\n",
              "</style>\n",
              "<table border=\"1\" class=\"dataframe\">\n",
              "  <thead>\n",
              "    <tr style=\"text-align: right;\">\n",
              "      <th></th>\n",
              "      <th>category</th>\n",
              "      <th>title</th>\n",
              "      <th>title_en</th>\n",
              "    </tr>\n",
              "  </thead>\n",
              "  <tbody>\n",
              "    <tr>\n",
              "      <th>0</th>\n",
              "      <td>101</td>\n",
              "      <td>SK바이오사이언스, 코로나19 백신 임상 3상 시험계획 제출</td>\n",
              "      <td>SK Bioscience Submits Phase III Clinical Trial...</td>\n",
              "    </tr>\n",
              "    <tr>\n",
              "      <th>1</th>\n",
              "      <td>102</td>\n",
              "      <td>고양시 노래연습장 코로나19 누적확진 41명</td>\n",
              "      <td>41 cumulative COVID-19 confirmed patients at G...</td>\n",
              "    </tr>\n",
              "    <tr>\n",
              "      <th>2</th>\n",
              "      <td>103</td>\n",
              "      <td>코로나19 신규 감염, 28일 오후 9시까지 542명</td>\n",
              "      <td>New COVID-19 infections, 542 people by 9 p.m. ...</td>\n",
              "    </tr>\n",
              "    <tr>\n",
              "      <th>3</th>\n",
              "      <td>103</td>\n",
              "      <td>프로야구 수도권 구단서 코로나19 확진자 발생</td>\n",
              "      <td>Covid-19 confirmed cases in professional baseb...</td>\n",
              "    </tr>\n",
              "    <tr>\n",
              "      <th>4</th>\n",
              "      <td>104</td>\n",
              "      <td>\"코로나 확진자 '0명'인 날은 절대 오지 않는다\" 美전문가</td>\n",
              "      <td>\"The day when there are zero confirmed cases o...</td>\n",
              "    </tr>\n",
              "    <tr>\n",
              "      <th>5</th>\n",
              "      <td>104</td>\n",
              "      <td>올림픽 다가오는데 도쿄 코로나 확산 빨라져...일주일새 25％↑</td>\n",
              "      <td>As the Olympics are approaching, the spread of...</td>\n",
              "    </tr>\n",
              "  </tbody>\n",
              "</table>\n",
              "</div>\n",
              "      <button class=\"colab-df-convert\" onclick=\"convertToInteractive('df-67ef28e7-b48a-48bc-a31e-d4a448da690c')\"\n",
              "              title=\"Convert this dataframe to an interactive table.\"\n",
              "              style=\"display:none;\">\n",
              "        \n",
              "  <svg xmlns=\"http://www.w3.org/2000/svg\" height=\"24px\"viewBox=\"0 0 24 24\"\n",
              "       width=\"24px\">\n",
              "    <path d=\"M0 0h24v24H0V0z\" fill=\"none\"/>\n",
              "    <path d=\"M18.56 5.44l.94 2.06.94-2.06 2.06-.94-2.06-.94-.94-2.06-.94 2.06-2.06.94zm-11 1L8.5 8.5l.94-2.06 2.06-.94-2.06-.94L8.5 2.5l-.94 2.06-2.06.94zm10 10l.94 2.06.94-2.06 2.06-.94-2.06-.94-.94-2.06-.94 2.06-2.06.94z\"/><path d=\"M17.41 7.96l-1.37-1.37c-.4-.4-.92-.59-1.43-.59-.52 0-1.04.2-1.43.59L10.3 9.45l-7.72 7.72c-.78.78-.78 2.05 0 2.83L4 21.41c.39.39.9.59 1.41.59.51 0 1.02-.2 1.41-.59l7.78-7.78 2.81-2.81c.8-.78.8-2.07 0-2.86zM5.41 20L4 18.59l7.72-7.72 1.47 1.35L5.41 20z\"/>\n",
              "  </svg>\n",
              "      </button>\n",
              "      \n",
              "  <style>\n",
              "    .colab-df-container {\n",
              "      display:flex;\n",
              "      flex-wrap:wrap;\n",
              "      gap: 12px;\n",
              "    }\n",
              "\n",
              "    .colab-df-convert {\n",
              "      background-color: #E8F0FE;\n",
              "      border: none;\n",
              "      border-radius: 50%;\n",
              "      cursor: pointer;\n",
              "      display: none;\n",
              "      fill: #1967D2;\n",
              "      height: 32px;\n",
              "      padding: 0 0 0 0;\n",
              "      width: 32px;\n",
              "    }\n",
              "\n",
              "    .colab-df-convert:hover {\n",
              "      background-color: #E2EBFA;\n",
              "      box-shadow: 0px 1px 2px rgba(60, 64, 67, 0.3), 0px 1px 3px 1px rgba(60, 64, 67, 0.15);\n",
              "      fill: #174EA6;\n",
              "    }\n",
              "\n",
              "    [theme=dark] .colab-df-convert {\n",
              "      background-color: #3B4455;\n",
              "      fill: #D2E3FC;\n",
              "    }\n",
              "\n",
              "    [theme=dark] .colab-df-convert:hover {\n",
              "      background-color: #434B5C;\n",
              "      box-shadow: 0px 1px 3px 1px rgba(0, 0, 0, 0.15);\n",
              "      filter: drop-shadow(0px 1px 2px rgba(0, 0, 0, 0.3));\n",
              "      fill: #FFFFFF;\n",
              "    }\n",
              "  </style>\n",
              "\n",
              "      <script>\n",
              "        const buttonEl =\n",
              "          document.querySelector('#df-67ef28e7-b48a-48bc-a31e-d4a448da690c button.colab-df-convert');\n",
              "        buttonEl.style.display =\n",
              "          google.colab.kernel.accessAllowed ? 'block' : 'none';\n",
              "\n",
              "        async function convertToInteractive(key) {\n",
              "          const element = document.querySelector('#df-67ef28e7-b48a-48bc-a31e-d4a448da690c');\n",
              "          const dataTable =\n",
              "            await google.colab.kernel.invokeFunction('convertToInteractive',\n",
              "                                                     [key], {});\n",
              "          if (!dataTable) return;\n",
              "\n",
              "          const docLinkHtml = 'Like what you see? Visit the ' +\n",
              "            '<a target=\"_blank\" href=https://colab.research.google.com/notebooks/data_table.ipynb>data table notebook</a>'\n",
              "            + ' to learn more about interactive tables.';\n",
              "          element.innerHTML = '';\n",
              "          dataTable['output_type'] = 'display_data';\n",
              "          await google.colab.output.renderOutput(dataTable, element);\n",
              "          const docLink = document.createElement('div');\n",
              "          docLink.innerHTML = docLinkHtml;\n",
              "          element.appendChild(docLink);\n",
              "        }\n",
              "      </script>\n",
              "    </div>\n",
              "  </div>\n",
              "  "
            ]
          },
          "metadata": {},
          "execution_count": 70
        }
      ]
    },
    {
      "cell_type": "code",
      "source": [
        "# utf-8-sig : excel 에서 사용하는 인코딩 방식과 호환이 되는 utf-8 인코딩 방식\n",
        "covid.to_excel(\"covid_title_en.xlsx\", index = False, encoding = \"utf-8-sig\")"
      ],
      "metadata": {
        "id": "GkfQBpvxC1Bs"
      },
      "execution_count": 72,
      "outputs": []
    },
    {
      "cell_type": "code",
      "source": [
        "%ls"
      ],
      "metadata": {
        "colab": {
          "base_uri": "https://localhost:8080/"
        },
        "id": "cIavQN9gFwvA",
        "outputId": "b52df08e-b4b4-48a0-925d-88d2ca6bec18"
      },
      "execution_count": 73,
      "outputs": [
        {
          "output_type": "stream",
          "name": "stdout",
          "text": [
            "covid_title_en.xlsx  covid.xlsx  \u001b[0m\u001b[01;34msample_data\u001b[0m/\n"
          ]
        }
      ]
    },
    {
      "cell_type": "markdown",
      "source": [
        "# 알쓸코드\n",
        "- %ls\n",
        "  - 파일 무엇이 있는지 확인\n",
        "- utf-8-sig\n",
        "  - excel에서 사용하는 인코딩 방식과 호환이 되는 utf-8 인코딩 방식\n",
        "- %%time\n",
        "  - 코드 실행 시간을 알려준다.\n",
        "- global\n",
        "  - 지역영역에서 전역영역에 있는 변수를 가져올때 사용하는 명령어\n",
        "- lambda\n",
        "  - 간단하게 바로 실행하고 사라지는 함수\n",
        "- .corr()\n",
        "  - 피어슨 상관계수\n",
        "    - 1과 가까울수록 강한 양의 상관관계\n",
        "    - -1과 가까울수록 강한 음의 상관관계\n",
        "    - 0과 가까울수록 관계가 없다.\n",
        "- copy()\n",
        "  - 데이터를 복사할 때 사용한다.\n",
        "  - 깊은 복사 (call by value)\n",
        "- .apply()\n",
        "  - 모든 데이터를 함수에 대입한 결과를 출력\n",
        "- .dtypes\n",
        "  - type을 알려준다.\n",
        "- .head()\n",
        "  - 앞에 몇가지만 가져와서 보여준다.\n",
        "- .tail()\n",
        "  - 뒤에 몇가지만 가져와서 보여준다."
      ],
      "metadata": {
        "id": "JJitdIf6GCsZ"
      }
    },
    {
      "cell_type": "code",
      "source": [
        ""
      ],
      "metadata": {
        "id": "5iizFrZnJBtV"
      },
      "execution_count": null,
      "outputs": []
    }
  ],
  "metadata": {
    "colab": {
      "collapsed_sections": [
        "ZLqxbGjLhZaZ",
        "7v1xXBpTjyC-",
        "nREqkMlkl_su"
      ],
      "name": "python.ipynb",
      "provenance": [],
      "toc_visible": true,
      "authorship_tag": "ABX9TyOAbEa4H7LLThJAe+C6lSTF",
      "include_colab_link": true
    },
    "kernelspec": {
      "display_name": "Python 3",
      "name": "python3"
    },
    "language_info": {
      "name": "python"
    }
  },
  "nbformat": 4,
  "nbformat_minor": 0
}