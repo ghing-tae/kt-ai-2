{
  "nbformat": 4,
  "nbformat_minor": 0,
  "metadata": {
    "colab": {
      "name": "python 라이브러리.ipynb",
      "provenance": [],
      "collapsed_sections": [],
      "authorship_tag": "ABX9TyPac/TgyB+kAO5s5phhywmr",
      "include_colab_link": true
    },
    "kernelspec": {
      "name": "python3",
      "display_name": "Python 3"
    },
    "language_info": {
      "name": "python"
    }
  },
  "cells": [
    {
      "cell_type": "markdown",
      "metadata": {
        "id": "view-in-github",
        "colab_type": "text"
      },
      "source": [
        "<a href=\"https://colab.research.google.com/github/ghing-tae/kt-ai-2/blob/master/python_%EB%9D%BC%EC%9D%B4%EB%B8%8C%EB%9F%AC%EB%A6%AC.ipynb\" target=\"_parent\"><img src=\"https://colab.research.google.com/assets/colab-badge.svg\" alt=\"Open In Colab\"/></a>"
      ]
    },
    {
      "cell_type": "markdown",
      "source": [
        "## python과 알고리즘 문제 정리\n",
        "*   네 정수의 최댓값 구하기"
      ],
      "metadata": {
        "id": "ZLqxbGjLhZaZ"
      }
    },
    {
      "cell_type": "code",
      "source": [
        "def max4(a, b, c, d):\n",
        "  maximum = a\n",
        "  if b > maximum:\n",
        "    maximum = b\n",
        "  if c > maximum:\n",
        "    maximum = c\n",
        "  if d > maximum:\n",
        "    maximum = d\n",
        "  return maximum\n",
        "\n",
        "print('네 정수의 최댓값을 구합니다. ')\n",
        "a = int(input('정수 a값을 입력하세요. : '))\n",
        "b = int(input('정수 b값을 입력하세요. : '))\n",
        "c = int(input('정수 c값을 입력하세요. : '))\n",
        "d = int(input('정수 d값을 입력하세요. : '))\n",
        "print(f'최댓값 : {max4(a,b,c,d)}')"
      ],
      "metadata": {
        "colab": {
          "base_uri": "https://localhost:8080/"
        },
        "id": "FRaWxtdLhniG",
        "outputId": "6546db9d-811c-4709-bd94-616c3a6ad2d1"
      },
      "execution_count": null,
      "outputs": [
        {
          "output_type": "stream",
          "name": "stdout",
          "text": [
            "네 정수의 최댓값을 구합니다. \n"
          ]
        }
      ]
    },
    {
      "cell_type": "markdown",
      "source": [
        "*   a부터 b까지 정수의 합을 구합니다."
      ],
      "metadata": {
        "id": "yIh37GYHhuGh"
      }
    },
    {
      "cell_type": "code",
      "source": [
        "print('a부터 b까지 정수의 합을 구합니다. ')\n",
        "\n",
        "def sum_ab(a,b):\n",
        "  sum_ab = 0\n",
        "  if a > b:\n",
        "    a,b = b,a\n",
        "  for i in range(a,b+1):\n",
        "    sum_ab += i\n",
        "  return sum_ab\n",
        "\n",
        "a = int(input('a의 값을 입력하세요. : '))\n",
        "b = int(input('b의 값을 입력하세요. : '))\n",
        "print(f'정수의 합은 : {sum_ab(a,b)}')"
      ],
      "metadata": {
        "id": "4SeRazBchqSw"
      },
      "execution_count": null,
      "outputs": []
    },
    {
      "cell_type": "markdown",
      "source": [
        "*   *를 출력하는 코드를 작성하세요."
      ],
      "metadata": {
        "id": "B4cVB_Eeh3Gy"
      }
    },
    {
      "cell_type": "code",
      "source": [
        "print('*를 출력합니다.')\n",
        "def ch_prt(a,b):\n",
        "  for _ in range(a//b):\n",
        "    for _ in range(b):\n",
        "      print('*', end='')\n",
        "    print()\n",
        "  print('*'*(a%b))\n",
        "a = int(input('몇 개를 출력할까요? : '))\n",
        "b = int(input('몇 개마다 줄바꿈을 할까요? : '))\n",
        "ch_prt(a,b)"
      ],
      "metadata": {
        "id": "xcpEXlsoh4Bv"
      },
      "execution_count": null,
      "outputs": []
    },
    {
      "cell_type": "markdown",
      "source": [
        "*   1부터 n까지 정수의 합을 구하시오. (무한루프와 break를 사용) "
      ],
      "metadata": {
        "id": "NFlAdCthh98W"
      }
    },
    {
      "cell_type": "code",
      "source": [
        "print('1부터 n까지 정수의 합을 구합니다.')\n",
        "def n_sum(a):\n",
        "  while 1:   \n",
        "    if a > 0:\n",
        "      break\n",
        "    a = int(input('n의 값을 입력하세요. : '))\n",
        "  sum_n = 0\n",
        "  for i in range(1,a+1):\n",
        "    sum_n += i\n",
        "  return sum_n\n",
        "n = int(input('n의 값을 입력하세요. : '))\n",
        "print(f'정수의 합은 : {n_sum(n)}')"
      ],
      "metadata": {
        "id": "hFJUSlQ1iBtQ"
      },
      "execution_count": null,
      "outputs": []
    },
    {
      "cell_type": "markdown",
      "source": [
        "*   직사각형의 넓이를 입력받으면 가로와 세로를 구하는 함수를 작성하세요. (중복되는 것 없이 출력되게 하시오)"
      ],
      "metadata": {
        "id": "Q8RLN71tiF93"
      }
    },
    {
      "cell_type": "code",
      "source": [
        "n = int(input('직사각형의 넓이를 적으세요. : '))\n",
        "def area(n):\n",
        "  for i in range(1,n+1):\n",
        "    if i * i > n:break\n",
        "    if n % i:continue\n",
        "    print(f'{i} * {n//i}')\n",
        "area(n)"
      ],
      "metadata": {
        "id": "pNiWq2CAiKJE"
      },
      "execution_count": null,
      "outputs": []
    },
    {
      "cell_type": "markdown",
      "source": [
        "- 1차원 배열 만들기"
      ],
      "metadata": {
        "id": "rSFZKcv2Pn1C"
      }
    },
    {
      "cell_type": "code",
      "source": [
        "# 1차원 리스트\n",
        "a1 = [1,2,3,4,5]\n",
        "\n",
        "# 배열로 변환\n",
        "b1 = np.array(a1)\n",
        "\n",
        "# 확인\n",
        "print(a1)\n",
        "print(b1)"
      ],
      "metadata": {
        "colab": {
          "base_uri": "https://localhost:8080/"
        },
        "id": "mHnX3QrMPmGo",
        "outputId": "704deee2-0346-4c9a-d1fb-c16761c4b336"
      },
      "execution_count": null,
      "outputs": [
        {
          "output_type": "stream",
          "name": "stdout",
          "text": [
            "[1, 2, 3, 4, 5]\n",
            "[1 2 3 4 5]\n"
          ]
        }
      ]
    },
    {
      "cell_type": "markdown",
      "source": [
        "- 2차원 배열 만들기"
      ],
      "metadata": {
        "id": "ng1W-VUwWs3a"
      }
    },
    {
      "cell_type": "code",
      "source": [
        "# 2차원 리스트\n",
        "a2 =[[1.5, 2.5, 3.2],[4.2, 5.7, 6.4]]\n",
        "\n",
        "# 배열로 변환\n",
        "b2 = np.array(a2)\n",
        "\n",
        "# 확인\n",
        "print(a2)\n",
        "print(b2)"
      ],
      "metadata": {
        "colab": {
          "base_uri": "https://localhost:8080/"
        },
        "id": "G-oWS39ZWqcq",
        "outputId": "7e40eaea-7126-4ccc-b285-3d9c75f15116"
      },
      "execution_count": null,
      "outputs": [
        {
          "output_type": "stream",
          "name": "stdout",
          "text": [
            "[[1.5, 2.5, 3.2], [4.2, 5.7, 6.4]]\n",
            "[[1.5 2.5 3.2]\n",
            " [4.2 5.7 6.4]]\n"
          ]
        }
      ]
    },
    {
      "cell_type": "markdown",
      "source": [
        "- 3차원 배열 만들기"
      ],
      "metadata": {
        "id": "-cGjEnwvXGGZ"
      }
    },
    {
      "cell_type": "code",
      "source": [
        "# 3차원 리스트\n",
        "a3 = [[[1,2,3,],[4,7,6],[8,3,4]],[[6, 2, 4],[8,1,5],[3,5,9]]]\n",
        "# 배열로 변환\n",
        "b3 = np.array(a3)\n",
        "# 확인\n",
        "print(b3)"
      ],
      "metadata": {
        "colab": {
          "base_uri": "https://localhost:8080/"
        },
        "id": "cZrPAu3dXCg0",
        "outputId": "4e03568a-c90e-46f6-bf05-15b5c0f4caab"
      },
      "execution_count": null,
      "outputs": [
        {
          "output_type": "stream",
          "name": "stdout",
          "text": [
            "[[[1 2 3]\n",
            "  [4 7 6]\n",
            "  [8 3 4]]\n",
            "\n",
            " [[6 2 4]\n",
            "  [8 1 5]\n",
            "  [3 5 9]]]\n"
          ]
        }
      ]
    },
    {
      "cell_type": "markdown",
      "source": [
        "1. 차원 확인\n",
        "- ndim 속성으로 배열 차원을 확인합니다."
      ],
      "metadata": {
        "id": "jNWAcQM1X6Vp"
      }
    },
    {
      "cell_type": "code",
      "source": [
        "# 차원 확인\n",
        "print(b1.ndim)\n",
        "print(b2.ndim)\n",
        "print(b3.ndim)"
      ],
      "metadata": {
        "colab": {
          "base_uri": "https://localhost:8080/"
        },
        "id": "ebY36mhkXlbf",
        "outputId": "7846a70f-c31f-4e02-ab86-51d84bfdf194"
      },
      "execution_count": null,
      "outputs": [
        {
          "output_type": "stream",
          "name": "stdout",
          "text": [
            "1\n",
            "2\n",
            "3\n"
          ]
        }
      ]
    },
    {
      "cell_type": "markdown",
      "source": [
        "2. 형태(크기) 확인\n",
        "- shape 속성으로 배열 형태를 확인합니다.\n",
        "- 결과는 다음과 같은 형태의 튜블로 표시됩니다.\n",
        "  - 1차원 : (x,)\n",
        "  - 2차원 : (x,y)\n",
        "  - 3차원 : (x,y,z)\n",
        "- 앞에서 부터 axis 0, axis 1, axis 2의 크기를 의미합니다."
      ],
      "metadata": {
        "id": "vnCFMDbnYTSF"
      }
    },
    {
      "cell_type": "code",
      "source": [
        "# 형태(크기) 확인\n",
        "print(b1.shape)\n",
        "print(b2.shape)\n",
        "print(b3.shape)"
      ],
      "metadata": {
        "colab": {
          "base_uri": "https://localhost:8080/"
        },
        "id": "gHbvtFBIYR31",
        "outputId": "0e7c437f-2a31-46da-9a14-d1fd06ae85d9"
      },
      "execution_count": null,
      "outputs": [
        {
          "output_type": "stream",
          "name": "stdout",
          "text": [
            "(5,)\n",
            "(2, 3)\n",
            "(2, 3, 3)\n"
          ]
        }
      ]
    },
    {
      "cell_type": "markdown",
      "source": [
        "3. 요소 자료형 확인\n",
        "- dtype 속성으로 배열에 포함된 요소들의 자료형을 확인합니다.\n",
        "- 배열은 한 가지 자료형만 가질 수 있다는 특징이 있습니다."
      ],
      "metadata": {
        "id": "6_zoS0wpY307"
      }
    },
    {
      "cell_type": "code",
      "source": [
        "# 요소 자료형 확인\n",
        "print(b1.dtype)\n",
        "print(b2.dtype)\n",
        "print(b3.dtype)"
      ],
      "metadata": {
        "colab": {
          "base_uri": "https://localhost:8080/"
        },
        "id": "HNpIpIl4Y24A",
        "outputId": "eac9f876-40dc-4476-f844-a49f3e0f37c6"
      },
      "execution_count": null,
      "outputs": [
        {
          "output_type": "stream",
          "name": "stdout",
          "text": [
            "int64\n",
            "float64\n",
            "int64\n"
          ]
        }
      ]
    },
    {
      "cell_type": "markdown",
      "source": [
        "### 연습문제\n",
        "- numpy 라이브러리를 np 별칭을 주어 불러오세요.\n",
        "- 데이터를 갖는 1차원 배열을 만든 후 ndim,shape,dtype을 확인해 보세요.\n",
        "  - c1 = np.array([10, 11, 12, 13, 14, 15])\n",
        "- 다음에 주어진 리스트를 요소로 갖는 2차원 배열을 만든 후 ndim,shape,dtype을 확인해 보세요.\n",
        "  - a = [[11, 12, 13, 14], [15, 16, 17, 18], [19, 20, 21, 22]]"
      ],
      "metadata": {
        "id": "9D8xoEfXZNpu"
      }
    },
    {
      "cell_type": "code",
      "source": [
        "import numpy as np"
      ],
      "metadata": {
        "id": "yLN_jv_dZKxD"
      },
      "execution_count": null,
      "outputs": []
    },
    {
      "cell_type": "code",
      "source": [
        "c1 = np.array([10,11,12,13,14,15])\n",
        "print(c1.ndim)\n",
        "print(c1.shape)\n",
        "print(c1.dtype)"
      ],
      "metadata": {
        "colab": {
          "base_uri": "https://localhost:8080/"
        },
        "id": "btmO1PXkZ4y8",
        "outputId": "289f252e-05da-4e88-a346-e871c23508be"
      },
      "execution_count": null,
      "outputs": [
        {
          "output_type": "stream",
          "name": "stdout",
          "text": [
            "1\n",
            "(6,)\n",
            "int64\n"
          ]
        }
      ]
    },
    {
      "cell_type": "code",
      "source": [
        "a = np.array([[11,12,13,14],[15,16,17,18],[19,20,21,22]])\n",
        "print(a.ndim)\n",
        "print(a.shape)\n",
        "print(a.dtype)"
      ],
      "metadata": {
        "colab": {
          "base_uri": "https://localhost:8080/"
        },
        "id": "yhnl9fMzaCcO",
        "outputId": "b017c5fd-aef9-466b-d03d-c7e013663e3d"
      },
      "execution_count": null,
      "outputs": [
        {
          "output_type": "stream",
          "name": "stdout",
          "text": [
            "2\n",
            "(3, 4)\n",
            "int64\n"
          ]
        }
      ]
    },
    {
      "cell_type": "markdown",
      "source": [
        "- Reshape\n",
        "  - 배열에 포함된 요소가 사라지지 않는 형태라면 자유롭게 변환할 수 있습니다."
      ],
      "metadata": {
        "id": "D4IvQShbalzF"
      }
    },
    {
      "cell_type": "code",
      "source": [
        "# import numpy as np\n",
        "a.reshape(2,-1)"
      ],
      "metadata": {
        "colab": {
          "base_uri": "https://localhost:8080/"
        },
        "id": "keBgTMbdaHId",
        "outputId": "79480a48-5c5a-4700-d659-0305379805dc"
      },
      "execution_count": null,
      "outputs": [
        {
          "output_type": "execute_result",
          "data": {
            "text/plain": [
              "array([[11, 12, 13, 14, 15, 16],\n",
              "       [17, 18, 19, 20, 21, 22]])"
            ]
          },
          "metadata": {},
          "execution_count": 13
        }
      ]
    },
    {
      "cell_type": "markdown",
      "source": [
        "### [참조] 3차원 배열(이미지 데이터셋)\n",
        "- 보통 이미지 데이터는 3차원 배열로 구성하고 처리합니다.\n",
        "- 여기서는 3차원 배열 데이터를 간단히 만들고 내용을 살짝 조회해 보겠습니다."
      ],
      "metadata": {
        "id": "5gG_eLJAbheo"
      }
    },
    {
      "cell_type": "code",
      "source": [
        "import matplotlib.pyplot as plt\n",
        "np.set_printoptions(linewidth=np.inf)"
      ],
      "metadata": {
        "id": "Xsr-4OGQbuww"
      },
      "execution_count": null,
      "outputs": []
    },
    {
      "cell_type": "code",
      "source": [
        "# 데이터 가져와서 3차원으로 구성하기\n",
        "data = np.genfromtxt('https://raw.githubusercontent.com/DA4BAM/dataset/master/mnist_sample.csv', delimiter=',', skip_header = 1)\n",
        "d3 = data.reshape(-1,28,28) # 28*28 데이터 n개"
      ],
      "metadata": {
        "id": "SVM1gfJtbLEK"
      },
      "execution_count": null,
      "outputs": []
    },
    {
      "cell_type": "code",
      "source": [
        "d3.shape"
      ],
      "metadata": {
        "colab": {
          "base_uri": "https://localhost:8080/"
        },
        "id": "6r3PWDxRcYRf",
        "outputId": "de5cf052-9fb1-4d00-fe5b-0f43e1373459"
      },
      "execution_count": null,
      "outputs": [
        {
          "output_type": "execute_result",
          "data": {
            "text/plain": [
              "(100, 28, 28)"
            ]
          },
          "metadata": {},
          "execution_count": 16
        }
      ]
    },
    {
      "cell_type": "code",
      "source": [
        "# 3차원 데이터에서 첫번째 인덱스로 2차원 데이터 조회해오기\n",
        "# 아래 숫자를 조정하며 확인해 봅시다.\n",
        "n = 56\n",
        "display(d3[n])\n",
        "\n",
        "plt.imshow(d3[n])\n",
        "plt.show()"
      ],
      "metadata": {
        "colab": {
          "base_uri": "https://localhost:8080/",
          "height": 1000
        },
        "id": "CXyraPBxcbfo",
        "outputId": "4a2f09d7-bbcc-42b7-bbdb-d17ab48d6a7c"
      },
      "execution_count": null,
      "outputs": [
        {
          "output_type": "display_data",
          "data": {
            "text/plain": [
              "array([[  0.,   0.,   0.,   0.,   0.,   0.,   0.,   0.,   0.,   0.,   0.,   0.,   0.,   0.,   0.,   0.,   0.,   0.,   0.,   0.,   0.,   0.,   0.,   0.,   0.,   0.,   0.,   0.],\n",
              "       [  0.,   0.,   0.,   0.,   0.,   0.,   0.,   0.,   0.,   0.,   0.,   0.,   0.,   0.,   0.,   0.,   0.,   0.,   0.,   0.,   0.,   0.,   0.,   0.,   0.,   0.,   0.,   0.],\n",
              "       [  0.,   0.,   0.,   0.,   0.,   0.,   0.,   0.,   0.,   0.,   0.,   0.,   0.,   0.,   0.,   0.,   0.,   0.,   0.,   0.,   0.,   0.,   0.,   0.,   0.,   0.,   0.,   0.],\n",
              "       [  0.,   0.,   0.,   0.,   0.,   0.,   0.,   0.,   0.,   0.,   0.,   0.,   0.,   0.,   0.,   0.,   0.,   0.,   0.,   0.,   0.,   0.,   0.,   0.,   0.,   0.,   0.,   0.],\n",
              "       [  0.,   0.,   0.,   0.,   0.,   0.,   0.,   0.,   0.,   0.,   0.,   0.,   0.,   0.,   0.,   0.,   0.,   0.,   0.,   0.,   0.,   0.,   0.,   0.,   0.,   0.,   0.,   0.],\n",
              "       [  0.,   0.,   0.,   0.,   0.,   0.,   0.,   0.,  92., 253., 141.,   0.,   0.,   0.,   0.,   0.,   0.,   0.,   0.,   0.,   0.,   0.,   0.,   0.,   0.,   0.,   0.,   0.],\n",
              "       [  0.,   0.,   0.,   0.,   0.,   0.,   0.,  19., 196., 252., 241.,  24.,   0.,   0.,   0.,   0.,   0.,   0.,   0.,   0., 147., 225.,  97.,   0.,   0.,   0.,   0.,   0.],\n",
              "       [  0.,   0.,   0.,   0.,   0.,   0.,   0.,  57., 252., 252., 253.,  27.,   0.,   0.,   0.,   0.,   0.,   0.,   0.,  32., 253., 252., 195.,   0.,   0.,   0.,   0.,   0.],\n",
              "       [  0.,   0.,   0.,   0.,   0.,   0.,   0.,  57., 252., 252., 178.,   9.,   0.,   0.,   0.,   0.,   0.,   0.,   0., 140., 253., 252., 102.,   0.,   0.,   0.,   0.,   0.],\n",
              "       [  0.,   0.,   0.,   0.,   0.,   0.,   0.,  57., 252., 252., 140.,   0.,   0.,   0.,   0.,   0.,   0.,   0.,  16., 203., 253., 252.,  55.,   0.,   0.,   0.,   0.,   0.],\n",
              "       [  0.,   0.,   0.,   0.,   0.,   0.,   0., 120., 253., 253., 141.,   0.,   0.,   0.,   0.,   0.,   0.,   0.,  29., 253., 255., 215.,  31.,   0.,   0.,   0.,   0.,   0.],\n",
              "       [  0.,   0.,   0.,   0.,   0.,   0.,   0., 197., 252., 252., 140.,   0.,   0.,   0.,   0.,   0.,   0.,   0.,  29., 252., 253.,  42.,   0.,   0.,   0.,   0.,   0.,   0.],\n",
              "       [  0.,   0.,   0.,   0.,   0.,   0.,   0., 197., 252., 252.,  31.,   0.,   0.,   0.,   0.,   0.,   0.,  13.,  79., 252., 253.,  27.,   0.,   0.,   0.,   0.,   0.,   0.],\n",
              "       [  0.,   0.,   0.,   0.,   0.,   0.,  57., 234., 252., 236.,   0.,   0.,   0.,   0.,   0.,   0.,   0.,  57., 252., 252., 178.,   9.,   0.,   0.,   0.,   0.,   0.,   0.],\n",
              "       [  0.,   0.,   0.,   0.,   0.,   0.,  85., 252., 252., 189., 141., 140., 140., 140., 140.,  79.,  48., 165., 252., 252., 140.,   0.,   0.,   0.,   0.,   0.,   0.,   0.],\n",
              "       [  0.,   0.,   0.,   0.,   0.,   0.,  86., 253., 253., 253., 255., 253., 253., 253., 253., 255., 253., 253., 253., 253., 141.,   0.,   0.,   0.,   0.,   0.,   0.,   0.],\n",
              "       [  0.,   0.,   0.,   0.,   0.,   0.,  57., 233., 252., 252., 253., 252., 252., 242., 214., 215., 243., 252., 252., 252., 140.,   0.,   0.,   0.,   0.,   0.,   0.,   0.],\n",
              "       [  0.,   0.,   0.,   0.,   0.,   0.,   0.,  75., 195., 195.,  56.,  55.,  55.,  49.,  31.,  31.,  50., 209., 252., 220.,  31.,   0.,   0.,   0.,   0.,   0.,   0.,   0.],\n",
              "       [  0.,   0.,   0.,   0.,   0.,   0.,   0.,   0.,   0.,   0.,   0.,   0.,   0.,   0.,   0.,   0.,  73., 234., 252., 112.,   0.,   0.,   0.,   0.,   0.,   0.,   0.,   0.],\n",
              "       [  0.,   0.,   0.,   0.,   0.,   0.,   0.,   0.,   0.,   0.,   0.,   0.,   0.,   0.,   0.,   0., 225., 252., 252., 112.,   0.,   0.,   0.,   0.,   0.,   0.,   0.,   0.],\n",
              "       [  0.,   0.,   0.,   0.,   0.,   0.,   0.,   0.,   0.,   0.,   0.,   0.,   0.,   0.,   0.,   0., 226., 253., 253., 112.,   0.,   0.,   0.,   0.,   0.,   0.,   0.,   0.],\n",
              "       [  0.,   0.,   0.,   0.,   0.,   0.,   0.,   0.,   0.,   0.,   0.,   0.,   0.,   0.,   0., 101., 249., 252., 242.,  74.,   0.,   0.,   0.,   0.,   0.,   0.,   0.,   0.],\n",
              "       [  0.,   0.,   0.,   0.,   0.,   0.,   0.,   0.,   0.,   0.,   0.,   0.,   0.,   0.,   0., 113., 252., 252., 246.,  88.,   0.,   0.,   0.,   0.,   0.,   0.,   0.,   0.],\n",
              "       [  0.,   0.,   0.,   0.,   0.,   0.,   0.,   0.,   0.,   0.,   0.,   0.,   0.,   0.,   0.,  38., 234., 252., 154.,  99.,   0.,   0.,   0.,   0.,   0.,   0.,   0.,   0.],\n",
              "       [  0.,   0.,   0.,   0.,   0.,   0.,   0.,   0.,   0.,   0.,   0.,   0.,   0.,   0.,   0.,   0., 146., 252.,  84.,   0.,   0.,   0.,   0.,   0.,   0.,   0.,   0.,   0.],\n",
              "       [  0.,   0.,   0.,   0.,   0.,   0.,   0.,   0.,   0.,   0.,   0.,   0.,   0.,   0.,   0.,   0.,   0.,   0.,   0.,   0.,   0.,   0.,   0.,   0.,   0.,   0.,   0.,   0.],\n",
              "       [  0.,   0.,   0.,   0.,   0.,   0.,   0.,   0.,   0.,   0.,   0.,   0.,   0.,   0.,   0.,   0.,   0.,   0.,   0.,   0.,   0.,   0.,   0.,   0.,   0.,   0.,   0.,   0.],\n",
              "       [  0.,   0.,   0.,   0.,   0.,   0.,   0.,   0.,   0.,   0.,   0.,   0.,   0.,   0.,   0.,   0.,   0.,   0.,   0.,   0.,   0.,   0.,   0.,   0.,   0.,   0.,   0.,   0.]])"
            ]
          },
          "metadata": {}
        },
        {
          "output_type": "display_data",
          "data": {
            "text/plain": [
              "<Figure size 432x288 with 1 Axes>"
            ],
            "image/png": "[encoded data removed]"
          },
          "metadata": {
            "needs_background": "light"
          }
        }
      ]
    },
    {
      "cell_type": "markdown",
      "source": [
        "### 연습문제\n",
        "- 주어진 배열을 이용하여 다음 결과를 얻도록 문제를 푸시오.\n",
        "  - a = np.array([[11,12,13,14,],[15,16,17,18],[19,20,21,22]])\n",
        "- [문1] 16\n",
        "- [문2] [19 20 21 22]\n",
        "- [문3] [13 17 21]\n",
        "- [문4] [16 22]\n",
        "- [문5] [[16 17 20 21]]"
      ],
      "metadata": {
        "id": "fyhY-7gxdBJZ"
      }
    },
    {
      "cell_type": "code",
      "source": [
        "import numpy as np\n",
        "a = np.array([[11,12,13,14,],[15,16,17,18],[19,20,21,22]])\n",
        "print(a[1,1])\n",
        "print(a[2,:])\n",
        "print(a[:,2])\n",
        "print(a[[1,2],[1,3]])\n",
        "print(a[1:3,1:3])"
      ],
      "metadata": {
        "colab": {
          "base_uri": "https://localhost:8080/"
        },
        "id": "NblJkLnqcuPu",
        "outputId": "f6ec866b-8053-4642-cb9f-ac0a347b7868"
      },
      "execution_count": null,
      "outputs": [
        {
          "output_type": "stream",
          "name": "stdout",
          "text": [
            "16\n",
            "[19 20 21 22]\n",
            "[13 17 21]\n",
            "[16 22]\n",
            "[[16 17]\n",
            " [20 21]]\n"
          ]
        }
      ]
    },
    {
      "cell_type": "markdown",
      "source": [
        "- 조건 조회\n",
        "  - 조건에 맞는 요소를 선택하는 방식이며, 블리안 방식이라고 부릅니다."
      ],
      "metadata": {
        "id": "p35fyqNPhCPf"
      }
    },
    {
      "cell_type": "code",
      "source": [
        "# 2차원 배열 만들기\n",
        "score = np.array([[78,91,84,89,93,65],[82,87,96,79,91,73]])\n",
        "print(score)"
      ],
      "metadata": {
        "colab": {
          "base_uri": "https://localhost:8080/"
        },
        "id": "n8QezbPChAxB",
        "outputId": "cfc3e940-4ad0-4adc-e13f-9d46661bfe85"
      },
      "execution_count": null,
      "outputs": [
        {
          "output_type": "stream",
          "name": "stdout",
          "text": [
            "[[78 91 84 89 93 65]\n",
            " [82 87 96 79 91 73]]\n"
          ]
        }
      ]
    },
    {
      "cell_type": "code",
      "source": [
        "# 조건문 : 결과는 True, False\n",
        "score >= 90"
      ],
      "metadata": {
        "colab": {
          "base_uri": "https://localhost:8080/"
        },
        "id": "jgFkrICigAHh",
        "outputId": "23ad5a56-ca10-4b61-8d8d-91b9458f2656"
      },
      "execution_count": null,
      "outputs": [
        {
          "output_type": "execute_result",
          "data": {
            "text/plain": [
              "array([[False,  True, False, False,  True, False],\n",
              "       [False, False,  True, False,  True, False]])"
            ]
          },
          "metadata": {},
          "execution_count": 23
        }
      ]
    },
    {
      "cell_type": "code",
      "source": [
        "# 요소 중에서 90 이상인 것만 조회\n",
        "print(score[score >= 90])"
      ],
      "metadata": {
        "colab": {
          "base_uri": "https://localhost:8080/"
        },
        "id": "x00OZa74hjgm",
        "outputId": "44f2262a-0f93-40b9-9357-f6a09b229966"
      },
      "execution_count": null,
      "outputs": [
        {
          "output_type": "stream",
          "name": "stdout",
          "text": [
            "[91 93 96 91]\n"
          ]
        }
      ]
    },
    {
      "cell_type": "markdown",
      "source": [
        "- np.argmax(), np.argmin()\n",
        "  - 전체에서 최대값과 최소값의 인덱스\n"
      ],
      "metadata": {
        "id": "TwqnD5TZiE6L"
      }
    },
    {
      "cell_type": "code",
      "source": [
        "print(score)\n",
        "print(np.argmax(score))\n",
        "print(np.argmin(score))\n",
        "print(np.argmax(score, axis = 0))\n",
        "print(np.argmax(score, axis=1))"
      ],
      "metadata": {
        "colab": {
          "base_uri": "https://localhost:8080/"
        },
        "id": "mOBNic7Qhz6Y",
        "outputId": "2b7d3996-de84-4c00-dae4-64deadba8530"
      },
      "execution_count": null,
      "outputs": [
        {
          "output_type": "stream",
          "name": "stdout",
          "text": [
            "[[78 91 84 89 93 65]\n",
            " [82 87 96 79 91 73]]\n",
            "8\n",
            "5\n",
            "[1 0 1 0 0 1]\n",
            "[4 2]\n"
          ]
        }
      ]
    },
    {
      "cell_type": "markdown",
      "source": [
        "- np.where(조건문, 참일때 값, 거짓일때 값)"
      ],
      "metadata": {
        "id": "TjpPWh3Di1TF"
      }
    },
    {
      "cell_type": "code",
      "source": [
        "np.where(score > 90, 1 , score)"
      ],
      "metadata": {
        "colab": {
          "base_uri": "https://localhost:8080/"
        },
        "id": "OrKEDCffim2T",
        "outputId": "f51c3f33-7d42-4192-a884-1ada7a95b986"
      },
      "execution_count": null,
      "outputs": [
        {
          "output_type": "execute_result",
          "data": {
            "text/plain": [
              "array([[78,  1, 84, 89,  1, 65],\n",
              "       [82, 87,  1, 79,  1, 73]])"
            ]
          },
          "metadata": {},
          "execution_count": 26
        }
      ]
    },
    {
      "cell_type": "markdown",
      "source": [
        "- np.linspace(시작값, 끝값, 사이 값 갯수)"
      ],
      "metadata": {
        "id": "vPhlpwWwjJPl"
      }
    },
    {
      "cell_type": "code",
      "source": [
        "# 0.1 ~ 10, 100개 값을 만들어 봅니다.\n",
        "np.linspace(0.1,10,100)"
      ],
      "metadata": {
        "colab": {
          "base_uri": "https://localhost:8080/"
        },
        "id": "EcfJs47QjHOw",
        "outputId": "e8d9bb35-f43e-423e-f073-28407b1882ca"
      },
      "execution_count": null,
      "outputs": [
        {
          "output_type": "execute_result",
          "data": {
            "text/plain": [
              "array([ 0.1,  0.2,  0.3,  0.4,  0.5,  0.6,  0.7,  0.8,  0.9,  1. ,  1.1,  1.2,  1.3,  1.4,  1.5,  1.6,  1.7,  1.8,  1.9,  2. ,  2.1,  2.2,  2.3,  2.4,  2.5,  2.6,  2.7,  2.8,  2.9,  3. ,  3.1,  3.2,  3.3,  3.4,  3.5,  3.6,  3.7,  3.8,  3.9,  4. ,  4.1,  4.2,  4.3,  4.4,  4.5,  4.6,  4.7,  4.8,  4.9,  5. ,  5.1,  5.2,  5.3,  5.4,  5.5,  5.6,  5.7,  5.8,  5.9,  6. ,  6.1,  6.2,  6.3,  6.4,  6.5,  6.6,  6.7,  6.8,  6.9,  7. ,  7.1,  7.2,  7.3,  7.4,  7.5,  7.6,  7.7,  7.8,  7.9,  8. ,  8.1,  8.2,  8.3,  8.4,  8.5,  8.6,  8.7,  8.8,  8.9,  9. ,  9.1,  9.2,  9.3,  9.4,  9.5,  9.6,  9.7,  9.8,  9.9, 10. ])"
            ]
          },
          "metadata": {},
          "execution_count": 28
        }
      ]
    },
    {
      "cell_type": "code",
      "execution_count": null,
      "metadata": {
        "id": "VCCWcNvFOLs_"
      },
      "outputs": [],
      "source": [
        "# 넘파이 라이브러리 불러오기\n",
        "import numpy as np"
      ]
    },
    {
      "cell_type": "markdown",
      "source": [
        "# python 라이브러리"
      ],
      "metadata": {
        "id": "jijzfeAmgyyJ"
      }
    },
    {
      "cell_type": "markdown",
      "source": [
        "## 넘파이 기초\n",
        "\n",
        "\n",
        "- 라이브러리 불러오기"
      ],
      "metadata": {
        "id": "p4PeB-VuOleQ"
      }
    },
    {
      "cell_type": "markdown",
      "source": [
        "## 판다스 데이터프레임 생성\n",
        "- 라이브러리 불러오기"
      ],
      "metadata": {
        "id": "7v1xXBpTjyC-"
      }
    },
    {
      "cell_type": "code",
      "source": [
        "# 라이브러리 불러오기\n",
        "import pandas as pd"
      ],
      "metadata": {
        "id": "SIZRYOJijacC"
      },
      "execution_count": null,
      "outputs": []
    },
    {
      "cell_type": "markdown",
      "source": [
        "- 딕셔너리로 만들기"
      ],
      "metadata": {
        "id": "fb4BONzlkrE8"
      }
    },
    {
      "cell_type": "code",
      "source": [
        "# 딕셔너리 만들기\n",
        "dict = {'Name': ['Gildong', 'Sarang', 'Jiemae', 'Yeoin'],\n",
        "        'Level': ['Gold', 'Bronze', 'Silver', 'Gold'],\n",
        "        'Score': [56000, 23000, 44000, 52000]}\n",
        "\n",
        "# 확인\n",
        "print(dict)"
      ],
      "metadata": {
        "colab": {
          "base_uri": "https://localhost:8080/"
        },
        "id": "DwgRMboKki_e",
        "outputId": "5fb64962-64f0-4a32-bfc1-1fe1503ad775"
      },
      "execution_count": null,
      "outputs": [
        {
          "output_type": "stream",
          "name": "stdout",
          "text": [
            "{'Name': ['Gildong', 'Sarang', 'Jiemae', 'Yeoin'], 'Level': ['Gold', 'Bronze', 'Silver', 'Gold'], 'Score': [56000, 23000, 44000, 52000]}\n"
          ]
        }
      ]
    },
    {
      "cell_type": "code",
      "source": [
        "# 데이터프레임 만들기\n",
        "df = pd.DataFrame(dict)\n",
        "\n",
        "# 확인\n",
        "print(df.head()) # head의 default : 5"
      ],
      "metadata": {
        "colab": {
          "base_uri": "https://localhost:8080/"
        },
        "id": "5nR_kVH3kwOL",
        "outputId": "a00269f7-3c35-4f42-b4af-b56c4122f5d5"
      },
      "execution_count": null,
      "outputs": [
        {
          "output_type": "stream",
          "name": "stdout",
          "text": [
            "      Name   Level  Score\n",
            "0  Gildong    Gold  56000\n",
            "1   Sarang  Bronze  23000\n",
            "2   Jiemae  Silver  44000\n",
            "3    Yeoin    Gold  52000\n"
          ]
        }
      ]
    },
    {
      "cell_type": "markdown",
      "source": [
        "- CSV파일 읽어오기\n",
        "  - read_csv() 함수를 사용하여 CSV 파일에서 데이터를 읽어옵니다."
      ],
      "metadata": {
        "id": "f2jNHy5alIot"
      }
    },
    {
      "cell_type": "code",
      "source": [
        "# 데이터 읽어오기\n",
        "path = 'https://raw.githubusercontent.com/DA4BAM/dataset/master/titanic_simple.csv'\n",
        "data = pd.read_csv(path)\n",
        "\n",
        "# 상위 10행만 확인\n",
        "data.head(10)"
      ],
      "metadata": {
        "colab": {
          "base_uri": "https://localhost:8080/",
          "height": 879
        },
        "id": "_8EX57Ukk_03",
        "outputId": "75ba8199-8691-41b7-e12c-fb4fd657c3fb"
      },
      "execution_count": null,
      "outputs": [
        {
          "output_type": "execute_result",
          "data": {
            "text/plain": [
              "   PassengerId  Survived  Pclass  \\\n",
              "0            1         0       3   \n",
              "1            2         1       1   \n",
              "2            3         1       3   \n",
              "3            4         1       1   \n",
              "4            5         0       3   \n",
              "5            6         0       3   \n",
              "6            7         0       1   \n",
              "7            8         0       3   \n",
              "8            9         1       3   \n",
              "9           10         1       2   \n",
              "\n",
              "                                                Name     Sex   Age     Fare  \\\n",
              "0                            Braund, Mr. Owen Harris    male  22.0   7.2500   \n",
              "1  Cumings, Mrs. John Bradley (Florence Briggs Th...  female  38.0  71.2833   \n",
              "2                             Heikkinen, Miss. Laina  female  26.0   7.9250   \n",
              "3       Futrelle, Mrs. Jacques Heath (Lily May Peel)  female  35.0  53.1000   \n",
              "4                           Allen, Mr. William Henry    male  35.0   8.0500   \n",
              "5                                   Moran, Mr. James    male   NaN   8.4583   \n",
              "6                            McCarthy, Mr. Timothy J    male  54.0  51.8625   \n",
              "7                     Palsson, Master. Gosta Leonard    male   2.0  21.0750   \n",
              "8  Johnson, Mrs. Oscar W (Elisabeth Vilhelmina Berg)  female  27.0  11.1333   \n",
              "9                Nasser, Mrs. Nicholas (Adele Achem)  female  14.0  30.0708   \n",
              "\n",
              "       Embarked  \n",
              "0  Southhampton  \n",
              "1     Cherbourg  \n",
              "2  Southhampton  \n",
              "3  Southhampton  \n",
              "4  Southhampton  \n",
              "5    Queenstown  \n",
              "6  Southhampton  \n",
              "7  Southhampton  \n",
              "8  Southhampton  \n",
              "9     Cherbourg  "
            ],
            "text/html": [
              "\n",
              "  <div id=\"df-bd2a3471-b7ae-406d-bb09-ab597caa31a7\">\n",
              "    <div class=\"colab-df-container\">\n",
              "      <div>\n",
              "<style scoped>\n",
              "    .dataframe tbody tr th:only-of-type {\n",
              "        vertical-align: middle;\n",
              "    }\n",
              "\n",
              "    .dataframe tbody tr th {\n",
              "        vertical-align: top;\n",
              "    }\n",
              "\n",
              "    .dataframe thead th {\n",
              "        text-align: right;\n",
              "    }\n",
              "</style>\n",
              "<table border=\"1\" class=\"dataframe\">\n",
              "  <thead>\n",
              "    <tr style=\"text-align: right;\">\n",
              "      <th></th>\n",
              "      <th>PassengerId</th>\n",
              "      <th>Survived</th>\n",
              "      <th>Pclass</th>\n",
              "      <th>Name</th>\n",
              "      <th>Sex</th>\n",
              "      <th>Age</th>\n",
              "      <th>Fare</th>\n",
              "      <th>Embarked</th>\n",
              "    </tr>\n",
              "  </thead>\n",
              "  <tbody>\n",
              "    <tr>\n",
              "      <th>0</th>\n",
              "      <td>1</td>\n",
              "      <td>0</td>\n",
              "      <td>3</td>\n",
              "      <td>Braund, Mr. Owen Harris</td>\n",
              "      <td>male</td>\n",
              "      <td>22.0</td>\n",
              "      <td>7.2500</td>\n",
              "      <td>Southhampton</td>\n",
              "    </tr>\n",
              "    <tr>\n",
              "      <th>1</th>\n",
              "      <td>2</td>\n",
              "      <td>1</td>\n",
              "      <td>1</td>\n",
              "      <td>Cumings, Mrs. John Bradley (Florence Briggs Th...</td>\n",
              "      <td>female</td>\n",
              "      <td>38.0</td>\n",
              "      <td>71.2833</td>\n",
              "      <td>Cherbourg</td>\n",
              "    </tr>\n",
              "    <tr>\n",
              "      <th>2</th>\n",
              "      <td>3</td>\n",
              "      <td>1</td>\n",
              "      <td>3</td>\n",
              "      <td>Heikkinen, Miss. Laina</td>\n",
              "      <td>female</td>\n",
              "      <td>26.0</td>\n",
              "      <td>7.9250</td>\n",
              "      <td>Southhampton</td>\n",
              "    </tr>\n",
              "    <tr>\n",
              "      <th>3</th>\n",
              "      <td>4</td>\n",
              "      <td>1</td>\n",
              "      <td>1</td>\n",
              "      <td>Futrelle, Mrs. Jacques Heath (Lily May Peel)</td>\n",
              "      <td>female</td>\n",
              "      <td>35.0</td>\n",
              "      <td>53.1000</td>\n",
              "      <td>Southhampton</td>\n",
              "    </tr>\n",
              "    <tr>\n",
              "      <th>4</th>\n",
              "      <td>5</td>\n",
              "      <td>0</td>\n",
              "      <td>3</td>\n",
              "      <td>Allen, Mr. William Henry</td>\n",
              "      <td>male</td>\n",
              "      <td>35.0</td>\n",
              "      <td>8.0500</td>\n",
              "      <td>Southhampton</td>\n",
              "    </tr>\n",
              "    <tr>\n",
              "      <th>5</th>\n",
              "      <td>6</td>\n",
              "      <td>0</td>\n",
              "      <td>3</td>\n",
              "      <td>Moran, Mr. James</td>\n",
              "      <td>male</td>\n",
              "      <td>NaN</td>\n",
              "      <td>8.4583</td>\n",
              "      <td>Queenstown</td>\n",
              "    </tr>\n",
              "    <tr>\n",
              "      <th>6</th>\n",
              "      <td>7</td>\n",
              "      <td>0</td>\n",
              "      <td>1</td>\n",
              "      <td>McCarthy, Mr. Timothy J</td>\n",
              "      <td>male</td>\n",
              "      <td>54.0</td>\n",
              "      <td>51.8625</td>\n",
              "      <td>Southhampton</td>\n",
              "    </tr>\n",
              "    <tr>\n",
              "      <th>7</th>\n",
              "      <td>8</td>\n",
              "      <td>0</td>\n",
              "      <td>3</td>\n",
              "      <td>Palsson, Master. Gosta Leonard</td>\n",
              "      <td>male</td>\n",
              "      <td>2.0</td>\n",
              "      <td>21.0750</td>\n",
              "      <td>Southhampton</td>\n",
              "    </tr>\n",
              "    <tr>\n",
              "      <th>8</th>\n",
              "      <td>9</td>\n",
              "      <td>1</td>\n",
              "      <td>3</td>\n",
              "      <td>Johnson, Mrs. Oscar W (Elisabeth Vilhelmina Berg)</td>\n",
              "      <td>female</td>\n",
              "      <td>27.0</td>\n",
              "      <td>11.1333</td>\n",
              "      <td>Southhampton</td>\n",
              "    </tr>\n",
              "    <tr>\n",
              "      <th>9</th>\n",
              "      <td>10</td>\n",
              "      <td>1</td>\n",
              "      <td>2</td>\n",
              "      <td>Nasser, Mrs. Nicholas (Adele Achem)</td>\n",
              "      <td>female</td>\n",
              "      <td>14.0</td>\n",
              "      <td>30.0708</td>\n",
              "      <td>Cherbourg</td>\n",
              "    </tr>\n",
              "  </tbody>\n",
              "</table>\n",
              "</div>\n",
              "      <button class=\"colab-df-convert\" onclick=\"convertToInteractive('df-bd2a3471-b7ae-406d-bb09-ab597caa31a7')\"\n",
              "              title=\"Convert this dataframe to an interactive table.\"\n",
              "              style=\"display:none;\">\n",
              "        \n",
              "  <svg xmlns=\"http://www.w3.org/2000/svg\" height=\"24px\"viewBox=\"0 0 24 24\"\n",
              "       width=\"24px\">\n",
              "    <path d=\"M0 0h24v24H0V0z\" fill=\"none\"/>\n",
              "    <path d=\"M18.56 5.44l.94 2.06.94-2.06 2.06-.94-2.06-.94-.94-2.06-.94 2.06-2.06.94zm-11 1L8.5 8.5l.94-2.06 2.06-.94-2.06-.94L8.5 2.5l-.94 2.06-2.06.94zm10 10l.94 2.06.94-2.06 2.06-.94-2.06-.94-.94-2.06-.94 2.06-2.06.94z\"/><path d=\"M17.41 7.96l-1.37-1.37c-.4-.4-.92-.59-1.43-.59-.52 0-1.04.2-1.43.59L10.3 9.45l-7.72 7.72c-.78.78-.78 2.05 0 2.83L4 21.41c.39.39.9.59 1.41.59.51 0 1.02-.2 1.41-.59l7.78-7.78 2.81-2.81c.8-.78.8-2.07 0-2.86zM5.41 20L4 18.59l7.72-7.72 1.47 1.35L5.41 20z\"/>\n",
              "  </svg>\n",
              "      </button>\n",
              "      \n",
              "  <style>\n",
              "    .colab-df-container {\n",
              "      display:flex;\n",
              "      flex-wrap:wrap;\n",
              "      gap: 12px;\n",
              "    }\n",
              "\n",
              "    .colab-df-convert {\n",
              "      background-color: #E8F0FE;\n",
              "      border: none;\n",
              "      border-radius: 50%;\n",
              "      cursor: pointer;\n",
              "      display: none;\n",
              "      fill: #1967D2;\n",
              "      height: 32px;\n",
              "      padding: 0 0 0 0;\n",
              "      width: 32px;\n",
              "    }\n",
              "\n",
              "    .colab-df-convert:hover {\n",
              "      background-color: #E2EBFA;\n",
              "      box-shadow: 0px 1px 2px rgba(60, 64, 67, 0.3), 0px 1px 3px 1px rgba(60, 64, 67, 0.15);\n",
              "      fill: #174EA6;\n",
              "    }\n",
              "\n",
              "    [theme=dark] .colab-df-convert {\n",
              "      background-color: #3B4455;\n",
              "      fill: #D2E3FC;\n",
              "    }\n",
              "\n",
              "    [theme=dark] .colab-df-convert:hover {\n",
              "      background-color: #434B5C;\n",
              "      box-shadow: 0px 1px 3px 1px rgba(0, 0, 0, 0.15);\n",
              "      filter: drop-shadow(0px 1px 2px rgba(0, 0, 0, 0.3));\n",
              "      fill: #FFFFFF;\n",
              "    }\n",
              "  </style>\n",
              "\n",
              "      <script>\n",
              "        const buttonEl =\n",
              "          document.querySelector('#df-bd2a3471-b7ae-406d-bb09-ab597caa31a7 button.colab-df-convert');\n",
              "        buttonEl.style.display =\n",
              "          google.colab.kernel.accessAllowed ? 'block' : 'none';\n",
              "\n",
              "        async function convertToInteractive(key) {\n",
              "          const element = document.querySelector('#df-bd2a3471-b7ae-406d-bb09-ab597caa31a7');\n",
              "          const dataTable =\n",
              "            await google.colab.kernel.invokeFunction('convertToInteractive',\n",
              "                                                     [key], {});\n",
              "          if (!dataTable) return;\n",
              "\n",
              "          const docLinkHtml = 'Like what you see? Visit the ' +\n",
              "            '<a target=\"_blank\" href=https://colab.research.google.com/notebooks/data_table.ipynb>data table notebook</a>'\n",
              "            + ' to learn more about interactive tables.';\n",
              "          element.innerHTML = '';\n",
              "          dataTable['output_type'] = 'display_data';\n",
              "          await google.colab.output.renderOutput(dataTable, element);\n",
              "          const docLink = document.createElement('div');\n",
              "          docLink.innerHTML = docLinkHtml;\n",
              "          element.appendChild(docLink);\n",
              "        }\n",
              "      </script>\n",
              "    </div>\n",
              "  </div>\n",
              "  "
            ]
          },
          "metadata": {},
          "execution_count": 33
        }
      ]
    },
    {
      "cell_type": "markdown",
      "source": [
        "## python으로 딕셔너리 생성\n",
        "  - 아래 값으로 딕셔너리 d를 생성해 봅시다.\n",
        "\n",
        "|key |value|\n",
        "|----|----|\n",
        "|v1 |[1,2,3]|\n",
        "|v2 |{'a':23, 'b':[4,5]}|"
      ],
      "metadata": {
        "id": "nREqkMlkl_su"
      }
    },
    {
      "cell_type": "code",
      "source": [
        "d = {'v1': [1,2,3], 'v2':{'a':23,'b':[4,5]}}\n",
        "d"
      ],
      "metadata": {
        "colab": {
          "base_uri": "https://localhost:8080/"
        },
        "id": "CAS2nj-Ilqs4",
        "outputId": "06e6477a-0574-43c4-ffe1-99b4ebe6e1d5"
      },
      "execution_count": null,
      "outputs": [
        {
          "output_type": "execute_result",
          "data": {
            "text/plain": [
              "{'v1': [1, 2, 3], 'v2': {'a': 23, 'b': [4, 5]}}"
            ]
          },
          "metadata": {},
          "execution_count": 51
        }
      ]
    },
    {
      "cell_type": "markdown",
      "source": [
        "- [문1] d에서 [1,2,3]을 출력해 봅시다.\n",
        "- [문2] d에서 23을 출력해 봅시다.\n",
        "- [문3] d에서 5를 출력해 봅시다.\n",
        "- [문4] d에 key 'newKey', value (1,2) 를 추가하고 출력해봅시다."
      ],
      "metadata": {
        "id": "oNFr4lPonHXv"
      }
    },
    {
      "cell_type": "code",
      "source": [
        "print(d['v1'])\n",
        "print(d['v2']['a'])\n",
        "print(d['v2']['b'][1])"
      ],
      "metadata": {
        "colab": {
          "base_uri": "https://localhost:8080/"
        },
        "id": "Dz9cpr_Ym_Tn",
        "outputId": "12e4cfed-1c1f-4975-a942-cbcea7817f63"
      },
      "execution_count": null,
      "outputs": [
        {
          "output_type": "stream",
          "name": "stdout",
          "text": [
            "[1, 2, 3]\n",
            "23\n",
            "5\n"
          ]
        }
      ]
    },
    {
      "cell_type": "code",
      "source": [
        "d['newKey'] = (1,2)\n",
        "print(d)"
      ],
      "metadata": {
        "colab": {
          "base_uri": "https://localhost:8080/"
        },
        "id": "bHvc6gLooJ9m",
        "outputId": "461df28e-01c1-42e0-896b-f0704a646d31"
      },
      "execution_count": null,
      "outputs": [
        {
          "output_type": "stream",
          "name": "stdout",
          "text": [
            "{'v1': [1, 2, 3], 'v2': {'a': 23, 'b': [4, 5]}, 'newKey': (1, 2)}\n"
          ]
        }
      ]
    }
  ]
}